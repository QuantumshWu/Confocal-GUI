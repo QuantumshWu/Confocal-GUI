{
 "cells": [
  {
   "cell_type": "code",
   "execution_count": 7,
   "id": "65bb2827",
   "metadata": {},
   "outputs": [
    {
     "ename": "ImportError",
     "evalue": "cannot import name 'GUI' from 'Confocal_GUI.logic' (D:\\Dropbox\\WorkCode\\Github\\Confocal-GUI\\src\\Confocal_GUI\\logic\\__init__.py)",
     "output_type": "error",
     "traceback": [
      "\u001b[1;31m---------------------------------------------------------------------------\u001b[0m",
      "\u001b[1;31mImportError\u001b[0m                               Traceback (most recent call last)",
      "\u001b[1;32m~\\AppData\\Local\\Temp/ipykernel_8916/130334775.py\u001b[0m in \u001b[0;36m<module>\u001b[1;34m\u001b[0m\n\u001b[0;32m      3\u001b[0m \u001b[0msys\u001b[0m\u001b[1;33m.\u001b[0m\u001b[0mpath\u001b[0m\u001b[1;33m.\u001b[0m\u001b[0mappend\u001b[0m\u001b[1;33m(\u001b[0m\u001b[0mos\u001b[0m\u001b[1;33m.\u001b[0m\u001b[0mpath\u001b[0m\u001b[1;33m.\u001b[0m\u001b[0mabspath\u001b[0m\u001b[1;33m(\u001b[0m\u001b[1;34m\"../src\"\u001b[0m\u001b[1;33m)\u001b[0m\u001b[1;33m)\u001b[0m\u001b[1;33m\u001b[0m\u001b[1;33m\u001b[0m\u001b[0m\n\u001b[0;32m      4\u001b[0m \u001b[1;32mfrom\u001b[0m \u001b[0mConfocal_GUI\u001b[0m\u001b[1;33m.\u001b[0m\u001b[0mlive_plot\u001b[0m \u001b[1;32mimport\u001b[0m \u001b[0mchange_to_inline\u001b[0m\u001b[1;33m,\u001b[0m \u001b[0mchange_to_nbagg\u001b[0m\u001b[1;33m,\u001b[0m \u001b[0menable_long_output\u001b[0m\u001b[1;33m\u001b[0m\u001b[1;33m\u001b[0m\u001b[0m\n\u001b[1;32m----> 5\u001b[1;33m \u001b[1;32mfrom\u001b[0m \u001b[0mConfocal_GUI\u001b[0m\u001b[1;33m.\u001b[0m\u001b[0mlogic\u001b[0m \u001b[1;32mimport\u001b[0m \u001b[0mple\u001b[0m\u001b[1;33m,\u001b[0m \u001b[0mpl\u001b[0m\u001b[1;33m,\u001b[0m \u001b[0modmr\u001b[0m\u001b[1;33m,\u001b[0m \u001b[0mlive\u001b[0m\u001b[1;33m,\u001b[0m \u001b[0mGUI\u001b[0m\u001b[1;33m\u001b[0m\u001b[1;33m\u001b[0m\u001b[0m\n\u001b[0m\u001b[0;32m      6\u001b[0m \u001b[1;32mfrom\u001b[0m \u001b[0mConfocal_GUI\u001b[0m\u001b[1;33m.\u001b[0m\u001b[0mdevice\u001b[0m \u001b[1;32mimport\u001b[0m \u001b[0mVirtualScanner\u001b[0m\u001b[1;33m,\u001b[0m \u001b[0mVirtualCounter\u001b[0m\u001b[1;33m,\u001b[0m \u001b[0mVirtualWaveMeter\u001b[0m\u001b[1;33m,\u001b[0m \u001b[0mVirtualRF\u001b[0m\u001b[0;31m\\\u001b[0m\u001b[1;33m\u001b[0m\u001b[1;33m\u001b[0m\u001b[0m\n\u001b[0;32m      7\u001b[0m \u001b[1;33m,\u001b[0m \u001b[0mVirtualLaserStabilizer\u001b[0m\u001b[1;33m,\u001b[0m \u001b[0minitialize_classes\u001b[0m\u001b[1;33m,\u001b[0m \u001b[0mVirtualPulse\u001b[0m\u001b[1;33m\u001b[0m\u001b[1;33m\u001b[0m\u001b[0m\n",
      "\u001b[1;31mImportError\u001b[0m: cannot import name 'GUI' from 'Confocal_GUI.logic' (D:\\Dropbox\\WorkCode\\Github\\Confocal-GUI\\src\\Confocal_GUI\\logic\\__init__.py)"
     ]
    }
   ],
   "source": [
    "import sys\n",
    "import os\n",
    "sys.path.append(os.path.abspath(\"../src\"))\n",
    "from Confocal_GUI.live_plot import change_to_inline, change_to_nbagg, enable_long_output\n",
    "from Confocal_GUI.logic import ple, pl, odmr, live, GUI\n",
    "from Confocal_GUI.device import VirtualScanner, VirtualCounter, VirtualWaveMeter, VirtualRF\\\n",
    ", VirtualLaserStabilizer, initialize_classes, VirtualPulse\n",
    "import numpy as np\n",
    "import matplotlib\n",
    "import matplotlib.pyplot as plt\n",
    "\n",
    "%load_ext autoreload\n",
    "%autoreload 2"
   ]
  },
  {
   "cell_type": "code",
   "execution_count": 2,
   "id": "07bb10e1",
   "metadata": {},
   "outputs": [
    {
     "name": "stdout",
     "output_type": "stream",
     "text": [
      "scanner => <Confocal_GUI.device.base.VirtualScanner object at 0x000002098BCB8248>\n",
      "counter => <Confocal_GUI.device.base.VirtualCounter object at 0x000002098BCB82C8>\n",
      "wavemeter => <Confocal_GUI.device.base.VirtualWaveMeter object at 0x000002098BCB8308>\n",
      "rf => <Confocal_GUI.device.base.VirtualRF object at 0x000002098BCB8388>\n",
      "pulse => <Confocal_GUI.device.base.VirtualPulse object at 0x000002098BCB83C8>\n",
      "laser_stabilizer => <Confocal_GUI.device.base.VirtualLaserStabilizer object at 0x000002098BCB8488>\n",
      "\n",
      "Now you can call devices using e.g. config_instances[\"rf\"].gui() or rf.gui()\n"
     ]
    }
   ],
   "source": [
    "# initialize all classes and functions, bind them to devices wanted\n",
    "\n",
    "# make sure that GUI() can output fig to jupyter notebook cell without being scrolled\n",
    "\n",
    "config = {\n",
    "    \n",
    "    'scanner': {'type': 'VirtualScanner'},    \n",
    "    'counter': {'type': 'VirtualCounter'},    \n",
    "    'wavemeter': {'type': 'VirtualWaveMeter'},    \n",
    "    'rf': {'type': 'VirtualRF'},\n",
    "    'pulse': {'type': 'VirtualPulse'},\n",
    "    'laser_stabilizer': {'type': 'VirtualLaserStabilizer','config_instances':'config_instances'},\n",
    "        \n",
    "}\n",
    "# scanner, counter, laser_stabilizer_core, laser_stabilizer, wavemeter, laser etc. \n",
    "# are default keys for all functions to call objetive, 'type' defines bind which class\n",
    "# or function to the key.\n",
    "\n",
    "\n",
    "config_instances = initialize_classes(config, lookup_dict=globals(), namespace=globals())\n",
    "config_instances = {**config_instances, **{'display_scale':1}}\n",
    "\n",
    "# below are for test only\n",
    "pl_test_dict = {'pl_height':10000, 'pl_width':4, 'pl_center':[5, -5], 'pl_bg':5000}\n",
    "ple_test_dict = {'ple_height':100000, 'ple_width':0.001, 'ple_center':737.102}\n",
    "odmr_test_dict = {'odmr_height':10000, 'odmr_width':20e6, 'odmr_center':2.88e9}\n",
    "config_instances={**config_instances, **pl_test_dict, **ple_test_dict, **odmr_test_dict}"
   ]
  },
  {
   "cell_type": "code",
   "execution_count": 8,
   "id": "c24ea056",
   "metadata": {},
   "outputs": [],
   "source": [
    "pulse.gui()"
   ]
  },
  {
   "cell_type": "code",
   "execution_count": 3,
   "id": "f7ee5e86",
   "metadata": {},
   "outputs": [
    {
     "ename": "NameError",
     "evalue": "name 'live' is not defined",
     "output_type": "error",
     "traceback": [
      "\u001b[1;31m---------------------------------------------------------------------------\u001b[0m",
      "\u001b[1;31mNameError\u001b[0m                                 Traceback (most recent call last)",
      "\u001b[1;32m~\\AppData\\Local\\Temp/ipykernel_8916/2039892600.py\u001b[0m in \u001b[0;36m<module>\u001b[1;34m\u001b[0m\n\u001b[1;32m----> 1\u001b[1;33m \u001b[0mGUI\u001b[0m\u001b[1;33m(\u001b[0m\u001b[0mconfig_instances\u001b[0m\u001b[1;33m=\u001b[0m\u001b[0mconfig_instances\u001b[0m\u001b[1;33m)\u001b[0m\u001b[1;33m\u001b[0m\u001b[1;33m\u001b[0m\u001b[0m\n\u001b[0m",
      "\u001b[1;32mD:\\Dropbox\\WorkCode\\Github\\Confocal-GUI\\src\\Confocal_GUI\\gui\\gui.py\u001b[0m in \u001b[0;36mGUI\u001b[1;34m(config_instances, measurement_PLE, measurement_PL, measurement_Live, mode)\u001b[0m\n\u001b[0;32m   1000\u001b[0m \u001b[1;33m\u001b[0m\u001b[0m\n\u001b[0;32m   1001\u001b[0m     \u001b[1;32mif\u001b[0m \u001b[0mmeasurement_Live\u001b[0m \u001b[1;32mis\u001b[0m \u001b[1;32mNone\u001b[0m\u001b[1;33m:\u001b[0m\u001b[1;33m\u001b[0m\u001b[1;33m\u001b[0m\u001b[0m\n\u001b[1;32m-> 1002\u001b[1;33m         measurement_Live = live(exposure = 0.1, data_x=np.arange(100), \\\n\u001b[0m\u001b[0;32m   1003\u001b[0m                                      config_instances=config_instances, is_finite=False, return_class=True)\n\u001b[0;32m   1004\u001b[0m \u001b[1;33m\u001b[0m\u001b[0m\n",
      "\u001b[1;31mNameError\u001b[0m: name 'live' is not defined"
     ]
    }
   ],
   "source": [
    "GUI(config_instances=config_instances)"
   ]
  },
  {
   "cell_type": "code",
   "execution_count": 4,
   "id": "b54393ae",
   "metadata": {},
   "outputs": [
    {
     "data": {
      "application/vnd.jupyter.widget-view+json": {
       "model_id": "946c3afc07e44f9a861233fd77c4c15f",
       "version_major": 2,
       "version_minor": 0
      },
      "image/png": "[encoded data removed]",
      "text/html": [
       "\n",
       "            <div style=\"display: inline-block;\">\n",
       "                <div class=\"jupyter-widgets widget-label\" style=\"text-align: center;\">\n",
       "                    Figure\n",
       "                </div>\n",
       "                <img src='data:image/png;base64,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' width=630.0/>\n",
       "            </div>\n",
       "        "
      ],
      "text/plain": [
       "Canvas(capture_scroll=True, footer_visible=False, header_visible=False, resizable=False, toolbar=Toolbar(tooli…"
      ]
     },
     "metadata": {},
     "output_type": "display_data"
    },
    {
     "name": "stdout",
     "output_type": "stream",
     "text": [
      "\n"
     ]
    }
   ],
   "source": [
    "ple_test_dict = {'ple_height':100000, 'ple_width':0.001, 'ple_center':737.102}\n",
    "odmr_test_dict = {'odmr_height':10000, 'odmr_width':20e6, 'odmr_center':2.88e9}\n",
    "# defines ple_test_dict for testing purpose only\n",
    "fig, data_figure = ple(data_x=np.arange(737.1-0.005, 737.1+0.005, 0.0005), exposure=0.1, \\\n",
    "                                config_instances={**config_instances, **ple_test_dict, **odmr_test_dict}\\\n",
    "                       , repeat=1, is_GUI=False)"
   ]
  },
  {
   "cell_type": "code",
   "execution_count": 16,
   "id": "514ea181",
   "metadata": {},
   "outputs": [
    {
     "name": "stdout",
     "output_type": "stream",
     "text": [
      "PLE started\n",
      "curve fitted, center = 737.102\n",
      "FWHM = 0.001\n",
      "height = 10003.57533\n",
      "bg = -1.18131\n",
      "fit cleared\n",
      "curve fitted, amplitude = -9947.\n",
      "offset = 1458.2\n",
      "decay = 0.0035\n",
      "Live started\n",
      "Plot stopped\n",
      "PLE started\n",
      "Wavelength was read\n",
      "Live started\n"
     ]
    }
   ],
   "source": [
    "ple_test_dict = {'ple_height':100000, 'ple_width':0.001, 'ple_center':737.102}\n",
    "odmr_test_dict = {'odmr_height':10000, 'odmr_width':20e6, 'odmr_center':2.88e9}\n",
    "# defines ple_test_dict for testing purpose only\n",
    "fig, data_figure = ple(data_x=np.arange(737.1-0.005, 737.1+0.005, 0.0005), exposure=0.1, \\\n",
    "                                config_instances={**config_instances, **ple_test_dict, **odmr_test_dict}\\\n",
    "                       , repeat=1, is_GUI=True)"
   ]
  },
  {
   "cell_type": "code",
   "execution_count": 48,
   "id": "0eea6e8d",
   "metadata": {},
   "outputs": [],
   "source": [
    "_, popt = data_figure.lorent()"
   ]
  },
  {
   "cell_type": "code",
   "execution_count": 5,
   "id": "2e43987b",
   "metadata": {},
   "outputs": [
    {
     "name": "stdout",
     "output_type": "stream",
     "text": [
      "Help on function live in module Confocal_GUI.logic.logic:\n",
      "\n",
      "live(**kwargs)\n",
      "    live func doc str\n",
      "\n"
     ]
    }
   ],
   "source": [
    "help(live)"
   ]
  },
  {
   "cell_type": "code",
   "execution_count": 6,
   "id": "c1322365",
   "metadata": {},
   "outputs": [
    {
     "data": {
      "application/vnd.jupyter.widget-view+json": {
       "model_id": "385f1283e5fa49bebf5740a4ba7a5174",
       "version_major": 2,
       "version_minor": 0
      },
      "image/png": "[encoded data removed]",
      "text/html": [
       "\n",
       "            <div style=\"display: inline-block;\">\n",
       "                <div class=\"jupyter-widgets widget-label\" style=\"text-align: center;\">\n",
       "                    Figure\n",
       "                </div>\n",
       "                <img src='data:image/png;base64,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' width=630.0/>\n",
       "            </div>\n",
       "        "
      ],
      "text/plain": [
       "Canvas(capture_scroll=True, footer_visible=False, header_visible=False, resizable=False, toolbar=Toolbar(tooli…"
      ]
     },
     "metadata": {},
     "output_type": "display_data"
    }
   ],
   "source": [
    "odmr_test_dict = {'odmr_height':10000, 'odmr_width':20e6, 'odmr_center':2.88e9}\n",
    "# defines ple_test_dict for testing purpose only\n",
    "fig, data_figure = odmr(data_x=np.arange(2.68, 3.08, 0.003), exposure=0.1, \\\n",
    "                                config_instances={**config_instances, **odmr_test_dict}, repeat=1, is_GUI=False, \\\n",
    "                        data_mode='single')"
   ]
  },
  {
   "cell_type": "code",
   "execution_count": 7,
   "id": "332fab49",
   "metadata": {},
   "outputs": [
    {
     "name": "stdout",
     "output_type": "stream",
     "text": [
      "ODMR started\n",
      "curve fitted, center = 2.87986\n",
      "FWHM = 0.02125\n",
      "height = -987.97518\n",
      "bg = 7.73653\n",
      "Plot stopped\n",
      "Plot stopped\n",
      "Live started\n",
      "Live started\n",
      "Plot stopped\n",
      "Live started\n",
      "Live started\n"
     ]
    }
   ],
   "source": [
    "odmr_test_dict = {'odmr_height':10000, 'odmr_width':20e6, 'odmr_center':2.88e9}\n",
    "# defines ple_test_dict for testing purpose only\n",
    "fig, data_figure = odmr(data_x=np.arange(2.68, 3.08, 0.003), exposure=0.1, \\\n",
    "                                config_instances={**config_instances, **odmr_test_dict}, repeat=1, \\\n",
    "                        is_GUI=True, data_mode='ref_sub')"
   ]
  },
  {
   "cell_type": "code",
   "execution_count": 62,
   "id": "bc28eef8",
   "metadata": {},
   "outputs": [
    {
     "data": {
      "text/plain": [
       "'Frequency (GHz)'"
      ]
     },
     "execution_count": 62,
     "metadata": {},
     "output_type": "execute_result"
    }
   ],
   "source": [
    "fig.axes[0].get_xlabel()"
   ]
  },
  {
   "cell_type": "code",
   "execution_count": 19,
   "id": "c036a65b",
   "metadata": {},
   "outputs": [
    {
     "name": "stdout",
     "output_type": "stream",
     "text": [
      "[<confocal_gui.live_plot.AreaSelector object at 0x000002ADB40FB788>, <confocal_gui.live_plot.CrossSelector object at 0x000002ADB414BBC8>, <confocal_gui.live_plot.ZoomPan object at 0x000002ADB414BD48>]\n",
      "737.0973308318617 737.1034591532452 2575.4107936507935 22006.704761904773\n"
     ]
    }
   ],
   "source": [
    "_, popt = data_figure.lorent()"
   ]
  },
  {
   "cell_type": "code",
   "execution_count": 77,
   "id": "988a4ecf",
   "metadata": {},
   "outputs": [
    {
     "name": "stdout",
     "output_type": "stream",
     "text": [
      "Live started\n",
      "Keys in npz file: ['data_x', 'data_y', 'info']\n",
      "{'data_generator': 'PLEAcquire', 'exposure': 0.1, 'repeat': 1}\n",
      "curve fitted, center = 2.88018\n",
      "FWHM = 0.02036\n",
      "height = -999.77387\n",
      "bg = 1002.15785\n",
      "PLE started\n",
      "PLE started\n",
      "Plot stopped\n",
      "saved fig as 2025_01_12/PLE2025_01_12_19_09_33.npz\n",
      "info: {'plot_type': 'PLE', 'exposure': 0.1, 'repeat': 1}\n",
      "\n",
      "        2025_01_12_19_09_33\n",
      "        \n"
     ]
    },
    {
     "data": {
      "image/png": "[encoded data removed]",
      "text/plain": [
       "<IPython.core.display.Image object>"
      ]
     },
     "metadata": {},
     "output_type": "display_data"
    },
    {
     "name": "stdout",
     "output_type": "stream",
     "text": [
      "saved PLE\n",
      "Keys in npz file: ['data_x', 'data_y', 'info']\n",
      "{'data_generator': 'PLEAcquire', 'exposure': 0.1, 'repeat': 1, 'x_label': 'Frequency (GHz)', 'ylabel': 'Counts/0.10s x1'}\n"
     ]
    }
   ],
   "source": [
    "ple_test_dict = {'ple_height':100000, 'ple_width':0.001, 'ple_center':737.102}\n",
    "# defines ple_test_dict for testing purpose only\n",
    "fig, data_figure = ple(data_x=np.arange(737.1-0.005, 737.1+0.005, 0.0005), exposure=0.1, \\\n",
    "                                config_instances={**config_instances, **ple_test_dict}, repeat=1, is_GUI=True)"
   ]
  },
  {
   "cell_type": "code",
   "execution_count": 78,
   "id": "31c90bfc",
   "metadata": {},
   "outputs": [
    {
     "name": "stdout",
     "output_type": "stream",
     "text": [
      "0 [1, 2]\n",
      "1 [3, 4]\n"
     ]
    }
   ],
   "source": [
    "x = [[1,2],[3,4]]\n",
    "for i,ii in enumerate(x):\n",
    "    print(i,ii)"
   ]
  },
  {
   "cell_type": "code",
   "execution_count": 82,
   "id": "2335f8cc",
   "metadata": {},
   "outputs": [],
   "source": [
    "x=[(1,2), (3,4), (5,6)]"
   ]
  },
  {
   "cell_type": "code",
   "execution_count": 83,
   "id": "1a40a2c2",
   "metadata": {},
   "outputs": [
    {
     "data": {
      "text/plain": [
       "(3, 2)"
      ]
     },
     "execution_count": 83,
     "metadata": {},
     "output_type": "execute_result"
    }
   ],
   "source": [
    "np.shape(x)"
   ]
  },
  {
   "cell_type": "code",
   "execution_count": 81,
   "id": "77a82f0f",
   "metadata": {},
   "outputs": [
    {
     "data": {
      "text/plain": [
       "array([1, 2, 3, 4])"
      ]
     },
     "execution_count": 81,
     "metadata": {},
     "output_type": "execute_result"
    }
   ],
   "source": [
    "np.array(x).flatten()"
   ]
  },
  {
   "cell_type": "code",
   "execution_count": 19,
   "id": "4c5fe16a",
   "metadata": {},
   "outputs": [
    {
     "data": {
      "text/plain": [
       "array([[0., 0.],\n",
       "       [0., 0.]])"
      ]
     },
     "execution_count": 19,
     "metadata": {},
     "output_type": "execute_result"
    }
   ],
   "source": [
    "np.zeros(np.shape([[1,2],[3,4]]))"
   ]
  },
  {
   "cell_type": "code",
   "execution_count": 5,
   "id": "5663bcc6",
   "metadata": {},
   "outputs": [],
   "source": [
    "# use mouse left to select/cancel area in fig\n",
    "# use mouse middle to scroll range\n",
    "# use mouse right to select point, or double clicks to remove point"
   ]
  },
  {
   "cell_type": "code",
   "execution_count": null,
   "id": "413f5a93",
   "metadata": {},
   "outputs": [],
   "source": [
    "ple_test_dict = {'ple_height':100000, 'ple_width':0.001, 'ple_center':737.102}\n",
    "# defines ple_test_dict for testing purpose only\n",
    "fig, data_figure = ple(data_x = np.arange(737.1-0.005, 737.1+0.005, 0.0005), exposure=0.1, \\\n",
    "                                config_instances={**config_instances, **ple_test_dict}, repeat=1, is_GUI=True)"
   ]
  },
  {
   "cell_type": "code",
   "execution_count": 5,
   "id": "46f43757",
   "metadata": {},
   "outputs": [
    {
     "data": {
      "text/plain": [
       "[array([737.095 , 737.0955, 737.096 , 737.0965, 737.097 , 737.0975,\n",
       "        737.098 , 737.0985, 737.099 , 737.0995, 737.1   , 737.1005,\n",
       "        737.101 , 737.1015, 737.102 , 737.1025, 737.103 , 737.1035,\n",
       "        737.104 , 737.1045]),\n",
       " array([  55.,   59.,   78.,   86.,  105.,  122.,  165.,  181.,  276.,\n",
       "         396.,  601.,  966., 2085., 4975., 9960., 4939., 1948., 1003.,\n",
       "         590.,  387.])]"
      ]
     },
     "execution_count": 5,
     "metadata": {},
     "output_type": "execute_result"
    }
   ],
   "source": [
    "data_figure.data\n",
    "# get data from return data_figure\n",
    "# data_figure is a instance of DataFigure \n",
    "# defines in confocal_gui.live_plot"
   ]
  },
  {
   "cell_type": "code",
   "execution_count": 6,
   "id": "f17c9889",
   "metadata": {},
   "outputs": [
    {
     "data": {
      "text/plain": [
       "([['center', 'FWHM', 'in GHz', 'height', 'bg'],\n",
       "  array([[ 3.15940408e-12, -1.02400427e-13,  5.82972619e-07,\n",
       "           1.38147485e-07],\n",
       "         [-1.02400427e-13,  1.78049365e-11, -4.62698587e-05,\n",
       "          -1.62116735e-05],\n",
       "         [ 5.82972619e-07, -4.62698587e-05,  7.09812489e+02,\n",
       "          -4.33527014e+01],\n",
       "         [ 1.38147485e-07, -1.62116735e-05, -4.33527014e+01,\n",
       "           6.21867071e+01]])],\n",
       " array([7.37101997e+02, 9.97961643e-04, 5.50654734e-01, 9.94927842e+03,\n",
       "        6.19041425e+00]))"
      ]
     },
     "execution_count": 6,
     "metadata": {},
     "output_type": "execute_result"
    }
   ],
   "source": [
    "data_figure.lorent()\n",
    "# call lorent() to get a lorentzian fit"
   ]
  },
  {
   "cell_type": "code",
   "execution_count": 10,
   "id": "360f8f15",
   "metadata": {},
   "outputs": [
    {
     "data": {
      "text/plain": [
       "{'data_generator': 'PLEAcquire', 'exposure': 0.1, 'scanner': [0, 0]}"
      ]
     },
     "execution_count": 10,
     "metadata": {},
     "output_type": "execute_result"
    }
   ],
   "source": [
    "data_figure.info"
   ]
  },
  {
   "cell_type": "code",
   "execution_count": 10,
   "id": "1afab06c",
   "metadata": {},
   "outputs": [
    {
     "name": "stdout",
     "output_type": "stream",
     "text": [
      "saved fig as PLE2024_06_28_01_59_15.npz\n"
     ]
    }
   ],
   "source": [
    "data_figure.save()\n",
    "# save figure "
   ]
  },
  {
   "cell_type": "code",
   "execution_count": 19,
   "id": "4842e088",
   "metadata": {},
   "outputs": [
    {
     "name": "stdout",
     "output_type": "stream",
     "text": [
      "Keys in npz file: ['data_x', 'data_y', 'info']\n",
      "Data under key 'data_x':\n",
      "[737.095  737.0955 737.096  737.0965 737.097  737.0975 737.098  737.0985\n",
      " 737.099  737.0995 737.1    737.1005 737.101  737.1015 737.102  737.1025\n",
      " 737.103  737.1035 737.104  737.1045]\n",
      "Data under key 'data_y':\n",
      "[  42.   59.   60.   71.   85.  129.  145.  198.  271.  372.  577. 1032.\n",
      " 2001. 4948. 9958. 4979. 1947.  976.  601.  415.]\n",
      "Data under key 'info':\n",
      "{'data_generator': 'PLEAcquire', 'exposure': 0.1, 'scanner': [0, 0]}\n"
     ]
    }
   ],
   "source": [
    "loaded = np.load('PLE2024_06_28_01_59_15.npz', allow_pickle=True)\n",
    "keys = loaded.files\n",
    "print(\"Keys in npz file:\", keys)\n",
    "\n",
    "for key in keys:\n",
    "    print(f\"Data under key '{key}':\")\n",
    "    print(loaded[key])"
   ]
  },
  {
   "cell_type": "code",
   "execution_count": 13,
   "id": "32cd3817",
   "metadata": {},
   "outputs": [
    {
     "name": "stdout",
     "output_type": "stream",
     "text": [
      "Help on function pl in module confocal_gui.live_plot:\n",
      "\n",
      "pl(\n",
      "    center,\n",
      "    coordinates_x,\n",
      "    coordinates_y,\n",
      "    exposure,\n",
      "    config_instances,\n",
      "    is_dis=False,\n",
      "    wavelength=None\n",
      ")\n",
      "    example\n",
      "\n",
      "    >>> pl(center=[0, 0], coordinates_x=np.linspace(-5,5,10),         coordinates_y=np.linspace(-5,5,10), exposure=0.2)\n",
      "\n"
     ]
    }
   ],
   "source": [
    "help(pl)"
   ]
  },
  {
   "cell_type": "code",
   "execution_count": 14,
   "id": "282f0a33",
   "metadata": {},
   "outputs": [
    {
     "data": {
      "application/vnd.jupyter.widget-view+json": {
       "model_id": "cae7d092881f4512a4be8c9a2856c75b",
       "version_major": 2,
       "version_minor": 0
      },
      "image/png": "[encoded data removed]",
      "text/html": [
       "\n",
       "            <div style=\"display: inline-block;\">\n",
       "                <div class=\"jupyter-widgets widget-label\" style=\"text-align: center;\">\n",
       "                    Figure\n",
       "                </div>\n",
       "                <img src='data:image/png;base64,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' width=630.0/>\n",
       "            </div>\n",
       "        "
      ],
      "text/plain": [
       "Canvas(capture_scroll=True, footer_visible=False, header_visible=False, resizable=False, toolbar=Toolbar(tooli…"
      ]
     },
     "metadata": {},
     "output_type": "display_data"
    },
    {
     "name": "stdout",
     "output_type": "stream",
     "text": [
      "\n"
     ]
    }
   ],
   "source": [
    "pl_test_dict = {'pl_height':10000, 'pl_width':4, 'pl_center':[5, -5], 'pl_bg':5000}\n",
    "# defines pl_test_dict for testing purpose only\n",
    "fig, data_figure = pl(center=[0,0], coordinates_x=np.arange(-20,20,1), \\\n",
    "                               coordinates_y=np.arange(-20,20,1), exposure=0.025, \\\n",
    "                               config_instances={**config_instances, **pl_test_dict})"
   ]
  },
  {
   "cell_type": "code",
   "execution_count": null,
   "id": "6b851a27",
   "metadata": {},
   "outputs": [],
   "source": [
    "# can be interrupted by interrupt"
   ]
  },
  {
   "cell_type": "code",
   "execution_count": 4,
   "id": "1fa36615",
   "metadata": {},
   "outputs": [
    {
     "name": "stdout",
     "output_type": "stream",
     "text": [
      "PL started\n",
      "Plot stopped\n",
      "Live started\n",
      "Plot stopped\n",
      "Live started\n",
      "Plot stopped\n",
      "X Y Counts/0.03s x1\n",
      "saved fig as 2025_01_15/PL2025_01_15_01_56_00.npz\n",
      "info: {'plot_type': 'PL', 'exposure': 0.025, 'repeat': 1}\n",
      "\n",
      "        2025_01_15_01_56_00\n",
      "        \n"
     ]
    },
    {
     "data": {
      "image/png": "[encoded data removed]",
      "text/plain": [
       "<IPython.core.display.Image object>"
      ]
     },
     "metadata": {},
     "output_type": "display_data"
    },
    {
     "name": "stdout",
     "output_type": "stream",
     "text": [
      "saved PL\n"
     ]
    }
   ],
   "source": [
    "pl_test_dict = {'pl_height':10000, 'pl_width':4, 'pl_center':[5, -5], 'pl_bg':5000}\n",
    "fig, data_figure = pl(data_x = [np.arange(-20,20,1), np.arange(-20,20,1)], exposure=0.025, \\\n",
    "                      is_dis=True, config_instances={**config_instances, **pl_test_dict}, is_GUI=True)"
   ]
  },
  {
   "cell_type": "code",
   "execution_count": null,
   "id": "5283c62d",
   "metadata": {},
   "outputs": [],
   "source": [
    "# drag two vertical lines in histogram to reset colorbar\n",
    "# enables remove background"
   ]
  },
  {
   "cell_type": "code",
   "execution_count": 12,
   "id": "9379c3db",
   "metadata": {},
   "outputs": [
    {
     "name": "stdout",
     "output_type": "stream",
     "text": [
      "Help on function live in module confocal_gui.live_plot:\n",
      "\n",
      "live(data_array, exposure, config_instances, wavelength=None, is_finite=False)\n",
      "\n"
     ]
    }
   ],
   "source": [
    "help(live)"
   ]
  },
  {
   "cell_type": "code",
   "execution_count": 6,
   "id": "377cdd5d",
   "metadata": {},
   "outputs": [
    {
     "name": "stdout",
     "output_type": "stream",
     "text": [
      "{'wavelength': None, 'is_finite': True}\n"
     ]
    },
    {
     "data": {
      "image/png": "[encoded data removed]",
      "text/plain": [
       "<Figure size 630x472.5 with 1 Axes>"
      ]
     },
     "metadata": {},
     "output_type": "display_data"
    },
    {
     "name": "stderr",
     "output_type": "stream",
     "text": [
      "Exception in thread Thread-11:\n",
      "Traceback (most recent call last):\n",
      "  File \"c:\\users\\eadri\\appdata\\local\\programs\\python\\python37\\lib\\threading.py\", line 926, in _bootstrap_inner\n",
      "    self.run()\n",
      "  File \"c:\\users\\eadri\\appdata\\local\\programs\\python\\python37\\lib\\threading.py\", line 870, in run\n",
      "    self._target(*self._args, **self._kwargs)\n",
      "  File \"D:\\Dropbox\\WorkCode\\Github\\Confocal-GUI\\Confocal_GUI\\jupyter notebook examples\\..\\confocal_gui\\logic.py\", line 210, in _data_generator\n",
      "    counts = self.excute_measurement()\n",
      "  File \"D:\\Dropbox\\WorkCode\\Github\\Confocal-GUI\\Confocal_GUI\\jupyter notebook examples\\..\\confocal_gui\\logic.py\", line 488, in excute_measurement\n",
      "    counts = self.counter.read_counts(self.exposure, parent = self, counter_mode=self.counter_mode, data_mode=self.data_mode)\n",
      "  File \"D:\\Dropbox\\WorkCode\\Github\\Confocal-GUI\\Confocal_GUI\\jupyter notebook examples\\..\\confocal_gui\\virtual_device.py\", line 122, in read_counts\n",
      "    lambda_counts = parent.exposure*odmr_dict['odmr_height']*(1-(odmr_dict['odmr_width']/2)**2\\\n",
      "TypeError: unsupported operand type(s) for *: 'float' and 'NoneType'\n",
      "\n"
     ]
    },
    {
     "name": "stdout",
     "output_type": "stream",
     "text": [
      "\n"
     ]
    }
   ],
   "source": [
    "pl_test_dict = {'pl_height':10000, 'pl_width':4, 'pl_center':[5, -5], 'pl_bg':5000}\n",
    "fig, data_figure = live(data_x=np.arange(100), exposure=0.1, wavelength=None, \n",
    "                                           is_finite=True, config_instances={**config_instances, **pl_test_dict})\n",
    "# wavelength defines wavelength for live plot"
   ]
  },
  {
   "cell_type": "code",
   "execution_count": 9,
   "id": "3a835cee",
   "metadata": {},
   "outputs": [
    {
     "data": {
      "application/vnd.jupyter.widget-view+json": {
       "model_id": "8ca13bf50e9c45f4b90780ac54bf920f",
       "version_major": 2,
       "version_minor": 0
      },
      "image/png": "[encoded data removed]",
      "text/html": [
       "\n",
       "            <div style=\"display: inline-block;\">\n",
       "                <div class=\"jupyter-widgets widget-label\" style=\"text-align: center;\">\n",
       "                    Figure\n",
       "                </div>\n",
       "                <img src='data:image/png;base64,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' width=630.0/>\n",
       "            </div>\n",
       "        "
      ],
      "text/plain": [
       "Canvas(capture_scroll=True, footer_visible=False, header_visible=False, resizable=False, toolbar=Toolbar(tooli…"
      ]
     },
     "metadata": {},
     "output_type": "display_data"
    },
    {
     "name": "stdout",
     "output_type": "stream",
     "text": [
      "\n"
     ]
    }
   ],
   "source": [
    "odmr_test_dict = {'odmr_height':10000, 'odmr_width':20e6, 'odmr_center':2.88e9}\n",
    "fig, data_figure = live(data_x=np.arange(100), exposure=0.1, config_instances={**config_instances, **odmr_test_dict})"
   ]
  },
  {
   "cell_type": "code",
   "execution_count": 3,
   "id": "a9b1952a",
   "metadata": {},
   "outputs": [
    {
     "name": "stdout",
     "output_type": "stream",
     "text": [
      "Help on function GUI in module confocal_gui.gui:\n",
      "\n",
      "GUI(config_instances)\n",
      "    The function opens pyqt GUI for PLE, PL, live counts, and pulse control.\n",
      "    Save button will also output data and figure to jupyter notebook.\n",
      "    \n",
      "    Examples\n",
      "    --------\n",
      "    >>> GUI()\n",
      "    \n",
      "    Read range button reads range from area created by mouse left \n",
      "    \n",
      "        Read wavelength button reads wavelength from point created by mouse right in PLE\n",
      "    \n",
      "        Read XY button reads x, y coordinates from point created by mouse right in PL \n",
      "    \n",
      "        Change unit changes PLE unit between 'nm' and 'GHz'\n",
      "    \n",
      "        Move sacnner moves scanner to x, y displayed\n",
      "\n"
     ]
    }
   ],
   "source": [
    "help(GUI)"
   ]
  },
  {
   "cell_type": "code",
   "execution_count": 5,
   "id": "e5c7e727",
   "metadata": {},
   "outputs": [],
   "source": [
    "a=10"
   ]
  },
  {
   "cell_type": "code",
   "execution_count": 7,
   "id": "4ee4d62d",
   "metadata": {},
   "outputs": [
    {
     "ename": "AttributeError",
     "evalue": "'int' object has no attribute 'get'",
     "output_type": "error",
     "traceback": [
      "\u001b[1;31m---------------------------------------------------------------------------\u001b[0m",
      "\u001b[1;31mAttributeError\u001b[0m                            Traceback (most recent call last)",
      "\u001b[1;32m~\\AppData\\Local\\Temp/ipykernel_14716/2072139116.py\u001b[0m in \u001b[0;36m<module>\u001b[1;34m\u001b[0m\n\u001b[1;32m----> 1\u001b[1;33m \u001b[0ma\u001b[0m\u001b[1;33m.\u001b[0m\u001b[0mget\u001b[0m\u001b[1;33m(\u001b[0m\u001b[1;36m0\u001b[0m\u001b[1;33m)\u001b[0m\u001b[1;33m\u001b[0m\u001b[1;33m\u001b[0m\u001b[0m\n\u001b[0m",
      "\u001b[1;31mAttributeError\u001b[0m: 'int' object has no attribute 'get'"
     ]
    }
   ],
   "source": [
    "a.get(0)"
   ]
  },
  {
   "cell_type": "code",
   "execution_count": 22,
   "id": "f69e2843",
   "metadata": {},
   "outputs": [],
   "source": [
    "ple_test_dict = {'ple_height':100000, 'ple_width':0.001, 'ple_center':737.102}\n",
    "pl_test_dict = {'pl_height':10000, 'pl_width':4, 'pl_center':[5, -5], 'pl_bg':5000}\n",
    "GUI(config_instances={**config_instances, **ple_test_dict, **pl_test_dict})"
   ]
  },
  {
   "cell_type": "code",
   "execution_count": null,
   "id": "6e6bda30",
   "metadata": {},
   "outputs": [],
   "source": [
    "ple_test_dict = {'ple_height':100000, 'ple_width':0.001, 'ple_center':737.102}\n",
    "pl_test_dict = {'pl_height':10000, 'pl_width':4, 'pl_center':[5, -5], 'pl_bg':5000}\n",
    "GUI(config_instances={**config_instances, **ple_test_dict, **pl_test_dict})"
   ]
  },
  {
   "cell_type": "code",
   "execution_count": 4,
   "id": "55ecf4de",
   "metadata": {},
   "outputs": [
    {
     "name": "stdout",
     "output_type": "stream",
     "text": [
      "PLE started\n",
      "scanner: (x=0, y=0)\n"
     ]
    }
   ],
   "source": [
    "ple_test_dict = {'ple_height':100000, 'ple_width':0.001, 'ple_center':737.102}\n",
    "GUI_PLE(config_instances={**config_instances, **ple_test_dict})"
   ]
  },
  {
   "cell_type": "code",
   "execution_count": 3,
   "id": "aebf0700",
   "metadata": {},
   "outputs": [],
   "source": [
    "ple_test_dict = {'ple_height':100000, 'ple_width':0.001, 'ple_center':737.102}\n",
    "gui_in_thread({**config_instances, **ple_test_dict}, GUI_PLE)"
   ]
  },
  {
   "cell_type": "code",
   "execution_count": 4,
   "id": "19f0b3ca",
   "metadata": {},
   "outputs": [
    {
     "name": "stdout",
     "output_type": "stream",
     "text": [
      "PLE started\n",
      "scanner: (x=0, y=0)\n"
     ]
    }
   ],
   "source": [
    "ple_test_dict = {'ple_height':100000, 'ple_width':0.001, 'ple_center':737.102}\n",
    "\n",
    "gui_thread = Thread(target=GUI_PLE, kwargs={'config_instances': {**config_instances, **ple_test_dict}})\n",
    "gui_thread.start()"
   ]
  },
  {
   "cell_type": "code",
   "execution_count": 5,
   "id": "e4174dda",
   "metadata": {},
   "outputs": [
    {
     "data": {
      "text/plain": [
       "33.333333333333336"
      ]
     },
     "execution_count": 5,
     "metadata": {},
     "output_type": "execute_result"
    },
    {
     "name": "stdout",
     "output_type": "stream",
     "text": [
      "Plot stopped\n",
      "curve fitted, center = 737.102\n",
      "FWHM = 0.00101\n",
      "in GHz = 0.55958\n",
      "height = 9958.58873\n",
      "bg = -20.1629\n"
     ]
    }
   ],
   "source": [
    "100/3"
   ]
  },
  {
   "cell_type": "code",
   "execution_count": 3,
   "id": "e9341be2",
   "metadata": {},
   "outputs": [
    {
     "name": "stdout",
     "output_type": "stream",
     "text": [
      "PLE started\n",
      "scanner: (x=0, y=0)\n",
      "Plot stopped\n",
      "PLE started\n",
      "scanner: (x=0, y=0)\n",
      "Plot stopped\n"
     ]
    }
   ],
   "source": [
    "from threading import Thread\n",
    "ple_test_dict = {'ple_height':100000, 'ple_width':0.001, 'ple_center':737.102}\n",
    "\n",
    "gui_thread = Thread(target=GUI_PLE, kwargs={'config_instances': {**config_instances, **ple_test_dict}})\n",
    "gui_thread.start()"
   ]
  },
  {
   "cell_type": "code",
   "execution_count": null,
   "id": "f9ea3099",
   "metadata": {},
   "outputs": [],
   "source": []
  },
  {
   "cell_type": "code",
   "execution_count": 9,
   "id": "912565f1",
   "metadata": {
    "scrolled": true
   },
   "outputs": [
    {
     "name": "stdout",
     "output_type": "stream",
     "text": [
      "PLE started\n",
      "scanner: (x=-10, y=-18)\n",
      "Plot stopped\n",
      "PLE started\n",
      "scanner: (x=-10, y=-18)\n",
      "Plot stopped\n",
      "PLE range updated\n",
      "PLE started\n",
      "scanner: (x=-10, y=-18)\n",
      "Plot stopped\n",
      "curve fitted, center = 737.1\n",
      "FWHM = 0.001\n",
      "in GHz = 0.55368\n",
      "height = 9952.03954\n",
      "bg = -1.33853\n"
     ]
    }
   ],
   "source": [
    "pl_test_dict = {'pl_height':10000, 'pl_width':4, 'pl_center':[5, -5], 'pl_bg':5000}\n",
    "ple_test_dict = {'ple_height':100000, 'ple_width':0.001, 'ple_center':737.10}\n",
    "# defines pl_test_dict and ple_test_dict for testing\n",
    "GUI(config_instances={**config_instances, **pl_test_dict, **ple_test_dict, **{'display_scale':1}})"
   ]
  },
  {
   "cell_type": "code",
   "execution_count": 10,
   "id": "87ef0bfb",
   "metadata": {},
   "outputs": [
    {
     "data": {
      "text/plain": [
       "Text(0, 0.5, 'y')"
      ]
     },
     "execution_count": 10,
     "metadata": {},
     "output_type": "execute_result"
    },
    {
     "data": {
      "image/png": "[encoded data removed]",
      "text/plain": [
       "<Figure size 525x393.75 with 1 Axes>"
      ]
     },
     "metadata": {},
     "output_type": "display_data"
    }
   ],
   "source": [
    "change_to_inline(params_type = 'inline', scale=1) \n",
    "# go back to inline backend otherwise display error\n",
    "plt.close()\n",
    "plt.tight_layout()\n",
    "plt.plot(np.linspace(0, 10, 100), color='grey')\n",
    "plt.xlabel('x')\n",
    "plt.ylabel('y')"
   ]
  },
  {
   "cell_type": "code",
   "execution_count": 12,
   "id": "d0cd76aa",
   "metadata": {},
   "outputs": [],
   "source": [
    "import pyvisa\n",
    "rm = pyvisa.ResourceManager()"
   ]
  },
  {
   "cell_type": "code",
   "execution_count": 14,
   "id": "0b6a21b1-3884-46fe-bdf2-cd117721ed79",
   "metadata": {},
   "outputs": [
    {
     "data": {
      "text/plain": [
       "('USB0::0x1AB1::0x099C::DSG8M267M00006::INSTR', 'ASRL1::INSTR', 'ASRL3::INSTR')"
      ]
     },
     "execution_count": 14,
     "metadata": {},
     "output_type": "execute_result"
    }
   ],
   "source": [
    "rm.list_resources()"
   ]
  },
  {
   "cell_type": "code",
   "execution_count": 17,
   "id": "48b54893-0d69-493e-b7ad-62a1a4636db4",
   "metadata": {},
   "outputs": [],
   "source": [
    "inst = rm.open_resource('USB0::0x1AB1::0x099C::DSG8M267M00006::INSTR')"
   ]
  },
  {
   "cell_type": "code",
   "execution_count": 18,
   "id": "72c3ee5e-a42b-470e-bfbf-989513fe38c5",
   "metadata": {},
   "outputs": [
    {
     "data": {
      "text/plain": [
       "'Rigol Technologies,DSG836,DSG8M267M00006,00.01.07\\n'"
      ]
     },
     "execution_count": 18,
     "metadata": {},
     "output_type": "execute_result"
    }
   ],
   "source": [
    "inst.query(\"*IDN?\")"
   ]
  },
  {
   "cell_type": "code",
   "execution_count": 21,
   "id": "7e26669d-2abc-49ca-9194-3af0a6add864",
   "metadata": {},
   "outputs": [],
   "source": [
    "from confocal_gui.device import DSG836"
   ]
  },
  {
   "cell_type": "code",
   "execution_count": 28,
   "id": "829a7580-b507-4a3a-8b71-893106c854ec",
   "metadata": {},
   "outputs": [
    {
     "data": {
      "text/plain": [
       "'-110.00\\n'"
      ]
     },
     "execution_count": 28,
     "metadata": {},
     "output_type": "execute_result"
    }
   ],
   "source": [
    "handle.query('SOURce:Power?')"
   ]
  },
  {
   "cell_type": "code",
   "execution_count": 11,
   "id": "81dfc88c-f4aa-41b6-9cc8-ea93132a2e24",
   "metadata": {},
   "outputs": [],
   "source": [
    "import nidaqmx, time"
   ]
  },
  {
   "cell_type": "code",
   "execution_count": 61,
   "id": "f25bc2d0-daea-41c2-835d-e97e2d3e1ada",
   "metadata": {},
   "outputs": [
    {
     "name": "stdout",
     "output_type": "stream",
     "text": [
      "[0.030208686449488688, 0.030368590330311716, 0.030208686449488688, 0.030368590330311716, 0.030368590330311716, 0.030208686449488688, 0.030208686449488688, 0.030208686449488688, 0.030208686449488688, 0.030208686449488688]\n",
      "[0.030368590330311716, 0.030208686449488688, 0.030368590330311716, 0.030208686449488688, 0.030368590330311716, 0.030368590330311716, 0.030368590330311716, 0.030368590330311716, 0.030208686449488688, 0.030048782568745883]\n",
      "[0.030368590330311716, 0.030368590330311716, 0.030368590330311716, 0.030368590330311716, 0.030368590330311716, 0.030208686449488688, 0.030368590330311716, 0.030368590330311716, 0.030048782568745883, 0.030208686449488688]\n",
      "[0.030208686449488688, 0.030208686449488688, 0.030208686449488688, 0.030528494211214934, 0.030528494211214934, 0.030528494211214934, 0.030368590330311716, 0.030368590330311716, 0.030368590330311716, 0.030208686449488688]\n",
      "[0.030208686449488688, 0.030368590330311716, 0.030368590330311716, 0.030208686449488688, 0.030368590330311716, 0.030368590330311716, 0.030368590330311716, 0.030368590330311716, 0.030208686449488688, 0.030368590330311716]\n",
      "[0.030368590330311716, 0.030368590330311716, 0.030208686449488688, 0.030208686449488688, 0.030368590330311716, 0.030208686449488688, 0.030368590330311716, 0.030208686449488688, 0.030208686449488688, 0.030208686449488688]\n",
      "[0.030208686449488688, 0.030368590330311716, 0.030208686449488688, 0.030208686449488688, 0.030208686449488688, 0.030048782568745883, 0.030368590330311716, 0.030048782568745883, 0.030208686449488688, 0.030368590330311716]\n",
      "[0.0001467583063976068, 0.0004665660371258118, 0.0001467583063976068, 0.0003066621717193653, 0.0001467583063976068, 0.0001467583063976068, -1.314555883943989e-05, 0.0003066621717193653, -1.314555883943989e-05, -1.314555883943989e-05]\n",
      "[0.0001467583063976068, -1.314555883943989e-05, 0.0003066621717193653, -1.314555883943989e-05, -1.314555883943989e-05, -1.314555883943989e-05, -1.314555883943989e-05, 0.0001467583063976068, -1.314555883943989e-05, 0.0001467583063976068]\n",
      "[0.0001467583063976068, 0.0003066621717193653, 0.0001467583063976068, 0.02557147394061331, 0.030208686449488688, 0.030048782568745883, 0.030368590330311716, 0.030208686449488688, 0.030208686449488688, 0.030208686449488688]\n",
      "[0.030368590330311716, 0.030368590330311716, 0.030528494211214934, 0.030368590330311716, 0.030368590330311716, 0.030208686449488688, 0.030368590330311716, 0.030208686449488688, 0.030208686449488688, 0.030208686449488688]\n",
      "[0.030208686449488688, 0.030368590330311716, 0.030368590330311716, 0.030208686449488688, 0.030368590330311716, 0.030368590330311716, 0.030208686449488688, 0.030368590330311716, 0.030368590330311716, 0.030368590330311716]\n",
      "[0.030048782568745883, 0.030368590330311716, 0.030208686449488688, 0.030208686449488688, 0.030048782568745883, 0.030368590330311716, 0.030368590330311716, 0.030048782568745883, 0.030208686449488688, 0.030368590330311716]\n",
      "[0.030208686449488688, 0.030368590330311716, 0.030368590330311716, 0.030048782568745883, 0.030208686449488688, 0.030208686449488688, 0.030208686449488688, 0.030208686449488688, 0.030208686449488688, 0.030208686449488688]\n",
      "[0.030368590330311716, 0.030368590330311716, 0.030208686449488688, 0.030208686449488688, 0.02988887868808332, 0.030208686449488688, 0.030368590330311716, 0.030048782568745883, 0.030368590330311716, 0.030208686449488688]\n",
      "[0.030048782568745883, 0.030368590330311716, 0.030208686449488688, 0.030208686449488688, 0.030048782568745883, 0.030368590330311716, 0.030368590330311716, 0.030208686449488688, 0.030208686449488688, 0.030048782568745883]\n",
      "[0.030208686449488688, 0.030208686449488688, 0.030208686449488688, 0.030208686449488688, 0.030048782568745883, 0.030368590330311716, 0.030368590330311716, 0.030368590330311716, 0.030208686449488688, 0.030208686449488688]\n"
     ]
    },
    {
     "ename": "KeyboardInterrupt",
     "evalue": "",
     "output_type": "error",
     "traceback": [
      "\u001b[1;31m---------------------------------------------------------------------------\u001b[0m",
      "\u001b[1;31mKeyboardInterrupt\u001b[0m                         Traceback (most recent call last)",
      "Cell \u001b[1;32mIn[61], line 7\u001b[0m\n\u001b[0;32m      5\u001b[0m time\u001b[38;5;241m.\u001b[39msleep(\u001b[38;5;241m0.1\u001b[39m)\n\u001b[0;32m      6\u001b[0m t0 \u001b[38;5;241m=\u001b[39m time\u001b[38;5;241m.\u001b[39mtime()\n\u001b[1;32m----> 7\u001b[0m data \u001b[38;5;241m=\u001b[39m \u001b[43mtask\u001b[49m\u001b[38;5;241;43m.\u001b[39;49m\u001b[43mread\u001b[49m\u001b[43m(\u001b[49m\u001b[43mnidaqmx\u001b[49m\u001b[38;5;241;43m.\u001b[39;49m\u001b[43mconstants\u001b[49m\u001b[38;5;241;43m.\u001b[39;49m\u001b[43mREAD_ALL_AVAILABLE\u001b[49m\u001b[43m)\u001b[49m\n\u001b[0;32m      8\u001b[0m \u001b[38;5;66;03m#print(time.time()-t0)\u001b[39;00m\n\u001b[0;32m      9\u001b[0m \u001b[38;5;28mprint\u001b[39m(data)\n",
      "File \u001b[1;32m~\\AppData\\Local\\Packages\\PythonSoftwareFoundation.Python.3.13_qbz5n2kfra8p0\\LocalCache\\local-packages\\Python313\\site-packages\\nidaqmx\\task\\_task.py:615\u001b[0m, in \u001b[0;36mTask.read\u001b[1;34m(self, number_of_samples_per_channel, timeout)\u001b[0m\n\u001b[0;32m    613\u001b[0m     \u001b[38;5;28;01melse\u001b[39;00m:\n\u001b[0;32m    614\u001b[0m         data: numpy\u001b[38;5;241m.\u001b[39mtyping\u001b[38;5;241m.\u001b[39mNDArray \u001b[38;5;241m=\u001b[39m numpy\u001b[38;5;241m.\u001b[39mzeros(array_shape, dtype\u001b[38;5;241m=\u001b[39mnumpy\u001b[38;5;241m.\u001b[39mfloat64)\n\u001b[1;32m--> 615\u001b[0m         _, samples_read \u001b[38;5;241m=\u001b[39m \u001b[38;5;28;43mself\u001b[39;49m\u001b[38;5;241;43m.\u001b[39;49m\u001b[43m_interpreter\u001b[49m\u001b[38;5;241;43m.\u001b[39;49m\u001b[43mread_analog_f64\u001b[49m\u001b[43m(\u001b[49m\n\u001b[0;32m    616\u001b[0m \u001b[43m            \u001b[49m\u001b[38;5;28;43mself\u001b[39;49m\u001b[38;5;241;43m.\u001b[39;49m\u001b[43m_handle\u001b[49m\u001b[43m,\u001b[49m\u001b[43m \u001b[49m\u001b[43mnumber_of_samples_per_channel\u001b[49m\u001b[43m,\u001b[49m\u001b[43m \u001b[49m\u001b[43mtimeout\u001b[49m\u001b[43m,\u001b[49m\n\u001b[0;32m    617\u001b[0m \u001b[43m            \u001b[49m\u001b[43mFillMode\u001b[49m\u001b[38;5;241;43m.\u001b[39;49m\u001b[43mGROUP_BY_CHANNEL\u001b[49m\u001b[38;5;241;43m.\u001b[39;49m\u001b[43mvalue\u001b[49m\u001b[43m,\u001b[49m\u001b[43m \u001b[49m\u001b[43mdata\u001b[49m\u001b[43m)\u001b[49m\n\u001b[0;32m    619\u001b[0m \u001b[38;5;28;01melif\u001b[39;00m (read_chan_type \u001b[38;5;241m==\u001b[39m ChannelType\u001b[38;5;241m.\u001b[39mDIGITAL_INPUT \u001b[38;5;129;01mor\u001b[39;00m\n\u001b[0;32m    620\u001b[0m         read_chan_type \u001b[38;5;241m==\u001b[39m ChannelType\u001b[38;5;241m.\u001b[39mDIGITAL_OUTPUT):\n\u001b[0;32m    621\u001b[0m     \u001b[38;5;28;01mif\u001b[39;00m \u001b[38;5;28mself\u001b[39m\u001b[38;5;241m.\u001b[39min_stream\u001b[38;5;241m.\u001b[39mdi_num_booleans_per_chan \u001b[38;5;241m==\u001b[39m \u001b[38;5;241m1\u001b[39m:\n",
      "File \u001b[1;32m~\\AppData\\Local\\Packages\\PythonSoftwareFoundation.Python.3.13_qbz5n2kfra8p0\\LocalCache\\local-packages\\Python313\\site-packages\\nidaqmx\\_library_interpreter.py:4163\u001b[0m, in \u001b[0;36mLibraryInterpreter.read_analog_f64\u001b[1;34m(self, task, num_samps_per_chan, timeout, fill_mode, read_array)\u001b[0m\n\u001b[0;32m   4155\u001b[0m         \u001b[38;5;28;01mif\u001b[39;00m cfunc\u001b[38;5;241m.\u001b[39margtypes \u001b[38;5;129;01mis\u001b[39;00m \u001b[38;5;28;01mNone\u001b[39;00m:\n\u001b[0;32m   4156\u001b[0m             cfunc\u001b[38;5;241m.\u001b[39margtypes \u001b[38;5;241m=\u001b[39m [\n\u001b[0;32m   4157\u001b[0m                 lib_importer\u001b[38;5;241m.\u001b[39mtask_handle, ctypes\u001b[38;5;241m.\u001b[39mc_int,\n\u001b[0;32m   4158\u001b[0m                 ctypes\u001b[38;5;241m.\u001b[39mc_double, ctypes\u001b[38;5;241m.\u001b[39mc_int,\n\u001b[0;32m   4159\u001b[0m                 wrapped_ndpointer(dtype\u001b[38;5;241m=\u001b[39mnumpy\u001b[38;5;241m.\u001b[39mfloat64,\n\u001b[0;32m   4160\u001b[0m                 flags\u001b[38;5;241m=\u001b[39m(\u001b[38;5;124m'\u001b[39m\u001b[38;5;124mC\u001b[39m\u001b[38;5;124m'\u001b[39m,\u001b[38;5;124m'\u001b[39m\u001b[38;5;124mW\u001b[39m\u001b[38;5;124m'\u001b[39m)), ctypes\u001b[38;5;241m.\u001b[39mc_uint,\n\u001b[0;32m   4161\u001b[0m                 ctypes\u001b[38;5;241m.\u001b[39mPOINTER(ctypes\u001b[38;5;241m.\u001b[39mc_int), ctypes\u001b[38;5;241m.\u001b[39mPOINTER(c_bool32)]\n\u001b[1;32m-> 4163\u001b[0m error_code \u001b[38;5;241m=\u001b[39m \u001b[43mcfunc\u001b[49m\u001b[43m(\u001b[49m\n\u001b[0;32m   4164\u001b[0m \u001b[43m    \u001b[49m\u001b[43mtask\u001b[49m\u001b[43m,\u001b[49m\u001b[43m \u001b[49m\u001b[43mnum_samps_per_chan\u001b[49m\u001b[43m,\u001b[49m\u001b[43m \u001b[49m\u001b[43mtimeout\u001b[49m\u001b[43m,\u001b[49m\u001b[43m \u001b[49m\u001b[43mfill_mode\u001b[49m\u001b[43m,\u001b[49m\u001b[43m \u001b[49m\u001b[43mread_array\u001b[49m\u001b[43m,\u001b[49m\n\u001b[0;32m   4165\u001b[0m \u001b[43m    \u001b[49m\u001b[43mread_array\u001b[49m\u001b[38;5;241;43m.\u001b[39;49m\u001b[43msize\u001b[49m\u001b[43m,\u001b[49m\u001b[43m \u001b[49m\u001b[43mctypes\u001b[49m\u001b[38;5;241;43m.\u001b[39;49m\u001b[43mbyref\u001b[49m\u001b[43m(\u001b[49m\u001b[43msamps_per_chan_read\u001b[49m\u001b[43m)\u001b[49m\u001b[43m,\u001b[49m\u001b[43m \u001b[49m\u001b[38;5;28;43;01mNone\u001b[39;49;00m\u001b[43m)\u001b[49m\n\u001b[0;32m   4166\u001b[0m \u001b[38;5;28mself\u001b[39m\u001b[38;5;241m.\u001b[39mcheck_for_error(error_code, samps_per_chan_read\u001b[38;5;241m=\u001b[39msamps_per_chan_read\u001b[38;5;241m.\u001b[39mvalue)\n\u001b[0;32m   4167\u001b[0m \u001b[38;5;28;01mreturn\u001b[39;00m read_array, samps_per_chan_read\u001b[38;5;241m.\u001b[39mvalue\n",
      "\u001b[1;31mKeyboardInterrupt\u001b[0m: "
     ]
    }
   ],
   "source": [
    "with nidaqmx.Task() as task:\n",
    "    task.ai_channels.add_ai_voltage_chan(\"Dev1/ai0\")\n",
    "    task.timing.cfg_samp_clk_timing(10.0, sample_mode=nidaqmx.constants.AcquisitionType.FINITE, samps_per_chan=10)\n",
    "    while 1:\n",
    "        time.sleep(0.1)\n",
    "        t0 = time.time()\n",
    "        data = task.read(nidaqmx.constants.READ_ALL_AVAILABLE)\n",
    "        #print(time.time()-t0)\n",
    "        print(data)\n",
    "        #print(data, end='\\r')"
   ]
  },
  {
   "cell_type": "code",
   "execution_count": 12,
   "id": "f2b500bf-00a7-43a0-bbeb-ee9ad9302ff4",
   "metadata": {},
   "outputs": [
    {
     "name": "stdout",
     "output_type": "stream",
     "text": [
      "1.0110930000664666\n",
      "0.9997023999458179\n"
     ]
    },
    {
     "ename": "KeyboardInterrupt",
     "evalue": "",
     "output_type": "error",
     "traceback": [
      "\u001b[1;31m---------------------------------------------------------------------------\u001b[0m",
      "\u001b[1;31mKeyboardInterrupt\u001b[0m                         Traceback (most recent call last)",
      "Cell \u001b[1;32mIn[12], line 13\u001b[0m\n\u001b[0;32m     11\u001b[0m time\u001b[38;5;241m.\u001b[39msleep(\u001b[38;5;241m0.1\u001b[39m)\n\u001b[0;32m     12\u001b[0m t0 \u001b[38;5;241m=\u001b[39m time\u001b[38;5;241m.\u001b[39mtime()\n\u001b[1;32m---> 13\u001b[0m data \u001b[38;5;241m=\u001b[39m \u001b[43mtask\u001b[49m\u001b[38;5;241;43m.\u001b[39;49m\u001b[43mread\u001b[49m\u001b[43m(\u001b[49m\u001b[43mnidaqmx\u001b[49m\u001b[38;5;241;43m.\u001b[39;49m\u001b[43mconstants\u001b[49m\u001b[38;5;241;43m.\u001b[39;49m\u001b[43mREAD_ALL_AVAILABLE\u001b[49m\u001b[43m)\u001b[49m\n\u001b[0;32m     14\u001b[0m \u001b[38;5;28mprint\u001b[39m(time\u001b[38;5;241m.\u001b[39mperf_counter()\u001b[38;5;241m-\u001b[39mt1)\n\u001b[0;32m     15\u001b[0m \u001b[38;5;66;03m#print(time.time()-t00)\u001b[39;00m\n\u001b[0;32m     16\u001b[0m \u001b[38;5;66;03m#print(data)\u001b[39;00m\n\u001b[0;32m     17\u001b[0m \u001b[38;5;66;03m#print(data, end='\\r')\u001b[39;00m\n",
      "File \u001b[1;32m~\\AppData\\Local\\Packages\\PythonSoftwareFoundation.Python.3.13_qbz5n2kfra8p0\\LocalCache\\local-packages\\Python313\\site-packages\\nidaqmx\\task\\_task.py:615\u001b[0m, in \u001b[0;36mTask.read\u001b[1;34m(self, number_of_samples_per_channel, timeout)\u001b[0m\n\u001b[0;32m    613\u001b[0m     \u001b[38;5;28;01melse\u001b[39;00m:\n\u001b[0;32m    614\u001b[0m         data: numpy\u001b[38;5;241m.\u001b[39mtyping\u001b[38;5;241m.\u001b[39mNDArray \u001b[38;5;241m=\u001b[39m numpy\u001b[38;5;241m.\u001b[39mzeros(array_shape, dtype\u001b[38;5;241m=\u001b[39mnumpy\u001b[38;5;241m.\u001b[39mfloat64)\n\u001b[1;32m--> 615\u001b[0m         _, samples_read \u001b[38;5;241m=\u001b[39m \u001b[38;5;28;43mself\u001b[39;49m\u001b[38;5;241;43m.\u001b[39;49m\u001b[43m_interpreter\u001b[49m\u001b[38;5;241;43m.\u001b[39;49m\u001b[43mread_analog_f64\u001b[49m\u001b[43m(\u001b[49m\n\u001b[0;32m    616\u001b[0m \u001b[43m            \u001b[49m\u001b[38;5;28;43mself\u001b[39;49m\u001b[38;5;241;43m.\u001b[39;49m\u001b[43m_handle\u001b[49m\u001b[43m,\u001b[49m\u001b[43m \u001b[49m\u001b[43mnumber_of_samples_per_channel\u001b[49m\u001b[43m,\u001b[49m\u001b[43m \u001b[49m\u001b[43mtimeout\u001b[49m\u001b[43m,\u001b[49m\n\u001b[0;32m    617\u001b[0m \u001b[43m            \u001b[49m\u001b[43mFillMode\u001b[49m\u001b[38;5;241;43m.\u001b[39;49m\u001b[43mGROUP_BY_CHANNEL\u001b[49m\u001b[38;5;241;43m.\u001b[39;49m\u001b[43mvalue\u001b[49m\u001b[43m,\u001b[49m\u001b[43m \u001b[49m\u001b[43mdata\u001b[49m\u001b[43m)\u001b[49m\n\u001b[0;32m    619\u001b[0m \u001b[38;5;28;01melif\u001b[39;00m (read_chan_type \u001b[38;5;241m==\u001b[39m ChannelType\u001b[38;5;241m.\u001b[39mDIGITAL_INPUT \u001b[38;5;129;01mor\u001b[39;00m\n\u001b[0;32m    620\u001b[0m         read_chan_type \u001b[38;5;241m==\u001b[39m ChannelType\u001b[38;5;241m.\u001b[39mDIGITAL_OUTPUT):\n\u001b[0;32m    621\u001b[0m     \u001b[38;5;28;01mif\u001b[39;00m \u001b[38;5;28mself\u001b[39m\u001b[38;5;241m.\u001b[39min_stream\u001b[38;5;241m.\u001b[39mdi_num_booleans_per_chan \u001b[38;5;241m==\u001b[39m \u001b[38;5;241m1\u001b[39m:\n",
      "File \u001b[1;32m~\\AppData\\Local\\Packages\\PythonSoftwareFoundation.Python.3.13_qbz5n2kfra8p0\\LocalCache\\local-packages\\Python313\\site-packages\\nidaqmx\\_library_interpreter.py:4163\u001b[0m, in \u001b[0;36mLibraryInterpreter.read_analog_f64\u001b[1;34m(self, task, num_samps_per_chan, timeout, fill_mode, read_array)\u001b[0m\n\u001b[0;32m   4155\u001b[0m         \u001b[38;5;28;01mif\u001b[39;00m cfunc\u001b[38;5;241m.\u001b[39margtypes \u001b[38;5;129;01mis\u001b[39;00m \u001b[38;5;28;01mNone\u001b[39;00m:\n\u001b[0;32m   4156\u001b[0m             cfunc\u001b[38;5;241m.\u001b[39margtypes \u001b[38;5;241m=\u001b[39m [\n\u001b[0;32m   4157\u001b[0m                 lib_importer\u001b[38;5;241m.\u001b[39mtask_handle, ctypes\u001b[38;5;241m.\u001b[39mc_int,\n\u001b[0;32m   4158\u001b[0m                 ctypes\u001b[38;5;241m.\u001b[39mc_double, ctypes\u001b[38;5;241m.\u001b[39mc_int,\n\u001b[0;32m   4159\u001b[0m                 wrapped_ndpointer(dtype\u001b[38;5;241m=\u001b[39mnumpy\u001b[38;5;241m.\u001b[39mfloat64,\n\u001b[0;32m   4160\u001b[0m                 flags\u001b[38;5;241m=\u001b[39m(\u001b[38;5;124m'\u001b[39m\u001b[38;5;124mC\u001b[39m\u001b[38;5;124m'\u001b[39m,\u001b[38;5;124m'\u001b[39m\u001b[38;5;124mW\u001b[39m\u001b[38;5;124m'\u001b[39m)), ctypes\u001b[38;5;241m.\u001b[39mc_uint,\n\u001b[0;32m   4161\u001b[0m                 ctypes\u001b[38;5;241m.\u001b[39mPOINTER(ctypes\u001b[38;5;241m.\u001b[39mc_int), ctypes\u001b[38;5;241m.\u001b[39mPOINTER(c_bool32)]\n\u001b[1;32m-> 4163\u001b[0m error_code \u001b[38;5;241m=\u001b[39m \u001b[43mcfunc\u001b[49m\u001b[43m(\u001b[49m\n\u001b[0;32m   4164\u001b[0m \u001b[43m    \u001b[49m\u001b[43mtask\u001b[49m\u001b[43m,\u001b[49m\u001b[43m \u001b[49m\u001b[43mnum_samps_per_chan\u001b[49m\u001b[43m,\u001b[49m\u001b[43m \u001b[49m\u001b[43mtimeout\u001b[49m\u001b[43m,\u001b[49m\u001b[43m \u001b[49m\u001b[43mfill_mode\u001b[49m\u001b[43m,\u001b[49m\u001b[43m \u001b[49m\u001b[43mread_array\u001b[49m\u001b[43m,\u001b[49m\n\u001b[0;32m   4165\u001b[0m \u001b[43m    \u001b[49m\u001b[43mread_array\u001b[49m\u001b[38;5;241;43m.\u001b[39;49m\u001b[43msize\u001b[49m\u001b[43m,\u001b[49m\u001b[43m \u001b[49m\u001b[43mctypes\u001b[49m\u001b[38;5;241;43m.\u001b[39;49m\u001b[43mbyref\u001b[49m\u001b[43m(\u001b[49m\u001b[43msamps_per_chan_read\u001b[49m\u001b[43m)\u001b[49m\u001b[43m,\u001b[49m\u001b[43m \u001b[49m\u001b[38;5;28;43;01mNone\u001b[39;49;00m\u001b[43m)\u001b[49m\n\u001b[0;32m   4166\u001b[0m \u001b[38;5;28mself\u001b[39m\u001b[38;5;241m.\u001b[39mcheck_for_error(error_code, samps_per_chan_read\u001b[38;5;241m=\u001b[39msamps_per_chan_read\u001b[38;5;241m.\u001b[39mvalue)\n\u001b[0;32m   4167\u001b[0m \u001b[38;5;28;01mreturn\u001b[39;00m read_array, samps_per_chan_read\u001b[38;5;241m.\u001b[39mvalue\n",
      "\u001b[1;31mKeyboardInterrupt\u001b[0m: "
     ]
    }
   ],
   "source": [
    "task =  nidaqmx.Task()\n",
    "task.ai_channels.add_ai_voltage_chan(\"Dev1/ai0\")\n",
    "task.timing.cfg_samp_clk_timing(1000.0, sample_mode=nidaqmx.constants.AcquisitionType.FINITE, samps_per_chan=1000)\n",
    "\n",
    "\n",
    "while(1):\n",
    "    t00 = time.time()\n",
    "    task.stop()\n",
    "    task.start()\n",
    "    t1 = time.perf_counter()\n",
    "    time.sleep(0.1)\n",
    "    t0 = time.time()\n",
    "    data = task.read(nidaqmx.constants.READ_ALL_AVAILABLE)\n",
    "    print(time.perf_counter()-t1)\n",
    "    #print(time.time()-t00)\n",
    "    #print(data)\n",
    "    #print(data, end='\\r')"
   ]
  },
  {
   "cell_type": "code",
   "execution_count": 13,
   "id": "824da2d1-5dd8-41ce-af68-d87069e56cd4",
   "metadata": {},
   "outputs": [],
   "source": [
    "task.stop()"
   ]
  },
  {
   "cell_type": "code",
   "execution_count": 14,
   "id": "1a0bccde-60f3-4a3b-bd1b-b7162a6a7566",
   "metadata": {},
   "outputs": [],
   "source": [
    "task.close()"
   ]
  },
  {
   "cell_type": "code",
   "execution_count": 23,
   "id": "46171d22-f042-447e-b2ae-b1b0cb7b1b99",
   "metadata": {},
   "outputs": [
    {
     "data": {
      "text/plain": [
       "False"
      ]
     },
     "execution_count": 23,
     "metadata": {},
     "output_type": "execute_result"
    }
   ],
   "source": [
    "task is None"
   ]
  },
  {
   "cell_type": "code",
   "execution_count": 24,
   "id": "1b422a07-05e5-47e4-800d-128e9cd1e7d5",
   "metadata": {},
   "outputs": [
    {
     "ename": "DaqError",
     "evalue": "Task specified is invalid or does not exist.\nStatus Code: -200088",
     "output_type": "error",
     "traceback": [
      "\u001b[1;31m---------------------------------------------------------------------------\u001b[0m",
      "\u001b[1;31mDaqError\u001b[0m                                  Traceback (most recent call last)",
      "Cell \u001b[1;32mIn[24], line 1\u001b[0m\n\u001b[1;32m----> 1\u001b[0m \u001b[43mtask\u001b[49m\u001b[38;5;241;43m.\u001b[39;49m\u001b[43mis_task_done\u001b[49m\u001b[43m(\u001b[49m\u001b[43m)\u001b[49m\n",
      "File \u001b[1;32m~\\AppData\\Local\\Packages\\PythonSoftwareFoundation.Python.3.13_qbz5n2kfra8p0\\LocalCache\\local-packages\\Python313\\site-packages\\nidaqmx\\task\\_task.py:390\u001b[0m, in \u001b[0;36mTask.is_task_done\u001b[1;34m(self)\u001b[0m\n\u001b[0;32m    379\u001b[0m \u001b[38;5;28;01mdef\u001b[39;00m \u001b[38;5;21mis_task_done\u001b[39m(\u001b[38;5;28mself\u001b[39m):\n\u001b[0;32m    380\u001b[0m \u001b[38;5;250m    \u001b[39m\u001b[38;5;124;03m\"\"\"\u001b[39;00m\n\u001b[0;32m    381\u001b[0m \u001b[38;5;124;03m    Queries the status of the task and indicates if it completed\u001b[39;00m\n\u001b[0;32m    382\u001b[0m \u001b[38;5;124;03m    execution. Use this function to ensure that the specified\u001b[39;00m\n\u001b[1;32m   (...)\u001b[0m\n\u001b[0;32m    388\u001b[0m \u001b[38;5;124;03m        Indicates if the measurement or generation completed.\u001b[39;00m\n\u001b[0;32m    389\u001b[0m \u001b[38;5;124;03m    \"\"\"\u001b[39;00m\n\u001b[1;32m--> 390\u001b[0m     is_task_done \u001b[38;5;241m=\u001b[39m \u001b[38;5;28;43mself\u001b[39;49m\u001b[38;5;241;43m.\u001b[39;49m\u001b[43m_interpreter\u001b[49m\u001b[38;5;241;43m.\u001b[39;49m\u001b[43mis_task_done\u001b[49m\u001b[43m(\u001b[49m\u001b[38;5;28;43mself\u001b[39;49m\u001b[38;5;241;43m.\u001b[39;49m\u001b[43m_handle\u001b[49m\u001b[43m)\u001b[49m\n\u001b[0;32m    392\u001b[0m     \u001b[38;5;28;01mreturn\u001b[39;00m is_task_done\n",
      "File \u001b[1;32m~\\AppData\\Local\\Packages\\PythonSoftwareFoundation.Python.3.13_qbz5n2kfra8p0\\LocalCache\\local-packages\\Python313\\site-packages\\nidaqmx\\_library_interpreter.py:4063\u001b[0m, in \u001b[0;36mLibraryInterpreter.is_task_done\u001b[1;34m(self, task)\u001b[0m\n\u001b[0;32m   4058\u001b[0m             cfunc\u001b[38;5;241m.\u001b[39margtypes \u001b[38;5;241m=\u001b[39m [\n\u001b[0;32m   4059\u001b[0m                 lib_importer\u001b[38;5;241m.\u001b[39mtask_handle, ctypes\u001b[38;5;241m.\u001b[39mPOINTER(c_bool32)]\n\u001b[0;32m   4061\u001b[0m error_code \u001b[38;5;241m=\u001b[39m cfunc(\n\u001b[0;32m   4062\u001b[0m     task, ctypes\u001b[38;5;241m.\u001b[39mbyref(is_task_done))\n\u001b[1;32m-> 4063\u001b[0m \u001b[38;5;28;43mself\u001b[39;49m\u001b[38;5;241;43m.\u001b[39;49m\u001b[43mcheck_for_error\u001b[49m\u001b[43m(\u001b[49m\u001b[43merror_code\u001b[49m\u001b[43m)\u001b[49m\n\u001b[0;32m   4064\u001b[0m \u001b[38;5;28;01mreturn\u001b[39;00m is_task_done\u001b[38;5;241m.\u001b[39mvalue\n",
      "File \u001b[1;32m~\\AppData\\Local\\Packages\\PythonSoftwareFoundation.Python.3.13_qbz5n2kfra8p0\\LocalCache\\local-packages\\Python313\\site-packages\\nidaqmx\\_library_interpreter.py:6412\u001b[0m, in \u001b[0;36mLibraryInterpreter.check_for_error\u001b[1;34m(self, error_code, samps_per_chan_written, samps_per_chan_read)\u001b[0m\n\u001b[0;32m   6410\u001b[0m         \u001b[38;5;28;01mraise\u001b[39;00m DaqWriteError(extended_error_info, error_code, samps_per_chan_written)\n\u001b[0;32m   6411\u001b[0m     \u001b[38;5;28;01melse\u001b[39;00m:\n\u001b[1;32m-> 6412\u001b[0m         \u001b[38;5;28;01mraise\u001b[39;00m DaqError(extended_error_info, error_code)\n\u001b[0;32m   6414\u001b[0m \u001b[38;5;28;01melif\u001b[39;00m error_code \u001b[38;5;241m>\u001b[39m \u001b[38;5;241m0\u001b[39m:\n\u001b[0;32m   6415\u001b[0m     error_string \u001b[38;5;241m=\u001b[39m \u001b[38;5;28mself\u001b[39m\u001b[38;5;241m.\u001b[39mget_error_string(error_code)\n",
      "\u001b[1;31mDaqError\u001b[0m: Task specified is invalid or does not exist.\nStatus Code: -200088"
     ]
    }
   ],
   "source": [
    "task.is_task_done()"
   ]
  },
  {
   "cell_type": "code",
   "execution_count": 9,
   "id": "12110afc-dd54-4b55-af1e-3d86c132d18f",
   "metadata": {},
   "outputs": [
    {
     "data": {
      "text/plain": [
       "152"
      ]
     },
     "execution_count": 9,
     "metadata": {},
     "output_type": "execute_result"
    }
   ],
   "source": [
    "int(1000*0.1523123)"
   ]
  },
  {
   "cell_type": "code",
   "execution_count": 4,
   "id": "f64b908b-c73e-4d21-b811-243908c4a41c",
   "metadata": {},
   "outputs": [],
   "source": [
    "counter = USB6346()"
   ]
  },
  {
   "cell_type": "code",
   "execution_count": 5,
   "id": "1c6ee468-7131-4ee0-b3cf-1c836438e998",
   "metadata": {},
   "outputs": [
    {
     "data": {
      "text/plain": [
       "1"
      ]
     },
     "execution_count": 5,
     "metadata": {},
     "output_type": "execute_result"
    }
   ],
   "source": [
    "counter.exposure"
   ]
  },
  {
   "cell_type": "code",
   "execution_count": 6,
   "id": "168cac30-b204-4809-bb68-df626020c053",
   "metadata": {},
   "outputs": [
    {
     "name": "stdout",
     "output_type": "stream",
     "text": [
      "1.0468475818634033\n"
     ]
    }
   ],
   "source": [
    "import time\n",
    "t0 = time.time()\n",
    "counter.read_counts(1, None)\n",
    "print(time.time()-t0)"
   ]
  },
  {
   "cell_type": "code",
   "execution_count": 12,
   "id": "694e6428-bf1b-4440-b74d-b79277e11d04",
   "metadata": {},
   "outputs": [
    {
     "data": {
      "text/plain": [
       "19.42"
      ]
     },
     "execution_count": 12,
     "metadata": {},
     "output_type": "execute_result"
    }
   ],
   "source": [
    "float(np.average([1.02, 2.04, 55.2]))"
   ]
  },
  {
   "cell_type": "code",
   "execution_count": 21,
   "id": "490d2cbd-32f7-4804-8dae-584e4244a38a",
   "metadata": {},
   "outputs": [],
   "source": [
    "counter.exit_handler()"
   ]
  },
  {
   "cell_type": "code",
   "execution_count": 20,
   "id": "e3ad82a6-25a1-4f45-ba26-3851ad24de2d",
   "metadata": {},
   "outputs": [
    {
     "ename": "DaqError",
     "evalue": "Specified property cannot be set while the task is running.\nSet the property prior to starting the task, or stop the task prior to setting the property.\n\nProperty: DAQmx_SampTimingType\n\nTask Name: _unnamedTask<8>\n\nStatus Code: -200557",
     "output_type": "error",
     "traceback": [
      "\u001b[1;31m---------------------------------------------------------------------------\u001b[0m",
      "\u001b[1;31mDaqError\u001b[0m                                  Traceback (most recent call last)",
      "Cell \u001b[1;32mIn[20], line 1\u001b[0m\n\u001b[1;32m----> 1\u001b[0m \u001b[43mcounter\u001b[49m\u001b[38;5;241;43m.\u001b[39;49m\u001b[43mtask_counter_ai\u001b[49m\u001b[38;5;241;43m.\u001b[39;49m\u001b[43mtiming\u001b[49m\u001b[38;5;241;43m.\u001b[39;49m\u001b[43mcfg_samp_clk_timing\u001b[49m\u001b[43m(\u001b[49m\u001b[38;5;241;43m1000.0\u001b[39;49m\u001b[43m,\u001b[49m\u001b[43m \u001b[49m\u001b[43msample_mode\u001b[49m\u001b[38;5;241;43m=\u001b[39;49m\u001b[43mnidaqmx\u001b[49m\u001b[38;5;241;43m.\u001b[39;49m\u001b[43mconstants\u001b[49m\u001b[38;5;241;43m.\u001b[39;49m\u001b[43mAcquisitionType\u001b[49m\u001b[38;5;241;43m.\u001b[39;49m\u001b[43mFINITE\u001b[49m\u001b[43m,\u001b[49m\u001b[43m \u001b[49m\u001b[43msamps_per_chan\u001b[49m\u001b[38;5;241;43m=\u001b[39;49m\u001b[38;5;241;43m1000\u001b[39;49m\u001b[43m)\u001b[49m\n",
      "File \u001b[1;32m~\\AppData\\Local\\Packages\\PythonSoftwareFoundation.Python.3.13_qbz5n2kfra8p0\\LocalCache\\local-packages\\Python313\\site-packages\\nidaqmx\\task\\_timing.py:1428\u001b[0m, in \u001b[0;36mTiming.cfg_samp_clk_timing\u001b[1;34m(self, rate, source, active_edge, sample_mode, samps_per_chan)\u001b[0m\n\u001b[0;32m   1398\u001b[0m \u001b[38;5;28;01mdef\u001b[39;00m \u001b[38;5;21mcfg_samp_clk_timing\u001b[39m(\n\u001b[0;32m   1399\u001b[0m         \u001b[38;5;28mself\u001b[39m, rate, source\u001b[38;5;241m=\u001b[39m\u001b[38;5;124m\"\u001b[39m\u001b[38;5;124m\"\u001b[39m, active_edge\u001b[38;5;241m=\u001b[39mEdge\u001b[38;5;241m.\u001b[39mRISING,\n\u001b[0;32m   1400\u001b[0m         sample_mode\u001b[38;5;241m=\u001b[39mAcquisitionType\u001b[38;5;241m.\u001b[39mFINITE, samps_per_chan\u001b[38;5;241m=\u001b[39m\u001b[38;5;241m1000\u001b[39m):\n\u001b[0;32m   1401\u001b[0m \u001b[38;5;250m    \u001b[39m\u001b[38;5;124;03m\"\"\"\u001b[39;00m\n\u001b[0;32m   1402\u001b[0m \u001b[38;5;124;03m    Sets the source of the Sample Clock, the rate of the Sample\u001b[39;00m\n\u001b[0;32m   1403\u001b[0m \u001b[38;5;124;03m    Clock, and the number of samples to acquire or generate.\u001b[39;00m\n\u001b[1;32m   (...)\u001b[0m\n\u001b[0;32m   1425\u001b[0m \u001b[38;5;124;03m            returns an error if the specified value is negative.\u001b[39;00m\n\u001b[0;32m   1426\u001b[0m \u001b[38;5;124;03m    \"\"\"\u001b[39;00m\n\u001b[1;32m-> 1428\u001b[0m     \u001b[38;5;28;43mself\u001b[39;49m\u001b[38;5;241;43m.\u001b[39;49m\u001b[43m_interpreter\u001b[49m\u001b[38;5;241;43m.\u001b[39;49m\u001b[43mcfg_samp_clk_timing\u001b[49m\u001b[43m(\u001b[49m\n\u001b[0;32m   1429\u001b[0m \u001b[43m        \u001b[49m\u001b[38;5;28;43mself\u001b[39;49m\u001b[38;5;241;43m.\u001b[39;49m\u001b[43m_handle\u001b[49m\u001b[43m,\u001b[49m\u001b[43m \u001b[49m\u001b[43mrate\u001b[49m\u001b[43m,\u001b[49m\u001b[43m \u001b[49m\u001b[43msource\u001b[49m\u001b[43m,\u001b[49m\u001b[43m \u001b[49m\u001b[43mactive_edge\u001b[49m\u001b[38;5;241;43m.\u001b[39;49m\u001b[43mvalue\u001b[49m\u001b[43m,\u001b[49m\u001b[43m \u001b[49m\u001b[43msample_mode\u001b[49m\u001b[38;5;241;43m.\u001b[39;49m\u001b[43mvalue\u001b[49m\u001b[43m,\u001b[49m\n\u001b[0;32m   1430\u001b[0m \u001b[43m        \u001b[49m\u001b[43msamps_per_chan\u001b[49m\u001b[43m)\u001b[49m\n",
      "File \u001b[1;32m~\\AppData\\Local\\Packages\\PythonSoftwareFoundation.Python.3.13_qbz5n2kfra8p0\\LocalCache\\local-packages\\Python313\\site-packages\\nidaqmx\\_library_interpreter.py:435\u001b[0m, in \u001b[0;36mLibraryInterpreter.cfg_samp_clk_timing\u001b[1;34m(self, task, rate, source, active_edge, sample_mode, samps_per_chan)\u001b[0m\n\u001b[0;32m    428\u001b[0m             cfunc\u001b[38;5;241m.\u001b[39margtypes \u001b[38;5;241m=\u001b[39m [\n\u001b[0;32m    429\u001b[0m                 lib_importer\u001b[38;5;241m.\u001b[39mtask_handle, ctypes_byte_str,\n\u001b[0;32m    430\u001b[0m                 ctypes\u001b[38;5;241m.\u001b[39mc_double, ctypes\u001b[38;5;241m.\u001b[39mc_int, ctypes\u001b[38;5;241m.\u001b[39mc_int,\n\u001b[0;32m    431\u001b[0m                 ctypes\u001b[38;5;241m.\u001b[39mc_ulonglong]\n\u001b[0;32m    433\u001b[0m error_code \u001b[38;5;241m=\u001b[39m cfunc(\n\u001b[0;32m    434\u001b[0m     task, source, rate, active_edge, sample_mode, samps_per_chan)\n\u001b[1;32m--> 435\u001b[0m \u001b[38;5;28;43mself\u001b[39;49m\u001b[38;5;241;43m.\u001b[39;49m\u001b[43mcheck_for_error\u001b[49m\u001b[43m(\u001b[49m\u001b[43merror_code\u001b[49m\u001b[43m)\u001b[49m\n",
      "File \u001b[1;32m~\\AppData\\Local\\Packages\\PythonSoftwareFoundation.Python.3.13_qbz5n2kfra8p0\\LocalCache\\local-packages\\Python313\\site-packages\\nidaqmx\\_library_interpreter.py:6412\u001b[0m, in \u001b[0;36mLibraryInterpreter.check_for_error\u001b[1;34m(self, error_code, samps_per_chan_written, samps_per_chan_read)\u001b[0m\n\u001b[0;32m   6410\u001b[0m         \u001b[38;5;28;01mraise\u001b[39;00m DaqWriteError(extended_error_info, error_code, samps_per_chan_written)\n\u001b[0;32m   6411\u001b[0m     \u001b[38;5;28;01melse\u001b[39;00m:\n\u001b[1;32m-> 6412\u001b[0m         \u001b[38;5;28;01mraise\u001b[39;00m DaqError(extended_error_info, error_code)\n\u001b[0;32m   6414\u001b[0m \u001b[38;5;28;01melif\u001b[39;00m error_code \u001b[38;5;241m>\u001b[39m \u001b[38;5;241m0\u001b[39m:\n\u001b[0;32m   6415\u001b[0m     error_string \u001b[38;5;241m=\u001b[39m \u001b[38;5;28mself\u001b[39m\u001b[38;5;241m.\u001b[39mget_error_string(error_code)\n",
      "\u001b[1;31mDaqError\u001b[0m: Specified property cannot be set while the task is running.\nSet the property prior to starting the task, or stop the task prior to setting the property.\n\nProperty: DAQmx_SampTimingType\n\nTask Name: _unnamedTask<8>\n\nStatus Code: -200557"
     ]
    }
   ],
   "source": [
    "counter.task_counter_ai.timing.cfg_samp_clk_timing(1000.0, sample_mode=nidaqmx.constants.AcquisitionType.FINITE, samps_per_chan=1000)"
   ]
  },
  {
   "cell_type": "code",
   "execution_count": 12,
   "id": "b558079d-d67c-432b-ae96-d7d6ab65c958",
   "metadata": {},
   "outputs": [
    {
     "data": {
      "text/plain": [
       "<confocal_gui.device.USB6346 at 0x18b88c94c20>"
      ]
     },
     "execution_count": 12,
     "metadata": {},
     "output_type": "execute_result"
    }
   ],
   "source": [
    "counter"
   ]
  },
  {
   "cell_type": "code",
   "execution_count": 13,
   "id": "1ab45de2-1b1d-4d6c-aeec-785d37dd3ac6",
   "metadata": {},
   "outputs": [
    {
     "data": {
      "text/plain": [
       "False"
      ]
     },
     "execution_count": 13,
     "metadata": {},
     "output_type": "execute_result"
    }
   ],
   "source": [
    "hasattr(counter, '__bases__')"
   ]
  },
  {
   "cell_type": "code",
   "execution_count": 15,
   "id": "05288596-e06b-4415-bb4e-690da4a6d1df",
   "metadata": {},
   "outputs": [
    {
     "data": {
      "text/plain": [
       "False"
      ]
     },
     "execution_count": 15,
     "metadata": {},
     "output_type": "execute_result"
    }
   ],
   "source": [
    "hasattr(counter, '__call__')"
   ]
  },
  {
   "cell_type": "code",
   "execution_count": 17,
   "id": "a7ec91af-5fc2-4929-b553-25ccf7f86afd",
   "metadata": {},
   "outputs": [
    {
     "data": {
      "text/plain": [
       "False"
      ]
     },
     "execution_count": 17,
     "metadata": {},
     "output_type": "execute_result"
    }
   ],
   "source": [
    "hasattr(counter.read_counts, '__bases__')"
   ]
  },
  {
   "cell_type": "code",
   "execution_count": 18,
   "id": "ccea3f29-7b0c-4e55-9824-a15b8a2be6dc",
   "metadata": {},
   "outputs": [
    {
     "data": {
      "text/plain": [
       "True"
      ]
     },
     "execution_count": 18,
     "metadata": {},
     "output_type": "execute_result"
    }
   ],
   "source": [
    "hasattr(counter.read_counts, '__call__')"
   ]
  },
  {
   "cell_type": "code",
   "execution_count": 19,
   "id": "5bb2f265-d824-4812-ae9a-35644e5529af",
   "metadata": {},
   "outputs": [
    {
     "data": {
      "text/plain": [
       "{'scanner': <confocal_gui.virtual_device.VirtualScanner at 0x18bf5622e40>,\n",
       " 'counter': <function confocal_gui.virtual_device.virtual_read_counts(duration, parent)>,\n",
       " 'rf': <confocal_gui.device.DSG836 at 0x18b88c2a270>,\n",
       " 'laser_stabilizer_core': <confocal_gui.logic.VirtualLaserStabilizerCore at 0x18b88c946e0>,\n",
       " 'laser_stabilizer': <LaserStabilizer(Thread-3, initial daemon)>,\n",
       " 'display_scale': 1}"
      ]
     },
     "execution_count": 19,
     "metadata": {},
     "output_type": "execute_result"
    }
   ],
   "source": [
    "config_instances"
   ]
  },
  {
   "cell_type": "code",
   "execution_count": 7,
   "id": "451ffcd4-8671-49f1-b885-3e88670f8e62",
   "metadata": {},
   "outputs": [],
   "source": [
    "config_instances['counter'] = counter.read_counts"
   ]
  },
  {
   "cell_type": "code",
   "execution_count": 10,
   "id": "4a365d2f-340e-43e6-95c4-1a13704584e7",
   "metadata": {},
   "outputs": [
    {
     "data": {
      "application/vnd.jupyter.widget-view+json": {
       "model_id": "a0867dcbbdc34d6bbe762a29e1f02095",
       "version_major": 2,
       "version_minor": 0
      },
      "image/png": "[encoded data removed]",
      "text/html": [
       "\n",
       "            <div style=\"display: inline-block;\">\n",
       "                <div class=\"jupyter-widgets widget-label\" style=\"text-align: center;\">\n",
       "                    Figure\n",
       "                </div>\n",
       "                <img src='data:image/png;base64,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' width=630.0/>\n",
       "            </div>\n",
       "        "
      ],
      "text/plain": [
       "Canvas(capture_scroll=True, footer_visible=False, header_visible=False, resizable=False, toolbar=Toolbar(tooli…"
      ]
     },
     "metadata": {},
     "output_type": "display_data"
    },
    {
     "name": "stdout",
     "output_type": "stream",
     "text": [
      "\n"
     ]
    }
   ],
   "source": [
    "fig, data_figure = live(np.arange(100), exposure=0.1, wavelength=None, \n",
    "                                           is_finite=False, config_instances={**config_instances})\n",
    "# wavelength defines wavelength for live plot"
   ]
  },
  {
   "cell_type": "code",
   "execution_count": 7,
   "id": "bf4cf3fe-6d88-482f-9184-52027fe50586",
   "metadata": {},
   "outputs": [
    {
     "data": {
      "text/plain": [
       "0.01783516449266453"
      ]
     },
     "execution_count": 7,
     "metadata": {},
     "output_type": "execute_result"
    }
   ],
   "source": [
    "config_instances['counter'](1, None)"
   ]
  },
  {
   "cell_type": "code",
   "execution_count": 8,
   "id": "df132176-8d76-4f86-80a7-0d1cb7a1f6d9",
   "metadata": {},
   "outputs": [],
   "source": [
    "rf = config_instances['rf']"
   ]
  },
  {
   "cell_type": "code",
   "execution_count": 9,
   "id": "18423680-25f6-46a7-bf1e-7efe8fa71ac7",
   "metadata": {},
   "outputs": [
    {
     "data": {
      "text/plain": [
       "2395000000.0"
      ]
     },
     "execution_count": 9,
     "metadata": {},
     "output_type": "execute_result"
    }
   ],
   "source": [
    "rf.frequency"
   ]
  },
  {
   "cell_type": "code",
   "execution_count": 13,
   "id": "ca54fa1d-20ca-458b-bcc9-d4fbe704ee0d",
   "metadata": {},
   "outputs": [],
   "source": [
    "rf.power = -10"
   ]
  },
  {
   "cell_type": "code",
   "execution_count": 22,
   "id": "f7cbce71-c1fe-42cc-ac30-aef4b35dd62c",
   "metadata": {},
   "outputs": [
    {
     "data": {
      "application/vnd.jupyter.widget-view+json": {
       "model_id": "cba33309bf41457a968ef5c1c10d564b",
       "version_major": 2,
       "version_minor": 0
      },
      "image/png": "[encoded data removed]",
      "text/html": [
       "\n",
       "            <div style=\"display: inline-block;\">\n",
       "                <div class=\"jupyter-widgets widget-label\" style=\"text-align: center;\">\n",
       "                    Figure\n",
       "                </div>\n",
       "                <img src='data:image/png;base64,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' width=630.0/>\n",
       "            </div>\n",
       "        "
      ],
      "text/plain": [
       "Canvas(capture_scroll=True, footer_visible=False, header_visible=False, resizable=False, toolbar=Toolbar(tooli…"
      ]
     },
     "metadata": {},
     "output_type": "display_data"
    }
   ],
   "source": [
    "fig, data_figure = odmr(np.arange(2.77e9, 2.97e9, 1e6), exposure=0.1, power=-10, \\\n",
    "                                config_instances={**config_instances})"
   ]
  },
  {
   "cell_type": "code",
   "execution_count": 23,
   "id": "6a3e6e0f-f0cf-4e70-81e0-a81a03983df9",
   "metadata": {},
   "outputs": [
    {
     "name": "stdout",
     "output_type": "stream",
     "text": [
      "saved fig as odmr_test_ensemblePLE2024_12_20_17_26_42.npz\n"
     ]
    }
   ],
   "source": [
    "data_figure.save('odmr_test_ensemble')"
   ]
  },
  {
   "cell_type": "code",
   "execution_count": 24,
   "id": "3435113f-c4fc-47a2-b7f0-f4f97d519bb5",
   "metadata": {},
   "outputs": [
    {
     "data": {
      "application/vnd.jupyter.widget-view+json": {
       "model_id": "5f09f904e90d47788eb01de89acddd5d",
       "version_major": 2,
       "version_minor": 0
      },
      "image/png": "[encoded data removed]",
      "text/html": [
       "\n",
       "            <div style=\"display: inline-block;\">\n",
       "                <div class=\"jupyter-widgets widget-label\" style=\"text-align: center;\">\n",
       "                    Figure\n",
       "                </div>\n",
       "                <img src='data:image/png;base64,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' width=630.0/>\n",
       "            </div>\n",
       "        "
      ],
      "text/plain": [
       "Canvas(capture_scroll=True, footer_visible=False, header_visible=False, resizable=False, toolbar=Toolbar(tooli…"
      ]
     },
     "metadata": {},
     "output_type": "display_data"
    }
   ],
   "source": [
    "fig, data_figure = odmr(np.arange(2.77e9, 2.97e9, 1e6), exposure=0.1, power=-10, \\\n",
    "                                config_instances={**config_instances})"
   ]
  },
  {
   "cell_type": "code",
   "execution_count": 27,
   "id": "01d94f5c-007a-4ebb-bb93-396a70e3d651",
   "metadata": {},
   "outputs": [
    {
     "data": {
      "application/vnd.jupyter.widget-view+json": {
       "model_id": "7a6137726bfd4f61b0c18fe7efb166f1",
       "version_major": 2,
       "version_minor": 0
      },
      "image/png": "[encoded data removed]",
      "text/html": [
       "\n",
       "            <div style=\"display: inline-block;\">\n",
       "                <div class=\"jupyter-widgets widget-label\" style=\"text-align: center;\">\n",
       "                    Figure\n",
       "                </div>\n",
       "                <img src='data:image/png;base64,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' width=630.0/>\n",
       "            </div>\n",
       "        "
      ],
      "text/plain": [
       "Canvas(capture_scroll=True, footer_visible=False, header_visible=False, resizable=False, toolbar=Toolbar(tooli…"
      ]
     },
     "metadata": {},
     "output_type": "display_data"
    }
   ],
   "source": [
    "fig, data_figure = odmr(np.arange(2.27e9, 3.47e9, 5e6), exposure=0.1, power=-10, \\\n",
    "                                config_instances={**config_instances})"
   ]
  },
  {
   "cell_type": "code",
   "execution_count": 28,
   "id": "c21dc464-6019-4f53-af88-4cd985664c7f",
   "metadata": {},
   "outputs": [
    {
     "name": "stdout",
     "output_type": "stream",
     "text": [
      "saved fig as odmr_test_ensemblePLE2024_12_20_17_33_20.npz\n"
     ]
    }
   ],
   "source": [
    "data_figure.save('odmr_test_ensemble')"
   ]
  },
  {
   "cell_type": "code",
   "execution_count": 16,
   "id": "06434b23-85a9-4607-974a-f19e1bb450fb",
   "metadata": {},
   "outputs": [
    {
     "data": {
      "application/vnd.jupyter.widget-view+json": {
       "model_id": "ec2c3db1c5394a2ba03f49fd6ebaad9c",
       "version_major": 2,
       "version_minor": 0
      },
      "image/png": "[encoded data removed]",
      "text/html": [
       "\n",
       "            <div style=\"display: inline-block;\">\n",
       "                <div class=\"jupyter-widgets widget-label\" style=\"text-align: center;\">\n",
       "                    Figure\n",
       "                </div>\n",
       "                <img src='data:image/png;base64,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' width=630.0/>\n",
       "            </div>\n",
       "        "
      ],
      "text/plain": [
       "Canvas(capture_scroll=True, footer_visible=False, header_visible=False, resizable=False, toolbar=Toolbar(tooli…"
      ]
     },
     "metadata": {},
     "output_type": "display_data"
    }
   ],
   "source": [
    "fig, data_figure = odmr(np.arange(2.27e9, 3.47e9, 5e6), exposure=0.1, power=-10, \\\n",
    "                                config_instances={**config_instances})"
   ]
  },
  {
   "cell_type": "code",
   "execution_count": 17,
   "id": "a86afbcd-0737-4dd3-9435-5a7d0239db85",
   "metadata": {},
   "outputs": [
    {
     "data": {
      "application/vnd.jupyter.widget-view+json": {
       "model_id": "2755ed986194496795557e87153e6f6b",
       "version_major": 2,
       "version_minor": 0
      },
      "image/png": "[encoded data removed]",
      "text/html": [
       "\n",
       "            <div style=\"display: inline-block;\">\n",
       "                <div class=\"jupyter-widgets widget-label\" style=\"text-align: center;\">\n",
       "                    Figure\n",
       "                </div>\n",
       "                <img src='data:image/png;base64,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' width=630.0/>\n",
       "            </div>\n",
       "        "
      ],
      "text/plain": [
       "Canvas(capture_scroll=True, footer_visible=False, header_visible=False, resizable=False, toolbar=Toolbar(tooli…"
      ]
     },
     "metadata": {},
     "output_type": "display_data"
    }
   ],
   "source": [
    "fig, data_figure = odmr(np.arange(2.67e9, 3.07e9, 1e6), exposure=0.1, power=-20, \\\n",
    "                                config_instances={**config_instances})"
   ]
  },
  {
   "cell_type": "code",
   "execution_count": 18,
   "id": "c54bd893-135e-42c0-bbac-2e6493d18789",
   "metadata": {},
   "outputs": [
    {
     "data": {
      "application/vnd.jupyter.widget-view+json": {
       "model_id": "fc0fc560cde74b6cb005f8b3ab8007a4",
       "version_major": 2,
       "version_minor": 0
      },
      "image/png": "[encoded data removed]",
      "text/html": [
       "\n",
       "            <div style=\"display: inline-block;\">\n",
       "                <div class=\"jupyter-widgets widget-label\" style=\"text-align: center;\">\n",
       "                    Figure\n",
       "                </div>\n",
       "                <img src='data:image/png;base64,iVBORw0KGgoAAAANSUhEUgAAAoUAAAHnCAYAAADO/ScYAAAAOnRFWHRTb2Z0d2FyZQBNYXRwbG90bGliIHZlcnNpb24zLjEwLjAsIGh0dHBzOi8vbWF0cGxvdGxpYi5vcmcvlHJYcgAAAAlwSFlzAAAXEgAAFxIBZ5/SUgAAB/dJREFUeJzt1jEBACAMwLCCf89Dxg4SBT17ZmYCAOBrdzsAAIB9phAAAFMIAIApBAAgUwgAQKYQAIBMIQAAmUIAADKFAABkCgEAyBQCAJApBAAgUwgAQKYQAIBMIQAAmUIAADKFAABkCgEAyBQCAJApBAAgUwgAQKYQAIBMIQAAmUIAADKFAABkCgEAyBQCAJApBAAgUwgAQKYQAIBMIQAAmUIAADKFAABkCgEAyBQCAJApBAAgUwgAQKYQAIBMIQAAmUIAADKFAABkCgEAyBQCAJApBAAgUwgAQKYQAIBMIQAAmUIAADKFAABkCgEAyBQCAJApBAAgUwgAQKYQAIBMIQAAmUIAADKFAABkCgEAyBQCAJApBAAgUwgAQKYQAIBMIQAAmUIAADKFAABkCgEAyBQCAJApBAAgUwgAQKYQAIBMIQAAmUIAADKFAABkCgEAyBQCAJApBAAgUwgAQKYQAIBMIQAAmUIAADKFAABkCgEAyBQCAJApBAAgUwgAQKYQAIBMIQAAmUIAADKFAABkCgEAyBQCAJApBAAgUwgAQKYQAIBMIQAAmUIAADKFAABkCgEAyBQCAJApBAAgUwgAQKYQAIBMIQAAmUIAADKFAABkCgEAyBQCAJApBAAgUwgAQKYQAIBMIQAAmUIAADKFAABkCgEAyBQCAJApBAAgUwgAQKYQAIBMIQAAmUIAADKFAABkCgEAyBQCAJApBAAgUwgAQKYQAIBMIQAAmUIAADKFAABkCgEAyBQCAJApBAAgUwgAQKYQAIBMIQAAmUIAADKFAABkCgEAyBQCAJApBAAgUwgAQKYQAIBMIQAAmUIAADKFAABkCgEAyBQCAJApBAAgUwgAQKYQAIBMIQAAmUIAADKFAABkCgEAyBQCAJApBAAgUwgAQKYQAIBMIQAAmUIAADKFAABkCgEAyBQCAJApBAAgUwgAQKYQAIBMIQAAmUIAADKFAABkCgEAyBQCAJApBAAgUwgAQKYQAIBMIQAAmUIAADKFAABkCgEAyBQCAJApBAAgUwgAQKYQAIBMIQAAmUIAADKFAABkCgEAyBQCAJApBAAgUwgAQKYQAIBMIQAAmUIAADKFAABkCgEAyBQCAJApBAAgUwgAQKYQAIBMIQAAmUIAADKFAABkCgEAyBQCAJApBAAgUwgAQKYQAIBMIQAAmUIAADKFAABkCgEAyBQCAJApBAAgUwgAQKYQAIBMIQAAmUIAADKFAABkCgEAyBQCAJApBAAgUwgAQKYQAIBMIQAAmUIAADKFAABkCgEAyBQCAJApBAAgUwgAQKYQAIBMIQAAmUIAADKFAABkCgEAyBQCAJApBAAgUwgAQKYQAIBMIQAAmUIAADKFAABkCgEAyBQCAJApBAAgUwgAQKYQAIBMIQAAmUIAADKFAABkCgEAyBQCAJApBAAgUwgAQKYQAIBMIQAAmUIAADKFAABkCgEAyBQCAJApBAAgUwgAQKYQAIBMIQAAmUIAADKFAABkCgEAyBQCAJApBAAgUwgAQKYQAIBMIQAAmUIAADKFAABkCgEAyBQCAJApBAAgUwgAQKYQAIBMIQAAmUIAADKFAABkCgEAyBQCAJApBAAgUwgAQKYQAIBMIQAAmUIAADKFAABkCgEAyBQCAJApBAAgUwgAQKYQAIBMIQAAmUIAADKFAABkCgEAyBQCAJApBAAgUwgAQKYQAIBMIQAAmUIAADKFAABkCgEAyBQCAJApBAAgUwgAQKYQAIBMIQAAmUIAADKFAABkCgEAyBQCAJApBAAgUwgAQKYQAIBMIQAAmUIAADKFAABkCgEAyBQCAJApBAAgUwgAQKYQAIBMIQAAmUIAADKFAABkCgEAyBQCAJApBAAgUwgAQKYQAIBMIQAAmUIAADKFAABkCgEAyBQCAJApBAAgUwgAQKYQAIBMIQAAmUIAADKFAABkCgEAyBQCAJApBAAgUwgAQKYQAIBMIQAAmUIAADKFAABkCgEAyBQCAJApBAAgUwgAQKYQAIBMIQAAmUIAADKFAABkCgEAyBQCAJApBAAgUwgAQKYQAIBMIQAAmUIAADKFAABkCgEAyBQCAJApBAAgUwgAQKYQAIBMIQAAmUIAADKFAABkCgEAyBQCAJApBAAgUwgAQKYQAIBMIQAAmUIAADKFAABkCgEAyBQCAJApBAAgUwgAQKYQAIBMIQAAmUIAADKFAABkCgEAyBQCAJApBAAgUwgAQKYQAIBMIQAAmUIAADKFAABkCgEAyBQCAJApBAAgUwgAQKYQAIBMIQAAmUIAADKFAABkCgEAyBQCAJApBAAgUwgAQKYQAIBMIQAAmUIAADKFAABkCgEAyBQCAJApBAAgUwgAQKYQAIBMIQAAmUIAADKFAABkCgEAyBQCAJApBAAgUwgAQKYQAIBMIQAAmUIAADKFAABkCgEAyBQCAJApBAAgUwgAQKYQAIBMIQAAmUIAADKFAABkCgEAyBQCAJApBAAgUwgAQKYQAIBMIQAAmUIAADKFAABkCgEAyBQCAJApBAAgUwgAQKYQAIBMIQAAmUIAADKFAABkCgEAyBQCAJApBAAgUwgAQKYQAIBMIQAAmUIAADKFAABkCgEAyBQCAJApBAAgUwgAQKYQAIBMIQAAmUIAADKFAABkCgEAyBQCAJApBAAgUwgAQKYQAIBMIQAAmUIAADKFAABkCgEAyBQCAJApBAAgUwgAQKYQAIDqAUCFB8qnyXh1AAAAAElFTkSuQmCC' width=630.0/>\n",
       "            </div>\n",
       "        "
      ],
      "text/plain": [
       "Canvas(capture_scroll=True, footer_visible=False, header_visible=False, resizable=False, toolbar=Toolbar(tooli…"
      ]
     },
     "metadata": {},
     "output_type": "display_data"
    }
   ],
   "source": [
    "fig, data_figure = odmr(np.arange(2.82e9, 2.92e9, 0.2e6), exposure=0.1, power=-25, \\\n",
    "                                config_instances={**config_instances})"
   ]
  },
  {
   "cell_type": "code",
   "execution_count": 19,
   "id": "aecd1b37-7c69-4cae-9d5e-9a6053aceb64",
   "metadata": {},
   "outputs": [
    {
     "data": {
      "application/vnd.jupyter.widget-view+json": {
       "model_id": "4b4ec2bee16d418a8543d02fe175ad4a",
       "version_major": 2,
       "version_minor": 0
      },
      "image/png": "[encoded data removed]",
      "text/html": [
       "\n",
       "            <div style=\"display: inline-block;\">\n",
       "                <div class=\"jupyter-widgets widget-label\" style=\"text-align: center;\">\n",
       "                    Figure\n",
       "                </div>\n",
       "                <img src='data:image/png;base64,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' width=630.0/>\n",
       "            </div>\n",
       "        "
      ],
      "text/plain": [
       "Canvas(capture_scroll=True, footer_visible=False, header_visible=False, resizable=False, toolbar=Toolbar(tooli…"
      ]
     },
     "metadata": {},
     "output_type": "display_data"
    }
   ],
   "source": [
    "fig, data_figure = odmr(np.arange(2.82e9, 2.92e9, 0.2e6), exposure=0.1, power=-30, \\\n",
    "                                config_instances={**config_instances})"
   ]
  },
  {
   "cell_type": "code",
   "execution_count": 34,
   "id": "33ad8d2c-a506-4eca-be0d-eb392523369b",
   "metadata": {},
   "outputs": [
    {
     "data": {
      "application/vnd.jupyter.widget-view+json": {
       "model_id": "10a072ae0c314c9784716aae53a38e95",
       "version_major": 2,
       "version_minor": 0
      },
      "image/png": "[encoded data removed]",
      "text/html": [
       "\n",
       "            <div style=\"display: inline-block;\">\n",
       "                <div class=\"jupyter-widgets widget-label\" style=\"text-align: center;\">\n",
       "                    Figure\n",
       "                </div>\n",
       "                <img src='data:image/png;base64,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' width=630.0/>\n",
       "            </div>\n",
       "        "
      ],
      "text/plain": [
       "Canvas(capture_scroll=True, footer_visible=False, header_visible=False, resizable=False, toolbar=Toolbar(tooli…"
      ]
     },
     "metadata": {},
     "output_type": "display_data"
    },
    {
     "name": "stdout",
     "output_type": "stream",
     "text": [
      "\n"
     ]
    }
   ],
   "source": [
    "pl_test_dict = {'pl_height':10000, 'pl_width':4, 'pl_center':[5, -5], 'pl_bg':5000}\n",
    "fig, data_figure = pl(data_x = [np.arange(-10, 10), np.arange(-10, 10)], exposure=0.1, \\\n",
    "                                config_instances={**config_instances, **pl_test_dict}, is_dis=False, repeat=1)"
   ]
  },
  {
   "cell_type": "code",
   "execution_count": 47,
   "id": "b7750b97",
   "metadata": {},
   "outputs": [
    {
     "ename": "AttributeError",
     "evalue": "'Colorbar' object has no attribute 'labels'",
     "output_type": "error",
     "traceback": [
      "\u001b[1;31m---------------------------------------------------------------------------\u001b[0m",
      "\u001b[1;31mAttributeError\u001b[0m                            Traceback (most recent call last)",
      "\u001b[1;32m~\\AppData\\Local\\Temp/ipykernel_12308/3442512106.py\u001b[0m in \u001b[0;36m<module>\u001b[1;34m\u001b[0m\n\u001b[1;32m----> 1\u001b[1;33m \u001b[0mfig\u001b[0m\u001b[1;33m.\u001b[0m\u001b[0maxes\u001b[0m\u001b[1;33m[\u001b[0m\u001b[1;36m0\u001b[0m\u001b[1;33m]\u001b[0m\u001b[1;33m.\u001b[0m\u001b[0mimages\u001b[0m\u001b[1;33m[\u001b[0m\u001b[1;36m0\u001b[0m\u001b[1;33m]\u001b[0m\u001b[1;33m.\u001b[0m\u001b[0mcolorbar\u001b[0m\u001b[1;33m.\u001b[0m\u001b[0mlabels\u001b[0m\u001b[1;33m\u001b[0m\u001b[1;33m\u001b[0m\u001b[0m\n\u001b[0m",
      "\u001b[1;31mAttributeError\u001b[0m: 'Colorbar' object has no attribute 'labels'"
     ]
    }
   ],
   "source": [
    "fig.axes[0].images[0].colorbar.labels"
   ]
  },
  {
   "cell_type": "code",
   "execution_count": 48,
   "id": "0abe123f",
   "metadata": {},
   "outputs": [
    {
     "data": {
      "text/plain": [
       "'a'"
      ]
     },
     "execution_count": 48,
     "metadata": {},
     "output_type": "execute_result"
    }
   ],
   "source": [
    "fig.axes[0].images[0].colorbar.ax.yaxis.label.get_text()"
   ]
  },
  {
   "cell_type": "code",
   "execution_count": 7,
   "id": "38f3da2a",
   "metadata": {},
   "outputs": [
    {
     "name": "stdout",
     "output_type": "stream",
     "text": [
      "PL started\n",
      "Live started\n",
      "Plot stopped\n",
      "Live started\n",
      "Plot stopped\n",
      "Live started\n",
      "Plot stopped\n",
      "Live started\n",
      "Plot stopped\n",
      "Live started\n",
      "Plot stopped\n",
      "Live started\n",
      "Live started\n",
      "Live started\n",
      "Live started\n"
     ]
    }
   ],
   "source": [
    "pl_test_dict = {'pl_height':10000, 'pl_width':4, 'pl_center':[5, -5], 'pl_bg':5000}\n",
    "fig, data_figure = pl(data_x = [np.arange(-10, 10), np.arange(-10, 10)], exposure=0.1, \\\n",
    "                                config_instances={**config_instances, **pl_test_dict}, is_dis=True, repeat=2, is_GUI=True)"
   ]
  },
  {
   "cell_type": "code",
   "execution_count": 14,
   "id": "4180cf49",
   "metadata": {},
   "outputs": [
    {
     "data": {
      "text/plain": [
       "0"
      ]
     },
     "execution_count": 14,
     "metadata": {},
     "output_type": "execute_result"
    }
   ],
   "source": [
    "config_instances['wavemeter'].wavelength "
   ]
  },
  {
   "cell_type": "code",
   "execution_count": 19,
   "id": "6a54d747-fae9-4326-bea0-cc64c1df0964",
   "metadata": {},
   "outputs": [],
   "source": [
    "x=np.array([np.arange(-10, 20, 1), np.arange(-10, 20, 1)])"
   ]
  },
  {
   "cell_type": "code",
   "execution_count": 21,
   "id": "8ea42f41",
   "metadata": {},
   "outputs": [
    {
     "data": {
      "text/plain": [
       "array([[-10,  -9,  -8,  -7,  -6,  -5,  -4,  -3,  -2,  -1,   0,   1,   2,\n",
       "          3,   4,   5,   6,   7,   8,   9,  10,  11,  12,  13,  14,  15,\n",
       "         16,  17,  18,  19],\n",
       "       [-10,  -9,  -8,  -7,  -6,  -5,  -4,  -3,  -2,  -1,   0,   1,   2,\n",
       "          3,   4,   5,   6,   7,   8,   9,  10,  11,  12,  13,  14,  15,\n",
       "         16,  17,  18,  19]])"
      ]
     },
     "execution_count": 21,
     "metadata": {},
     "output_type": "execute_result"
    }
   ],
   "source": [
    "x"
   ]
  },
  {
   "cell_type": "code",
   "execution_count": 22,
   "id": "f0f07f20",
   "metadata": {},
   "outputs": [
    {
     "data": {
      "text/plain": [
       "2"
      ]
     },
     "execution_count": 22,
     "metadata": {},
     "output_type": "execute_result"
    }
   ],
   "source": [
    "len(x)"
   ]
  },
  {
   "cell_type": "code",
   "execution_count": 17,
   "id": "c0b317ba",
   "metadata": {},
   "outputs": [
    {
     "name": "stdout",
     "output_type": "stream",
     "text": [
      "0 -10\n",
      "1 -9\n",
      "2 -8\n",
      "3 -7\n",
      "4 -6\n",
      "5 -5\n",
      "6 -4\n",
      "7 -3\n",
      "8 -2\n",
      "9 -1\n",
      "10 0\n",
      "11 1\n",
      "12 2\n",
      "13 3\n",
      "14 4\n",
      "15 5\n",
      "16 6\n",
      "17 7\n",
      "18 8\n",
      "19 9\n",
      "20 10\n",
      "21 11\n",
      "22 12\n",
      "23 13\n",
      "24 14\n",
      "25 15\n",
      "26 16\n",
      "27 17\n",
      "28 18\n",
      "29 19\n"
     ]
    }
   ],
   "source": [
    "for i, xx in enumerate(x[0]):\n",
    "    print(i, xx)"
   ]
  },
  {
   "cell_type": "code",
   "execution_count": 13,
   "id": "79286fb1",
   "metadata": {},
   "outputs": [],
   "source": [
    "import sys\n",
    "from PyQt5.QtWidgets import QApplication, QMainWindow, QPushButton\n",
    "from threading import Thread\n",
    "from PyQt5 import QtCore, QtWidgets\n",
    "from PyQt5.QtWidgets import QHBoxLayout, QWidget, QPushButton, QLabel, QLineEdit, QDoubleSpinBox, QSizePolicy\n",
    "from PyQt5.QtCore import QThread, pyqtSignal\n",
    "\n",
    "# 简单的 PyQt GUI 示例\n",
    "class MyGUI(QMainWindow):\n",
    "    def __init__(self):\n",
    "        super().__init__()\n",
    "        self.setWindowTitle(\"Pulse Timing GUI\")\n",
    "        self.setGeometry(100, 100, 400, 300)\n",
    "        \n",
    "        self.button = QPushButton(\"Click me\", self)\n",
    "        self.button.clicked.connect(self.on_button_click)\n",
    "        self.button.setGeometry(150, 130, 100, 40)\n",
    "        self.show()\n",
    "        \n",
    "    def on_button_click(self):\n",
    "        print(\"Button clicked!\")\n",
    "        \n",
    "    def closeEvent(self, event):\n",
    "        # 让 QApplication 的事件循环退出\n",
    "        QApplication.quit()\n",
    "        event.accept()\n",
    "\n",
    "# 在新线程中运行 PyQt 应用程序\n",
    "def run_app():\n",
    "    if hasattr(QtCore.Qt, 'AA_EnableHighDpiScaling'):\n",
    "        QtWidgets.QApplication.setAttribute(QtCore.Qt.AA_EnableHighDpiScaling, True)\n",
    "\n",
    "    if hasattr(QtCore.Qt, 'AA_UseHighDpiPixmaps'):\n",
    "        QtWidgets.QApplication.setAttribute(QtCore.Qt.AA_UseHighDpiPixmaps, True)\n",
    "        \n",
    "    \n",
    "    app = QtCore.QCoreApplication.instance()\n",
    "    if app is None:\n",
    "        app = QtWidgets.QApplication(sys.argv)\n",
    "\n",
    "    w = MyGUI()\n",
    "    #w.show()\n",
    "    app.setStyle('Windows')\n",
    "    try:\n",
    "        sys.exit(app.exec_())\n",
    "    except SystemExit as se:\n",
    "        if se.code != 0:\n",
    "            raise se\n",
    "\n",
    "# 在 Jupyter Notebook 中调用\n",
    "def start_gui_in_thread():\n",
    "    gui_thread = Thread(target=run_app)\n",
    "    gui_thread.start()\n",
    "\n",
    "# 调用该函数以启动 GUI"
   ]
  },
  {
   "cell_type": "code",
   "execution_count": 15,
   "id": "99465b83",
   "metadata": {},
   "outputs": [],
   "source": [
    "start_gui_in_thread()"
   ]
  },
  {
   "cell_type": "code",
   "execution_count": 9,
   "id": "ddd59a18",
   "metadata": {},
   "outputs": [
    {
     "data": {
      "text/plain": [
       "33.333333333333336"
      ]
     },
     "execution_count": 9,
     "metadata": {},
     "output_type": "execute_result"
    }
   ],
   "source": [
    "100/3"
   ]
  },
  {
   "cell_type": "code",
   "execution_count": 5,
   "id": "b6ae374c",
   "metadata": {},
   "outputs": [],
   "source": [
    "from confocal_gui.gui import MainWindow_PLE\n",
    "\n",
    "def GUI_PLE(config_instances):\n",
    "    from threading import Thread\n",
    "    \"\"\"\n",
    "    The function opens pyqt GUI for PLE, PL, live counts, and pulse control.\n",
    "    Save button will also output data and figure to jupyter notebook.\n",
    "   \n",
    "    Examples\n",
    "    --------\n",
    "    >>> GUI()\n",
    "\n",
    "    Read range button reads range from area created by mouse left \n",
    "\n",
    "    Read wavelength button reads wavelength from point created by mouse right in PLE\n",
    "\n",
    "    Read XY button reads x, y coordinates from point created by mouse right in PL \n",
    "\n",
    "    Change unit changes PLE unit between 'nm' and 'GHz'\n",
    "\n",
    "    Move sacnner moves scanner to x, y displayed \n",
    "    \"\"\"\n",
    "\n",
    "    def GUI_handler():\n",
    "\n",
    "        if hasattr(QtCore.Qt, 'AA_EnableHighDpiScaling'):\n",
    "            QtWidgets.QApplication.setAttribute(QtCore.Qt.AA_EnableHighDpiScaling, True)\n",
    "\n",
    "        if hasattr(QtCore.Qt, 'AA_UseHighDpiPixmaps'):\n",
    "            QtWidgets.QApplication.setAttribute(QtCore.Qt.AA_UseHighDpiPixmaps, True)\n",
    "            \n",
    "        \n",
    "        app = QtCore.QCoreApplication.instance()\n",
    "        if app is None:\n",
    "            app = QtWidgets.QApplication(sys.argv)\n",
    "\n",
    "        w = MainWindow_PLE(config_instances)\n",
    "        app.setStyle('PLE GUI')\n",
    "        try:\n",
    "            sys.exit(app.exec_())\n",
    "        except SystemExit as se:\n",
    "            if se.code != 0:\n",
    "                raise se\n",
    "        # make sure jupyter notebook does not catch error when exit normally\n",
    "\n",
    "\n",
    "    gui_thread = Thread(target=GUI_handler)\n",
    "    gui_thread.start()\n",
    "    #GUI_handler()"
   ]
  },
  {
   "cell_type": "code",
   "execution_count": 6,
   "id": "d047f45b",
   "metadata": {},
   "outputs": [
    {
     "name": "stdout",
     "output_type": "stream",
     "text": [
      "PLE started\n",
      "scanner: (x=0, y=0)\n",
      "Plot stopped\n",
      "PLE started\n",
      "scanner: (x=0, y=0)\n",
      "Plot stopped\n",
      "curve fitted, center = 737.102\n",
      "FWHM = 0.00101\n",
      "in GHz = 0.5556\n",
      "height = 9958.28763\n",
      "bg = -1.79294\n"
     ]
    }
   ],
   "source": [
    "ple_test_dict = {'ple_height':100000, 'ple_width':0.001, 'ple_center':737.102}\n",
    "GUI_PLE(config_instances={**config_instances, **ple_test_dict})"
   ]
  },
  {
   "cell_type": "code",
   "execution_count": null,
   "id": "460f29b5",
   "metadata": {},
   "outputs": [],
   "source": []
  }
 ],
 "metadata": {
  "kernelspec": {
   "display_name": "Python 3 (ipykernel)",
   "language": "python",
   "name": "python3"
  },
  "language_info": {
   "codemirror_mode": {
    "name": "ipython",
    "version": 3
   },
   "file_extension": ".py",
   "mimetype": "text/x-python",
   "name": "python",
   "nbconvert_exporter": "python",
   "pygments_lexer": "ipython3",
   "version": "3.7.7"
  },
  "widgets": {
   "application/vnd.jupyter.widget-state+json": {
    "state": {
     "023af1001eaa4feb96795d4fa93082b5": {
      "model_module": "@jupyter-widgets/base",
      "model_module_version": "2.0.0",
      "model_name": "LayoutModel",
      "state": {}
     },
     "09d83b6976a64f20be3a6d449668a7b8": {
      "model_module": "jupyter-matplotlib",
      "model_module_version": "^0.11",
      "model_name": "ToolbarModel",
      "state": {
       "_model_module_version": "^0.11",
       "_view_module_version": "^0.11",
       "collapsed": true,
       "layout": "IPY_MODEL_e6b02ea767ba4e708a041cd05b9bdadf",
       "orientation": "vertical",
       "toolitems": [
        [
         "Home",
         "Reset original view",
         "home",
         "home"
        ],
        [
         "Back",
         "Back to previous view",
         "arrow-left",
         "back"
        ],
        [
         "Forward",
         "Forward to next view",
         "arrow-right",
         "forward"
        ],
        [
         "Pan",
         "Left button pans, Right button zooms\nx/y fixes axis, CTRL fixes aspect",
         "arrows",
         "pan"
        ],
        [
         "Zoom",
         "Zoom to rectangle\nx/y fixes axis",
         "square-o",
         "zoom"
        ],
        [
         "Download",
         "Download plot",
         "floppy-o",
         "save_figure"
        ]
       ]
      }
     },
     "88ac5110085642c5b63e1892932aa248": {
      "model_module": "jupyter-matplotlib",
      "model_module_version": "^0.11",
      "model_name": "MPLCanvasModel",
      "state": {
       "_cursor": "default",
       "_data_url": "data:image/png;base64,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",
       "_figure_label": "Figure 1",
       "_image_mode": "diff",
       "_model_module_version": "^0.11",
       "_size": [
        630,
        472.5
       ],
       "_view_module_version": "^0.11",
       "capture_scroll": true,
       "footer_visible": false,
       "header_visible": false,
       "layout": "IPY_MODEL_023af1001eaa4feb96795d4fa93082b5",
       "resizable": false,
       "toolbar": "IPY_MODEL_c4b2473a64414885a33a6b070a4d6979",
       "toolbar_position": "left",
       "toolbar_visible": false
      }
     },
     "bfc260cd483b4117af18c33e86878ae9": {
      "model_module": "@jupyter-widgets/base",
      "model_module_version": "2.0.0",
      "model_name": "LayoutModel",
      "state": {}
     },
     "c4b2473a64414885a33a6b070a4d6979": {
      "model_module": "jupyter-matplotlib",
      "model_module_version": "^0.11",
      "model_name": "ToolbarModel",
      "state": {
       "_model_module_version": "^0.11",
       "_view_module_version": "^0.11",
       "collapsed": true,
       "layout": "IPY_MODEL_bfc260cd483b4117af18c33e86878ae9",
       "orientation": "vertical",
       "toolitems": [
        [
         "Home",
         "Reset original view",
         "home",
         "home"
        ],
        [
         "Back",
         "Back to previous view",
         "arrow-left",
         "back"
        ],
        [
         "Forward",
         "Forward to next view",
         "arrow-right",
         "forward"
        ],
        [
         "Pan",
         "Left button pans, Right button zooms\nx/y fixes axis, CTRL fixes aspect",
         "arrows",
         "pan"
        ],
        [
         "Zoom",
         "Zoom to rectangle\nx/y fixes axis",
         "square-o",
         "zoom"
        ],
        [
         "Download",
         "Download plot",
         "floppy-o",
         "save_figure"
        ]
       ]
      }
     },
     "e6b02ea767ba4e708a041cd05b9bdadf": {
      "model_module": "@jupyter-widgets/base",
      "model_module_version": "2.0.0",
      "model_name": "LayoutModel",
      "state": {}
     }
    },
    "version_major": 2,
    "version_minor": 0
   }
  }
 },
 "nbformat": 4,
 "nbformat_minor": 5
}
