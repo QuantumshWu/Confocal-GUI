{
 "cells": [
  {
   "cell_type": "code",
   "execution_count": 1,
   "id": "65bb2827",
   "metadata": {},
   "outputs": [],
   "source": [
    "import sys\n",
    "import os\n",
    "sys.path.append(os.path.abspath(\"../src\"))\n",
    "from Confocal_GUI.live_plot import change_to_inline, change_to_nbagg, enable_long_output, DataFigure\n",
    "from Confocal_GUI.logic import ple, pl, live, odmr, GUI\n",
    "from Confocal_GUI.device import VirtualScanner, VirtualCounter, VirtualWaveMeter, VirtualRF\\\n",
    ", VirtualLaserStabilizer, initialize_classes, VirtualPulse\n",
    "import numpy as np\n",
    "import matplotlib\n",
    "import matplotlib.pyplot as plt\n",
    "\n",
    "%load_ext autoreload\n",
    "%autoreload 2"
   ]
  },
  {
   "cell_type": "code",
   "execution_count": 5,
   "id": "07bb10e1",
   "metadata": {},
   "outputs": [
    {
     "name": "stdout",
     "output_type": "stream",
     "text": [
      "scanner => <Confocal_GUI.device.base.VirtualScanner object at 0x000002B6092B9B88>\n",
      "counter => <Confocal_GUI.device.base.VirtualCounter object at 0x000002B6092B9C08>\n",
      "wavemeter => <Confocal_GUI.device.base.VirtualWaveMeter object at 0x000002B6092B9788>\n",
      "rf => <Confocal_GUI.device.base.VirtualRF object at 0x000002B6092B9888>\n",
      "pulse => <Confocal_GUI.device.base.VirtualPulse object at 0x000002B6092B9708>\n",
      "laser_stabilizer => <Confocal_GUI.device.base.VirtualLaserStabilizer object at 0x000002B6092B9948>\n",
      "\n",
      "Now you can call devices using e.g. config_instances[\"rf\"].gui() or rf.gui()\n"
     ]
    }
   ],
   "source": [
    "# initialize all classes and functions, bind them to devices wanted\n",
    "\n",
    "# make sure that GUI() can output fig to jupyter notebook cell without being scrolled\n",
    "\n",
    "config = {    \n",
    "    'scanner': {'type': 'VirtualScanner'},\n",
    "    'counter': {'type': 'VirtualCounter'},    \n",
    "    'wavemeter': {'type': 'VirtualWaveMeter'},    \n",
    "    'rf': {'type': 'VirtualRF'},\n",
    "    'pulse': {'type': 'VirtualPulse'},\n",
    "    'laser_stabilizer': {'type': 'VirtualLaserStabilizer','config_instances':'config_instances'},\n",
    "        \n",
    "}\n",
    "# scanner, counter, laser_stabilizer_core, laser_stabilizer, wavemeter, laser etc. \n",
    "# are default keys for all functions to call objetive, 'type' defines bind which class\n",
    "# or function to the key.\n",
    "\n",
    "\n",
    "config_instances = initialize_classes(config, lookup_dict=globals(), namespace=globals())\n",
    "config_instances = {**config_instances, **{'display_scale':1}}\n",
    "\n",
    "# below are for test only\n",
    "pl_test_dict = {'pl_height':10000, 'pl_width':4, 'pl_center':[5, -5], 'pl_bg':5000}\n",
    "ple_test_dict = {'ple_height':100000, 'ple_width':0.001, 'ple_center':737.102}\n",
    "odmr_test_dict = {'odmr_height':10000, 'odmr_width':20e6, 'odmr_center':2.88e9}\n",
    "config_instances={**config_instances, **pl_test_dict, **ple_test_dict, **odmr_test_dict}"
   ]
  },
  {
   "cell_type": "code",
   "execution_count": 3,
   "id": "c24ea056",
   "metadata": {},
   "outputs": [],
   "source": [
    "pulse.gui()"
   ]
  },
  {
   "cell_type": "code",
   "execution_count": 60,
   "id": "0a1fda23",
   "metadata": {},
   "outputs": [],
   "source": [
    "data = [1,2,3]"
   ]
  },
  {
   "cell_type": "code",
   "execution_count": 42,
   "id": "9695436a",
   "metadata": {},
   "outputs": [
    {
     "data": {
      "text/plain": [
       "51"
      ]
     },
     "execution_count": 42,
     "metadata": {},
     "output_type": "execute_result"
    }
   ],
   "source": [
    "103//2"
   ]
  },
  {
   "cell_type": "code",
   "execution_count": 12,
   "id": "ec45bc35",
   "metadata": {},
   "outputs": [
    {
     "name": "stdout",
     "output_type": "stream",
     "text": [
      "Help on VirtualPulse in module Confocal_GUI.device.base object:\n",
      "\n",
      "class VirtualPulse(BasePulse)\n",
      " |  VirtualPulse class to simulate pulse control (e.g. pulse streamer),\n",
      " |  call pulse.gui() to access to all functions and pulse sequence editing\n",
      " |  \n",
      " |  notes:\n",
      " |  pulse duration, delay can be a int in ns or str contains 'x' which will be later replaced by self.x,\n",
      " |  therefore enabling fast pulse control by self.x = x and self.on_pulse() without reconfiguring self.data_matrix\n",
      " |  and sel.delay_array\n",
      " |  \n",
      " |  Save Pulse: save pulse sequence to self.data_matrix, self.delay_array but not in file\n",
      " |  Save to file: save pulse sequence to a .npz file\n",
      " |  \n",
      " |  Method resolution order:\n",
      " |      VirtualPulse\n",
      " |      BasePulse\n",
      " |      abc.ABC\n",
      " |      builtins.object\n",
      " |  \n",
      " |  Methods defined here:\n",
      " |  \n",
      " |  __init__(self)\n",
      " |      Initialize self.  See help(type(self)) for accurate signature.\n",
      " |  \n",
      " |  gui(self, is_in_GUI=False)\n",
      " |  \n",
      " |  off_pulse(self)\n",
      " |  \n",
      " |  on_pulse(self)\n",
      " |  \n",
      " |  ----------------------------------------------------------------------\n",
      " |  Data and other attributes defined here:\n",
      " |  \n",
      " |  __abstractmethods__ = frozenset()\n",
      " |  \n",
      " |  ----------------------------------------------------------------------\n",
      " |  Methods inherited from BasePulse:\n",
      " |  \n",
      " |  delay(self, delay, time_slice)\n",
      " |  \n",
      " |  load_from_file(self, addr)\n",
      " |  \n",
      " |  load_x_to_str(self, timing, time_type)\n",
      " |  \n",
      " |  read_data(self)\n",
      " |  \n",
      " |  save_to_file(self, addr='')\n",
      " |  \n",
      " |  set_delay(self, delay_array)\n",
      " |  \n",
      " |  set_timing(self, data_matrix)\n",
      " |  \n",
      " |  set_timing_simple(self, timing_matrix)\n",
      " |  \n",
      " |  ----------------------------------------------------------------------\n",
      " |  Data descriptors inherited from BasePulse:\n",
      " |  \n",
      " |  __dict__\n",
      " |      dictionary for instance variables (if defined)\n",
      " |  \n",
      " |  __weakref__\n",
      " |      list of weak references to the object (if defined)\n",
      " |  \n",
      " |  data_matrix\n",
      " |  \n",
      " |  delay_array\n",
      " |  \n",
      " |  repeat_info\n",
      " |  \n",
      " |  x\n",
      "\n"
     ]
    }
   ],
   "source": [
    "help(pulse)"
   ]
  },
  {
   "cell_type": "code",
   "execution_count": 6,
   "id": "f7ee5e86",
   "metadata": {},
   "outputs": [
    {
     "name": "stdout",
     "output_type": "stream",
     "text": [
      "Plot stopped\n",
      "PL started\n",
      "Plot stopped\n",
      "Plot stopped\n",
      "PL started\n",
      "Plot stopped\n",
      "PL started\n",
      "Plot stopped\n",
      "ODMR started\n",
      "Plot stopped\n",
      "curve fitted, center = 2.87997\n",
      "FWHM = 0.01982\n",
      "height = -996.78478\n",
      "bg = 996.51003\n",
      "Plot stopped\n",
      "Keys in npz file: ['data_x', 'data_y', 'info']\n",
      "{'measurement_name': 'PL', 'plot_type': '2D', 'exposure': 0.01000000000000001, 'repeat': 2, 'wavelength': None, 'x_label': ['X', 'Y'], 'y_label': 'Counts/0.01s x2'}\n",
      "Plot stopped\n",
      "Keys in npz file: ['data_x', 'data_y', 'info']\n",
      "{'measurement_name': 'PL', 'plot_type': '2D', 'exposure': 0.01000000000000001, 'repeat': 2, 'wavelength': None, 'x_label': ['X', 'Y'], 'y_label': 'Counts/0.01s x2'}\n",
      "Plot stopped\n"
     ]
    }
   ],
   "source": [
    "GUI(config_instances=config_instances, measurement_PLE='odmr')"
   ]
  },
  {
   "cell_type": "code",
   "execution_count": 26,
   "id": "5c1e4971",
   "metadata": {},
   "outputs": [
    {
     "name": "stdout",
     "output_type": "stream",
     "text": [
      "Keys in npz file: ['data_x', 'data_y', 'info']\n",
      "{'measurement_name': 'ODMR', 'plot_type': '1D', 'exposure': 0.1, 'repeat': 1, 'power': -10, 'scanner': (-6.0, -1.0), 'x_label': 'Frequency (GHz)', 'y_label': 'Counts/0.10s x1'}\n"
     ]
    },
    {
     "data": {
      "application/vnd.jupyter.widget-view+json": {
       "model_id": "37058626d17a4a0982c6e6117ce2e94b",
       "version_major": 2,
       "version_minor": 0
      },
      "image/png": "[encoded data removed]",
      "text/html": [
       "\n",
       "            <div style=\"display: inline-block;\">\n",
       "                <div class=\"jupyter-widgets widget-label\" style=\"text-align: center;\">\n",
       "                    Figure\n",
       "                </div>\n",
       "                <img src='data:image/png;base64,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' width=630.0/>\n",
       "            </div>\n",
       "        "
      ],
      "text/plain": [
       "Canvas(capture_scroll=True, footer_visible=False, header_visible=False, resizable=False, toolbar=Toolbar(tooli…"
      ]
     },
     "metadata": {},
     "output_type": "display_data"
    }
   ],
   "source": [
    "data_figure = DataFigure(None, address='2025_01_19/ODMR2025_01_19_18_37_24*')"
   ]
  },
  {
   "cell_type": "code",
   "execution_count": 27,
   "id": "f0a125be",
   "metadata": {},
   "outputs": [
    {
     "data": {
      "text/plain": [
       "array([2.78 , 2.781, 2.782, 2.783, 2.784, 2.785, 2.786, 2.787, 2.788,\n",
       "       2.789, 2.79 , 2.791, 2.792, 2.793, 2.794, 2.795, 2.796, 2.797,\n",
       "       2.798, 2.799, 2.8  , 2.801, 2.802, 2.803, 2.804, 2.805, 2.806,\n",
       "       2.807, 2.808, 2.809, 2.81 , 2.811, 2.812, 2.813, 2.814, 2.815,\n",
       "       2.816, 2.817, 2.818, 2.819, 2.82 , 2.821, 2.822, 2.823, 2.824,\n",
       "       2.825, 2.826, 2.827, 2.828, 2.829, 2.83 , 2.831, 2.832, 2.833,\n",
       "       2.834, 2.835, 2.836, 2.837, 2.838, 2.839, 2.84 , 2.841, 2.842,\n",
       "       2.843, 2.844, 2.845, 2.846, 2.847, 2.848, 2.849, 2.85 , 2.851,\n",
       "       2.852, 2.853, 2.854, 2.855, 2.856, 2.857, 2.858, 2.859, 2.86 ,\n",
       "       2.861, 2.862, 2.863, 2.864, 2.865, 2.866, 2.867, 2.868, 2.869,\n",
       "       2.87 , 2.871, 2.872, 2.873, 2.874, 2.875, 2.876])"
      ]
     },
     "execution_count": 27,
     "metadata": {},
     "output_type": "execute_result"
    }
   ],
   "source": [
    "data_figure.data_x"
   ]
  },
  {
   "cell_type": "code",
   "execution_count": 21,
   "id": "cec42800",
   "metadata": {},
   "outputs": [
    {
     "data": {
      "text/plain": [
       "False"
      ]
     },
     "execution_count": 21,
     "metadata": {},
     "output_type": "execute_result"
    }
   ],
   "source": [
    "np.nan==np.nan"
   ]
  },
  {
   "cell_type": "code",
   "execution_count": 23,
   "id": "b54393ae",
   "metadata": {},
   "outputs": [
    {
     "data": {
      "application/vnd.jupyter.widget-view+json": {
       "model_id": "4cdaa851d416437f93280f1a1002ed88",
       "version_major": 2,
       "version_minor": 0
      },
      "image/png": "[encoded data removed]",
      "text/html": [
       "\n",
       "            <div style=\"display: inline-block;\">\n",
       "                <div class=\"jupyter-widgets widget-label\" style=\"text-align: center;\">\n",
       "                    Figure\n",
       "                </div>\n",
       "                <img src='data:image/png;base64,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' width=630.0/>\n",
       "            </div>\n",
       "        "
      ],
      "text/plain": [
       "Canvas(capture_scroll=True, footer_visible=False, header_visible=False, resizable=False, toolbar=Toolbar(tooli…"
      ]
     },
     "metadata": {},
     "output_type": "display_data"
    },
    {
     "name": "stdout",
     "output_type": "stream",
     "text": [
      "\n"
     ]
    }
   ],
   "source": [
    "fig, data_figure = ple(data_x=np.arange(737.1-0.005, 737.1+0.005, 0.0005), exposure=0.1, \\\n",
    "                                config_instances=config_instances\\\n",
    "                       , repeat=10, is_GUI=False)"
   ]
  },
  {
   "cell_type": "code",
   "execution_count": 121,
   "id": "d94a1d3c",
   "metadata": {},
   "outputs": [
    {
     "name": "stdout",
     "output_type": "stream",
     "text": [
      "Keys in npz file: ['data_x', 'data_y', 'info']\n",
      "{'plot_type': 'PLE', 'exposure': 0.1, 'repeat': 1, 'power': -10, 'x_label': 'Frequency (GHz)', 'y_label': 'Counts/0.10s x1'}\n"
     ]
    },
    {
     "data": {
      "application/vnd.jupyter.widget-view+json": {
       "model_id": "4cdaa851d416437f93280f1a1002ed88",
       "version_major": 2,
       "version_minor": 0
      },
      "image/png": "[encoded data removed]",
      "text/html": [
       "\n",
       "            <div style=\"display: inline-block;\">\n",
       "                <div class=\"jupyter-widgets widget-label\" style=\"text-align: center;\">\n",
       "                    Figure\n",
       "                </div>\n",
       "                <img src='data:image/png;base64,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' width=630.0/>\n",
       "            </div>\n",
       "        "
      ],
      "text/plain": [
       "Canvas(capture_scroll=True, footer_visible=False, header_visible=False, resizable=False, toolbar=Toolbar(tooli…"
      ]
     },
     "metadata": {},
     "output_type": "display_data"
    }
   ],
   "source": [
    "data_figure = DataFigure(None, address='2025_01_18/PLE2025_01_18_01_23_15*')"
   ]
  },
  {
   "cell_type": "code",
   "execution_count": 88,
   "id": "f9bb1118",
   "metadata": {},
   "outputs": [
    {
     "data": {
      "text/plain": [
       "-0.0009999999999998899"
      ]
     },
     "execution_count": 88,
     "metadata": {},
     "output_type": "execute_result"
    }
   ],
   "source": [
    "data_figure.data_x[0] - data_figure.data_x[1]"
   ]
  },
  {
   "cell_type": "code",
   "execution_count": 109,
   "id": "d6dc215d",
   "metadata": {},
   "outputs": [],
   "source": [
    "_, popt = data_figure.lorent(p0=[ 2.87993285e+00 , 1.93784823e-02 ,-9.49230777e+02 , 9.48523948e+02], is_fit=False)"
   ]
  },
  {
   "cell_type": "code",
   "execution_count": null,
   "id": "8a7f17b9",
   "metadata": {},
   "outputs": [],
   "source": []
  },
  {
   "cell_type": "code",
   "execution_count": 122,
   "id": "e72e6b68",
   "metadata": {},
   "outputs": [],
   "source": [
    "_, popt = data_figure.lorent()"
   ]
  },
  {
   "cell_type": "code",
   "execution_count": 79,
   "id": "8b4c5d51",
   "metadata": {},
   "outputs": [
    {
     "data": {
      "text/plain": [
       "0"
      ]
     },
     "execution_count": 79,
     "metadata": {},
     "output_type": "execute_result"
    }
   ],
   "source": [
    "a = []\n",
    "np.argmin(a if a!=[] else [1,])"
   ]
  },
  {
   "cell_type": "code",
   "execution_count": 39,
   "id": "514ea181",
   "metadata": {},
   "outputs": [
    {
     "name": "stdout",
     "output_type": "stream",
     "text": [
      "Plot stopped\n",
      "PLE started\n",
      "curve fitted, center = 737.102\n",
      "FWHM = 0.00099\n",
      "height = 10000.68115\n",
      "bg = 6.54415\n",
      "Plot stopped\n",
      "PLE started\n",
      "Plot stopped\n",
      "curve fitted, center = 737.102\n",
      "FWHM = 0.001\n",
      "height = 10016.20307\n",
      "bg = -0.21319\n",
      "Plot stopped\n",
      "Keys in npz file: ['data_x', 'data_y', 'info']\n",
      "{'measurement_name': 'ODMR', 'plot_type': '1D', 'exposure': 0.1, 'repeat': 1, 'power': -10, 'scanner': (0, 0), 'x_label': 'Frequency (GHz)', 'y_label': 'Counts/0.10s x1'}\n",
      "Plot stopped\n",
      "Keys in npz file: ['data_x', 'data_y', 'info']\n",
      "{'measurement_name': 'ODMR', 'plot_type': '1D', 'exposure': 0.1, 'repeat': 1, 'power': -10, 'scanner': (0, 0), 'x_label': 'Frequency (GHz)', 'y_label': 'Counts/0.10s x1'}\n",
      "curve fitted, center = 2.87931\n",
      "FWHM = 0.01951\n",
      "height = -955.89705\n",
      "bg = 996.80697\n",
      "Plot stopped\n"
     ]
    }
   ],
   "source": [
    "ple_test_dict = {'ple_height':100000, 'ple_width':0.001, 'ple_center':737.102}\n",
    "odmr_test_dict = {'odmr_height':10000, 'odmr_width':20e6, 'odmr_center':2.88e9}\n",
    "# defines ple_test_dict for testing purpose only\n",
    "fig, data_figure = ple(data_x=np.arange(737.1-0.005, 737.1+0.005, 0.0005), exposure=0.1, \\\n",
    "                                config_instances={**config_instances, **ple_test_dict, **odmr_test_dict}\\\n",
    "                       , repeat=1, is_GUI=True)"
   ]
  },
  {
   "cell_type": "code",
   "execution_count": 39,
   "id": "260e6925",
   "metadata": {},
   "outputs": [
    {
     "name": "stdout",
     "output_type": "stream",
     "text": [
      "0 3\n",
      "1 4\n",
      "2 5\n"
     ]
    }
   ],
   "source": [
    "for i, ii in enumerate([3,4,5]):\n",
    "    print(i,ii)"
   ]
  },
  {
   "cell_type": "code",
   "execution_count": 48,
   "id": "0eea6e8d",
   "metadata": {},
   "outputs": [],
   "source": [
    "_, popt = data_figure.lorent()"
   ]
  },
  {
   "cell_type": "code",
   "execution_count": 5,
   "id": "2e43987b",
   "metadata": {},
   "outputs": [
    {
     "name": "stdout",
     "output_type": "stream",
     "text": [
      "Help on function live in module Confocal_GUI.logic.logic:\n",
      "\n",
      "live(**kwargs)\n",
      "    live func doc str\n",
      "\n"
     ]
    }
   ],
   "source": [
    "help(live)"
   ]
  },
  {
   "cell_type": "code",
   "execution_count": 9,
   "id": "f2444524",
   "metadata": {},
   "outputs": [
    {
     "data": {
      "text/plain": [
       "1"
      ]
     },
     "execution_count": 9,
     "metadata": {},
     "output_type": "execute_result"
    }
   ],
   "source": [
    "1200001%1000"
   ]
  },
  {
   "cell_type": "code",
   "execution_count": 11,
   "id": "09aed3d4",
   "metadata": {},
   "outputs": [
    {
     "data": {
      "text/plain": [
       "-2"
      ]
     },
     "execution_count": 11,
     "metadata": {},
     "output_type": "execute_result"
    }
   ],
   "source": [
    "int(-1001)//1000"
   ]
  },
  {
   "cell_type": "code",
   "execution_count": 7,
   "id": "c1322365",
   "metadata": {},
   "outputs": [
    {
     "data": {
      "application/vnd.jupyter.widget-view+json": {
       "model_id": "b3edf74cd57447689b1088fd2579b1c6",
       "version_major": 2,
       "version_minor": 0
      },
      "image/png": "[encoded data removed]",
      "text/html": [
       "\n",
       "            <div style=\"display: inline-block;\">\n",
       "                <div class=\"jupyter-widgets widget-label\" style=\"text-align: center;\">\n",
       "                    Figure\n",
       "                </div>\n",
       "                <img src='data:image/png;base64,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' width=630.0/>\n",
       "            </div>\n",
       "        "
      ],
      "text/plain": [
       "Canvas(capture_scroll=True, footer_visible=False, header_visible=False, resizable=False, toolbar=Toolbar(tooli…"
      ]
     },
     "metadata": {},
     "output_type": "display_data"
    },
    {
     "name": "stdout",
     "output_type": "stream",
     "text": [
      "\n"
     ]
    }
   ],
   "source": [
    "odmr_test_dict = {'odmr_height':10000, 'odmr_width':20e6, 'odmr_center':2.88e9}\n",
    "# defines ple_test_dict for testing purpose only\n",
    "fig, data_figure = odmr(data_x=np.arange(2.68, 3.08, 0.003), exposure=0.1, \\\n",
    "                                config_instances={**config_instances, **odmr_test_dict}, repeat=1, is_GUI=False, \\\n",
    "                        data_mode='single')"
   ]
  },
  {
   "cell_type": "code",
   "execution_count": null,
   "id": "332fab49",
   "metadata": {},
   "outputs": [
    {
     "name": "stdout",
     "output_type": "stream",
     "text": [
      "Plot stopped\n",
      "ODMR started\n",
      "Plot stopped\n",
      "Live started\n",
      "Plot stopped\n",
      "Live started\n"
     ]
    }
   ],
   "source": [
    "odmr_test_dict = {'odmr_height':10000, 'odmr_width':20e6, 'odmr_center':2.88e9}\n",
    "# defines ple_test_dict for testing purpose only\n",
    "fig, data_figure = odmr(data_x=np.arange(2.68, 3.08, 0.003), exposure=0.1, \\\n",
    "                                config_instances={**config_instances, **odmr_test_dict}, repeat=1, \\\n",
    "                        is_GUI=True, data_mode='ref_sub')"
   ]
  },
  {
   "cell_type": "code",
   "execution_count": 62,
   "id": "bc28eef8",
   "metadata": {},
   "outputs": [
    {
     "data": {
      "text/plain": [
       "'Frequency (GHz)'"
      ]
     },
     "execution_count": 62,
     "metadata": {},
     "output_type": "execute_result"
    }
   ],
   "source": [
    "fig.axes[0].get_xlabel()"
   ]
  },
  {
   "cell_type": "code",
   "execution_count": 19,
   "id": "c036a65b",
   "metadata": {},
   "outputs": [
    {
     "name": "stdout",
     "output_type": "stream",
     "text": [
      "[<confocal_gui.live_plot.AreaSelector object at 0x000002ADB40FB788>, <confocal_gui.live_plot.CrossSelector object at 0x000002ADB414BBC8>, <confocal_gui.live_plot.ZoomPan object at 0x000002ADB414BD48>]\n",
      "737.0973308318617 737.1034591532452 2575.4107936507935 22006.704761904773\n"
     ]
    }
   ],
   "source": [
    "_, popt = data_figure.lorent()"
   ]
  },
  {
   "cell_type": "code",
   "execution_count": 77,
   "id": "988a4ecf",
   "metadata": {},
   "outputs": [
    {
     "name": "stdout",
     "output_type": "stream",
     "text": [
      "Live started\n",
      "Keys in npz file: ['data_x', 'data_y', 'info']\n",
      "{'data_generator': 'PLEAcquire', 'exposure': 0.1, 'repeat': 1}\n",
      "curve fitted, center = 2.88018\n",
      "FWHM = 0.02036\n",
      "height = -999.77387\n",
      "bg = 1002.15785\n",
      "PLE started\n",
      "PLE started\n",
      "Plot stopped\n",
      "saved fig as 2025_01_12/PLE2025_01_12_19_09_33.npz\n",
      "info: {'plot_type': 'PLE', 'exposure': 0.1, 'repeat': 1}\n",
      "\n",
      "        2025_01_12_19_09_33\n",
      "        \n"
     ]
    },
    {
     "data": {
      "image/png": "[encoded data removed]",
      "text/plain": [
       "<IPython.core.display.Image object>"
      ]
     },
     "metadata": {},
     "output_type": "display_data"
    },
    {
     "name": "stdout",
     "output_type": "stream",
     "text": [
      "saved PLE\n",
      "Keys in npz file: ['data_x', 'data_y', 'info']\n",
      "{'data_generator': 'PLEAcquire', 'exposure': 0.1, 'repeat': 1, 'x_label': 'Frequency (GHz)', 'ylabel': 'Counts/0.10s x1'}\n"
     ]
    }
   ],
   "source": [
    "ple_test_dict = {'ple_height':100000, 'ple_width':0.001, 'ple_center':737.102}\n",
    "# defines ple_test_dict for testing purpose only\n",
    "fig, data_figure = ple(data_x=np.arange(737.1-0.005, 737.1+0.005, 0.0005), exposure=0.1, \\\n",
    "                                config_instances={**config_instances, **ple_test_dict}, repeat=1, is_GUI=True)"
   ]
  },
  {
   "cell_type": "code",
   "execution_count": 78,
   "id": "31c90bfc",
   "metadata": {},
   "outputs": [
    {
     "name": "stdout",
     "output_type": "stream",
     "text": [
      "0 [1, 2]\n",
      "1 [3, 4]\n"
     ]
    }
   ],
   "source": [
    "x = [[1,2],[3,4]]\n",
    "for i,ii in enumerate(x):\n",
    "    print(i,ii)"
   ]
  },
  {
   "cell_type": "code",
   "execution_count": 82,
   "id": "2335f8cc",
   "metadata": {},
   "outputs": [],
   "source": [
    "x=[(1,2), (3,4), (5,6)]"
   ]
  },
  {
   "cell_type": "code",
   "execution_count": 83,
   "id": "1a40a2c2",
   "metadata": {},
   "outputs": [
    {
     "data": {
      "text/plain": [
       "(3, 2)"
      ]
     },
     "execution_count": 83,
     "metadata": {},
     "output_type": "execute_result"
    }
   ],
   "source": [
    "np.shape(x)"
   ]
  },
  {
   "cell_type": "code",
   "execution_count": 81,
   "id": "77a82f0f",
   "metadata": {},
   "outputs": [
    {
     "data": {
      "text/plain": [
       "array([1, 2, 3, 4])"
      ]
     },
     "execution_count": 81,
     "metadata": {},
     "output_type": "execute_result"
    }
   ],
   "source": [
    "np.array(x).flatten()"
   ]
  },
  {
   "cell_type": "code",
   "execution_count": 19,
   "id": "4c5fe16a",
   "metadata": {},
   "outputs": [
    {
     "data": {
      "text/plain": [
       "array([[0., 0.],\n",
       "       [0., 0.]])"
      ]
     },
     "execution_count": 19,
     "metadata": {},
     "output_type": "execute_result"
    }
   ],
   "source": [
    "np.zeros(np.shape([[1,2],[3,4]]))"
   ]
  },
  {
   "cell_type": "code",
   "execution_count": 5,
   "id": "5663bcc6",
   "metadata": {},
   "outputs": [],
   "source": [
    "# use mouse left to select/cancel area in fig\n",
    "# use mouse middle to scroll range\n",
    "# use mouse right to select point, or double clicks to remove point"
   ]
  },
  {
   "cell_type": "code",
   "execution_count": 106,
   "id": "413f5a93",
   "metadata": {},
   "outputs": [
    {
     "data": {
      "image/png": "[encoded data removed]",
      "text/plain": [
       "<Figure size 630x472.5 with 1 Axes>"
      ]
     },
     "metadata": {},
     "output_type": "display_data"
    },
    {
     "name": "stdout",
     "output_type": "stream",
     "text": [
      "\n"
     ]
    }
   ],
   "source": [
    "ple_test_dict = {'ple_height':100000, 'ple_width':0.001, 'ple_center':737.102}\n",
    "# defines ple_test_dict for testing purpose only\n",
    "fig, data_figure = ple(data_x = np.arange(737.1-0.005, 737.1+0.005, 0.0005), exposure=0.1, \\\n",
    "                                config_instances={**config_instances, **ple_test_dict}, repeat=1, is_GUI=False)"
   ]
  },
  {
   "cell_type": "code",
   "execution_count": 5,
   "id": "46f43757",
   "metadata": {},
   "outputs": [
    {
     "data": {
      "text/plain": [
       "[array([737.095 , 737.0955, 737.096 , 737.0965, 737.097 , 737.0975,\n",
       "        737.098 , 737.0985, 737.099 , 737.0995, 737.1   , 737.1005,\n",
       "        737.101 , 737.1015, 737.102 , 737.1025, 737.103 , 737.1035,\n",
       "        737.104 , 737.1045]),\n",
       " array([  55.,   59.,   78.,   86.,  105.,  122.,  165.,  181.,  276.,\n",
       "         396.,  601.,  966., 2085., 4975., 9960., 4939., 1948., 1003.,\n",
       "         590.,  387.])]"
      ]
     },
     "execution_count": 5,
     "metadata": {},
     "output_type": "execute_result"
    }
   ],
   "source": [
    "data_figure.data\n",
    "# get data from return data_figure\n",
    "# data_figure is a instance of DataFigure \n",
    "# defines in confocal_gui.live_plot"
   ]
  },
  {
   "cell_type": "code",
   "execution_count": 6,
   "id": "f17c9889",
   "metadata": {},
   "outputs": [
    {
     "data": {
      "text/plain": [
       "([['center', 'FWHM', 'in GHz', 'height', 'bg'],\n",
       "  array([[ 3.15940408e-12, -1.02400427e-13,  5.82972619e-07,\n",
       "           1.38147485e-07],\n",
       "         [-1.02400427e-13,  1.78049365e-11, -4.62698587e-05,\n",
       "          -1.62116735e-05],\n",
       "         [ 5.82972619e-07, -4.62698587e-05,  7.09812489e+02,\n",
       "          -4.33527014e+01],\n",
       "         [ 1.38147485e-07, -1.62116735e-05, -4.33527014e+01,\n",
       "           6.21867071e+01]])],\n",
       " array([7.37101997e+02, 9.97961643e-04, 5.50654734e-01, 9.94927842e+03,\n",
       "        6.19041425e+00]))"
      ]
     },
     "execution_count": 6,
     "metadata": {},
     "output_type": "execute_result"
    }
   ],
   "source": [
    "data_figure.lorent()\n",
    "# call lorent() to get a lorentzian fit"
   ]
  },
  {
   "cell_type": "code",
   "execution_count": 10,
   "id": "360f8f15",
   "metadata": {},
   "outputs": [
    {
     "data": {
      "text/plain": [
       "{'data_generator': 'PLEAcquire', 'exposure': 0.1, 'scanner': [0, 0]}"
      ]
     },
     "execution_count": 10,
     "metadata": {},
     "output_type": "execute_result"
    }
   ],
   "source": [
    "data_figure.info"
   ]
  },
  {
   "cell_type": "code",
   "execution_count": 10,
   "id": "1afab06c",
   "metadata": {},
   "outputs": [
    {
     "name": "stdout",
     "output_type": "stream",
     "text": [
      "saved fig as PLE2024_06_28_01_59_15.npz\n"
     ]
    }
   ],
   "source": [
    "data_figure.save()\n",
    "# save figure "
   ]
  },
  {
   "cell_type": "code",
   "execution_count": 19,
   "id": "4842e088",
   "metadata": {},
   "outputs": [
    {
     "name": "stdout",
     "output_type": "stream",
     "text": [
      "Keys in npz file: ['data_x', 'data_y', 'info']\n",
      "Data under key 'data_x':\n",
      "[737.095  737.0955 737.096  737.0965 737.097  737.0975 737.098  737.0985\n",
      " 737.099  737.0995 737.1    737.1005 737.101  737.1015 737.102  737.1025\n",
      " 737.103  737.1035 737.104  737.1045]\n",
      "Data under key 'data_y':\n",
      "[  42.   59.   60.   71.   85.  129.  145.  198.  271.  372.  577. 1032.\n",
      " 2001. 4948. 9958. 4979. 1947.  976.  601.  415.]\n",
      "Data under key 'info':\n",
      "{'data_generator': 'PLEAcquire', 'exposure': 0.1, 'scanner': [0, 0]}\n"
     ]
    }
   ],
   "source": [
    "loaded = np.load('PLE2024_06_28_01_59_15.npz', allow_pickle=True)\n",
    "keys = loaded.files\n",
    "print(\"Keys in npz file:\", keys)\n",
    "\n",
    "for key in keys:\n",
    "    print(f\"Data under key '{key}':\")\n",
    "    print(loaded[key])"
   ]
  },
  {
   "cell_type": "code",
   "execution_count": 13,
   "id": "32cd3817",
   "metadata": {},
   "outputs": [
    {
     "name": "stdout",
     "output_type": "stream",
     "text": [
      "Help on function pl in module confocal_gui.live_plot:\n",
      "\n",
      "pl(\n",
      "    center,\n",
      "    coordinates_x,\n",
      "    coordinates_y,\n",
      "    exposure,\n",
      "    config_instances,\n",
      "    is_dis=False,\n",
      "    wavelength=None\n",
      ")\n",
      "    example\n",
      "\n",
      "    >>> pl(center=[0, 0], coordinates_x=np.linspace(-5,5,10),         coordinates_y=np.linspace(-5,5,10), exposure=0.2)\n",
      "\n"
     ]
    }
   ],
   "source": [
    "help(pl)"
   ]
  },
  {
   "cell_type": "code",
   "execution_count": 40,
   "id": "282f0a33",
   "metadata": {},
   "outputs": [
    {
     "ename": "TypeError",
     "evalue": "load_params() got an unexpected keyword argument 'center'",
     "output_type": "error",
     "traceback": [
      "\u001b[1;31m---------------------------------------------------------------------------\u001b[0m",
      "\u001b[1;31mTypeError\u001b[0m                                 Traceback (most recent call last)",
      "\u001b[1;32m~\\AppData\\Local\\Temp/ipykernel_15284/3651657895.py\u001b[0m in \u001b[0;36m<module>\u001b[1;34m\u001b[0m\n\u001b[0;32m      3\u001b[0m fig, data_figure = pl(center=[0,0], coordinates_x=np.arange(-20,20,1), \\\n\u001b[0;32m      4\u001b[0m                                \u001b[0mcoordinates_y\u001b[0m\u001b[1;33m=\u001b[0m\u001b[0mnp\u001b[0m\u001b[1;33m.\u001b[0m\u001b[0marange\u001b[0m\u001b[1;33m(\u001b[0m\u001b[1;33m-\u001b[0m\u001b[1;36m20\u001b[0m\u001b[1;33m,\u001b[0m\u001b[1;36m20\u001b[0m\u001b[1;33m,\u001b[0m\u001b[1;36m1\u001b[0m\u001b[1;33m)\u001b[0m\u001b[1;33m,\u001b[0m \u001b[0mexposure\u001b[0m\u001b[1;33m=\u001b[0m\u001b[1;36m0.025\u001b[0m\u001b[1;33m,\u001b[0m\u001b[0;31m \u001b[0m\u001b[0;31m\\\u001b[0m\u001b[1;33m\u001b[0m\u001b[1;33m\u001b[0m\u001b[0m\n\u001b[1;32m----> 5\u001b[1;33m                                config_instances={**config_instances, **pl_test_dict})\n\u001b[0m",
      "\u001b[1;32mD:\\Dropbox\\WorkCode\\Github\\Confocal-GUI\\src\\Confocal_GUI\\logic\\logic.py\u001b[0m in \u001b[0;36mmeasure_func\u001b[1;34m(**kwargs)\u001b[0m\n\u001b[0;32m    174\u001b[0m \u001b[1;33m\u001b[0m\u001b[0m\n\u001b[0;32m    175\u001b[0m         \u001b[1;32mdef\u001b[0m \u001b[0mmeasure_func\u001b[0m\u001b[1;33m(\u001b[0m\u001b[1;33m**\u001b[0m\u001b[0mkwargs\u001b[0m\u001b[1;33m)\u001b[0m\u001b[1;33m:\u001b[0m\u001b[1;33m\u001b[0m\u001b[1;33m\u001b[0m\u001b[0m\n\u001b[1;32m--> 176\u001b[1;33m             \u001b[1;32mreturn\u001b[0m \u001b[0mrun_measurement\u001b[0m\u001b[1;33m(\u001b[0m\u001b[0mname\u001b[0m\u001b[1;33m,\u001b[0m \u001b[1;33m**\u001b[0m\u001b[0mkwargs\u001b[0m\u001b[1;33m)\u001b[0m\u001b[1;33m\u001b[0m\u001b[1;33m\u001b[0m\u001b[0m\n\u001b[0m\u001b[0;32m    177\u001b[0m \u001b[1;33m\u001b[0m\u001b[0m\n\u001b[0;32m    178\u001b[0m         \u001b[1;32mif\u001b[0m \u001b[0mhasattr\u001b[0m\u001b[1;33m(\u001b[0m\u001b[0mcls\u001b[0m\u001b[1;33m,\u001b[0m \u001b[1;34m'load_params'\u001b[0m\u001b[1;33m)\u001b[0m\u001b[1;33m:\u001b[0m\u001b[1;33m\u001b[0m\u001b[1;33m\u001b[0m\u001b[0m\n",
      "\u001b[1;32mD:\\Dropbox\\WorkCode\\Github\\Confocal-GUI\\src\\Confocal_GUI\\logic\\logic.py\u001b[0m in \u001b[0;36mrun_measurement\u001b[1;34m(name, **kwargs)\u001b[0m\n\u001b[0;32m    161\u001b[0m         \u001b[1;32mraise\u001b[0m \u001b[0mValueError\u001b[0m\u001b[1;33m(\u001b[0m\u001b[1;34mf\"No measurement registered with name '{name}'\"\u001b[0m\u001b[1;33m)\u001b[0m\u001b[1;33m\u001b[0m\u001b[1;33m\u001b[0m\u001b[0m\n\u001b[0;32m    162\u001b[0m     \u001b[0mmeasurement\u001b[0m \u001b[1;33m=\u001b[0m \u001b[0mcls\u001b[0m\u001b[1;33m(\u001b[0m\u001b[1;33m{\u001b[0m\u001b[1;33m**\u001b[0m\u001b[0mkwargs\u001b[0m\u001b[1;33m}\u001b[0m\u001b[1;33m[\u001b[0m\u001b[1;34m'config_instances'\u001b[0m\u001b[1;33m]\u001b[0m\u001b[1;33m)\u001b[0m\u001b[1;33m\u001b[0m\u001b[1;33m\u001b[0m\u001b[0m\n\u001b[1;32m--> 163\u001b[1;33m     \u001b[1;32mreturn\u001b[0m \u001b[0mmeasurement\u001b[0m\u001b[1;33m.\u001b[0m\u001b[0mplot\u001b[0m\u001b[1;33m(\u001b[0m\u001b[1;33m**\u001b[0m\u001b[0mkwargs\u001b[0m\u001b[1;33m)\u001b[0m\u001b[1;33m\u001b[0m\u001b[1;33m\u001b[0m\u001b[0m\n\u001b[0m\u001b[0;32m    164\u001b[0m \u001b[1;33m\u001b[0m\u001b[0m\n\u001b[0;32m    165\u001b[0m \u001b[1;32mdef\u001b[0m \u001b[0mregister_measurement\u001b[0m\u001b[1;33m(\u001b[0m\u001b[0mname\u001b[0m\u001b[1;33m:\u001b[0m \u001b[0mstr\u001b[0m\u001b[1;33m)\u001b[0m\u001b[1;33m:\u001b[0m\u001b[1;33m\u001b[0m\u001b[1;33m\u001b[0m\u001b[0m\n",
      "\u001b[1;32mD:\\Dropbox\\WorkCode\\Github\\Confocal-GUI\\src\\Confocal_GUI\\logic\\logic.py\u001b[0m in \u001b[0;36mplot\u001b[1;34m(self, **kwargs)\u001b[0m\n\u001b[0;32m    542\u001b[0m \u001b[1;33m\u001b[0m\u001b[0m\n\u001b[0;32m    543\u001b[0m     \u001b[1;32mdef\u001b[0m \u001b[0mplot\u001b[0m\u001b[1;33m(\u001b[0m\u001b[0mself\u001b[0m\u001b[1;33m,\u001b[0m \u001b[1;33m**\u001b[0m\u001b[0mkwargs\u001b[0m\u001b[1;33m)\u001b[0m\u001b[1;33m:\u001b[0m\u001b[1;33m\u001b[0m\u001b[1;33m\u001b[0m\u001b[0m\n\u001b[1;32m--> 544\u001b[1;33m         \u001b[0mself\u001b[0m\u001b[1;33m.\u001b[0m\u001b[0mload_params\u001b[0m\u001b[1;33m(\u001b[0m\u001b[1;33m**\u001b[0m\u001b[0mkwargs\u001b[0m\u001b[1;33m)\u001b[0m\u001b[1;33m\u001b[0m\u001b[1;33m\u001b[0m\u001b[0m\n\u001b[0m\u001b[0;32m    545\u001b[0m         \u001b[1;32mif\u001b[0m \u001b[1;32mnot\u001b[0m \u001b[0mself\u001b[0m\u001b[1;33m.\u001b[0m\u001b[0mis_plot\u001b[0m\u001b[1;33m:\u001b[0m\u001b[1;33m\u001b[0m\u001b[1;33m\u001b[0m\u001b[0m\n\u001b[0;32m    546\u001b[0m             \u001b[1;32mreturn\u001b[0m \u001b[0mself\u001b[0m\u001b[1;33m\u001b[0m\u001b[1;33m\u001b[0m\u001b[0m\n",
      "\u001b[1;31mTypeError\u001b[0m: load_params() got an unexpected keyword argument 'center'"
     ]
    }
   ],
   "source": [
    "pl_test_dict = {'pl_height':10000, 'pl_width':4, 'pl_center':[5, -5], 'pl_bg':5000}\n",
    "# defines pl_test_dict for testing purpose only\n",
    "fig, data_figure = pl(center=[0,0], coordinates_x=np.arange(-20,20,1), \\\n",
    "                               coordinates_y=np.arange(-20,20,1), exposure=0.025, \\\n",
    "                               config_instances={**config_instances, **pl_test_dict})"
   ]
  },
  {
   "cell_type": "code",
   "execution_count": null,
   "id": "6b851a27",
   "metadata": {},
   "outputs": [],
   "source": [
    "# can be interrupted by interrupt"
   ]
  },
  {
   "cell_type": "code",
   "execution_count": 112,
   "id": "1fa36615",
   "metadata": {},
   "outputs": [
    {
     "data": {
      "application/vnd.jupyter.widget-view+json": {
       "model_id": "37058626d17a4a0982c6e6117ce2e94b",
       "version_major": 2,
       "version_minor": 0
      },
      "image/png": "[encoded data removed]",
      "text/html": [
       "\n",
       "            <div style=\"display: inline-block;\">\n",
       "                <div class=\"jupyter-widgets widget-label\" style=\"text-align: center;\">\n",
       "                    Figure\n",
       "                </div>\n",
       "                <img src='data:image/png;base64,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' width=630.0/>\n",
       "            </div>\n",
       "        "
      ],
      "text/plain": [
       "Canvas(capture_scroll=True, footer_visible=False, header_visible=False, resizable=False, toolbar=Toolbar(tooli…"
      ]
     },
     "metadata": {},
     "output_type": "display_data"
    },
    {
     "name": "stdout",
     "output_type": "stream",
     "text": [
      "\n"
     ]
    }
   ],
   "source": [
    "pl_test_dict = {'pl_height':10000, 'pl_width':4, 'pl_center':[5, -5], 'pl_bg':5000}\n",
    "fig, data_figure = pl(data_x = [np.arange(-20,20,1), np.arange(-20,20,1)], exposure=0.025, \\\n",
    "                      is_dis=False, config_instances={**config_instances, **pl_test_dict}, is_GUI=False)"
   ]
  },
  {
   "cell_type": "code",
   "execution_count": null,
   "id": "5283c62d",
   "metadata": {},
   "outputs": [],
   "source": [
    "# drag two vertical lines in histogram to reset colorbar\n",
    "# enables remove background"
   ]
  },
  {
   "cell_type": "code",
   "execution_count": 12,
   "id": "9379c3db",
   "metadata": {},
   "outputs": [
    {
     "name": "stdout",
     "output_type": "stream",
     "text": [
      "Help on function live in module confocal_gui.live_plot:\n",
      "\n",
      "live(data_array, exposure, config_instances, wavelength=None, is_finite=False)\n",
      "\n"
     ]
    }
   ],
   "source": [
    "help(live)"
   ]
  },
  {
   "cell_type": "code",
   "execution_count": 79,
   "id": "377cdd5d",
   "metadata": {},
   "outputs": [
    {
     "name": "stderr",
     "output_type": "stream",
     "text": [
      "[autoreload of Confocal_GUI.live_plot.live_plot failed: Traceback (most recent call last):\n",
      "  File \"c:\\users\\eadri\\appdata\\local\\programs\\python\\python37\\lib\\site-packages\\IPython\\extensions\\autoreload.py\", line 245, in check\n",
      "    superreload(m, reload, self.old_objects)\n",
      "  File \"c:\\users\\eadri\\appdata\\local\\programs\\python\\python37\\lib\\site-packages\\IPython\\extensions\\autoreload.py\", line 410, in superreload\n",
      "    update_generic(old_obj, new_obj)\n",
      "  File \"c:\\users\\eadri\\appdata\\local\\programs\\python\\python37\\lib\\site-packages\\IPython\\extensions\\autoreload.py\", line 347, in update_generic\n",
      "    update(a, b)\n",
      "  File \"c:\\users\\eadri\\appdata\\local\\programs\\python\\python37\\lib\\site-packages\\IPython\\extensions\\autoreload.py\", line 317, in update_class\n",
      "    update_instances(old, new)\n",
      "  File \"c:\\users\\eadri\\appdata\\local\\programs\\python\\python37\\lib\\site-packages\\IPython\\extensions\\autoreload.py\", line 278, in update_instances\n",
      "    for ref in refs:\n",
      "KeyboardInterrupt\n",
      "]\n"
     ]
    },
    {
     "ename": "TypeError",
     "evalue": "load_params() got an unexpected keyword argument 'wavelength'",
     "output_type": "error",
     "traceback": [
      "\u001b[1;31m---------------------------------------------------------------------------\u001b[0m",
      "\u001b[1;31mTypeError\u001b[0m                                 Traceback (most recent call last)",
      "\u001b[1;32m~\\AppData\\Local\\Temp/ipykernel_15284/3286552525.py\u001b[0m in \u001b[0;36m<module>\u001b[1;34m\u001b[0m\n\u001b[0;32m      1\u001b[0m \u001b[0mpl_test_dict\u001b[0m \u001b[1;33m=\u001b[0m \u001b[1;33m{\u001b[0m\u001b[1;34m'pl_height'\u001b[0m\u001b[1;33m:\u001b[0m\u001b[1;36m10000\u001b[0m\u001b[1;33m,\u001b[0m \u001b[1;34m'pl_width'\u001b[0m\u001b[1;33m:\u001b[0m\u001b[1;36m4\u001b[0m\u001b[1;33m,\u001b[0m \u001b[1;34m'pl_center'\u001b[0m\u001b[1;33m:\u001b[0m\u001b[1;33m[\u001b[0m\u001b[1;36m5\u001b[0m\u001b[1;33m,\u001b[0m \u001b[1;33m-\u001b[0m\u001b[1;36m5\u001b[0m\u001b[1;33m]\u001b[0m\u001b[1;33m,\u001b[0m \u001b[1;34m'pl_bg'\u001b[0m\u001b[1;33m:\u001b[0m\u001b[1;36m5000\u001b[0m\u001b[1;33m}\u001b[0m\u001b[1;33m\u001b[0m\u001b[1;33m\u001b[0m\u001b[0m\n\u001b[0;32m      2\u001b[0m fig, data_figure = live(data_x=np.arange(100), exposure=0.1, wavelength=None, \n\u001b[1;32m----> 3\u001b[1;33m                                            is_finite=True, config_instances={**config_instances, **pl_test_dict})\n\u001b[0m\u001b[0;32m      4\u001b[0m \u001b[1;31m# wavelength defines wavelength for live plot\u001b[0m\u001b[1;33m\u001b[0m\u001b[1;33m\u001b[0m\u001b[1;33m\u001b[0m\u001b[0m\n",
      "\u001b[1;32mD:\\Dropbox\\WorkCode\\Github\\Confocal-GUI\\src\\Confocal_GUI\\logic\\logic.py\u001b[0m in \u001b[0;36mmeasure_func\u001b[1;34m(**kwargs)\u001b[0m\n\u001b[0;32m    174\u001b[0m \u001b[1;33m\u001b[0m\u001b[0m\n\u001b[0;32m    175\u001b[0m         \u001b[1;32mdef\u001b[0m \u001b[0mmeasure_func\u001b[0m\u001b[1;33m(\u001b[0m\u001b[1;33m**\u001b[0m\u001b[0mkwargs\u001b[0m\u001b[1;33m)\u001b[0m\u001b[1;33m:\u001b[0m\u001b[1;33m\u001b[0m\u001b[1;33m\u001b[0m\u001b[0m\n\u001b[1;32m--> 176\u001b[1;33m             \u001b[1;32mreturn\u001b[0m \u001b[0mrun_measurement\u001b[0m\u001b[1;33m(\u001b[0m\u001b[0mname\u001b[0m\u001b[1;33m,\u001b[0m \u001b[1;33m**\u001b[0m\u001b[0mkwargs\u001b[0m\u001b[1;33m)\u001b[0m\u001b[1;33m\u001b[0m\u001b[1;33m\u001b[0m\u001b[0m\n\u001b[0m\u001b[0;32m    177\u001b[0m \u001b[1;33m\u001b[0m\u001b[0m\n\u001b[0;32m    178\u001b[0m         \u001b[1;32mif\u001b[0m \u001b[0mhasattr\u001b[0m\u001b[1;33m(\u001b[0m\u001b[0mcls\u001b[0m\u001b[1;33m,\u001b[0m \u001b[1;34m'load_params'\u001b[0m\u001b[1;33m)\u001b[0m\u001b[1;33m:\u001b[0m\u001b[1;33m\u001b[0m\u001b[1;33m\u001b[0m\u001b[0m\n",
      "\u001b[1;32mD:\\Dropbox\\WorkCode\\Github\\Confocal-GUI\\src\\Confocal_GUI\\logic\\logic.py\u001b[0m in \u001b[0;36mrun_measurement\u001b[1;34m(name, **kwargs)\u001b[0m\n\u001b[0;32m    161\u001b[0m         \u001b[1;32mraise\u001b[0m \u001b[0mValueError\u001b[0m\u001b[1;33m(\u001b[0m\u001b[1;34mf\"No measurement registered with name '{name}'\"\u001b[0m\u001b[1;33m)\u001b[0m\u001b[1;33m\u001b[0m\u001b[1;33m\u001b[0m\u001b[0m\n\u001b[0;32m    162\u001b[0m     \u001b[0mmeasurement\u001b[0m \u001b[1;33m=\u001b[0m \u001b[0mcls\u001b[0m\u001b[1;33m(\u001b[0m\u001b[1;33m{\u001b[0m\u001b[1;33m**\u001b[0m\u001b[0mkwargs\u001b[0m\u001b[1;33m}\u001b[0m\u001b[1;33m[\u001b[0m\u001b[1;34m'config_instances'\u001b[0m\u001b[1;33m]\u001b[0m\u001b[1;33m)\u001b[0m\u001b[1;33m\u001b[0m\u001b[1;33m\u001b[0m\u001b[0m\n\u001b[1;32m--> 163\u001b[1;33m     \u001b[1;32mreturn\u001b[0m \u001b[0mmeasurement\u001b[0m\u001b[1;33m.\u001b[0m\u001b[0mplot\u001b[0m\u001b[1;33m(\u001b[0m\u001b[1;33m**\u001b[0m\u001b[0mkwargs\u001b[0m\u001b[1;33m)\u001b[0m\u001b[1;33m\u001b[0m\u001b[1;33m\u001b[0m\u001b[0m\n\u001b[0m\u001b[0;32m    164\u001b[0m \u001b[1;33m\u001b[0m\u001b[0m\n\u001b[0;32m    165\u001b[0m \u001b[1;32mdef\u001b[0m \u001b[0mregister_measurement\u001b[0m\u001b[1;33m(\u001b[0m\u001b[0mname\u001b[0m\u001b[1;33m:\u001b[0m \u001b[0mstr\u001b[0m\u001b[1;33m)\u001b[0m\u001b[1;33m:\u001b[0m\u001b[1;33m\u001b[0m\u001b[1;33m\u001b[0m\u001b[0m\n",
      "\u001b[1;32mD:\\Dropbox\\WorkCode\\Github\\Confocal-GUI\\src\\Confocal_GUI\\logic\\logic.py\u001b[0m in \u001b[0;36mplot\u001b[1;34m(self, **kwargs)\u001b[0m\n\u001b[0;32m    438\u001b[0m \u001b[1;33m\u001b[0m\u001b[0m\n\u001b[0;32m    439\u001b[0m     \u001b[1;32mdef\u001b[0m \u001b[0mplot\u001b[0m\u001b[1;33m(\u001b[0m\u001b[0mself\u001b[0m\u001b[1;33m,\u001b[0m \u001b[1;33m**\u001b[0m\u001b[0mkwargs\u001b[0m\u001b[1;33m)\u001b[0m\u001b[1;33m:\u001b[0m\u001b[1;33m\u001b[0m\u001b[1;33m\u001b[0m\u001b[0m\n\u001b[1;32m--> 440\u001b[1;33m         \u001b[0mself\u001b[0m\u001b[1;33m.\u001b[0m\u001b[0mload_params\u001b[0m\u001b[1;33m(\u001b[0m\u001b[1;33m**\u001b[0m\u001b[0mkwargs\u001b[0m\u001b[1;33m)\u001b[0m\u001b[1;33m\u001b[0m\u001b[1;33m\u001b[0m\u001b[0m\n\u001b[0m\u001b[0;32m    441\u001b[0m         \u001b[1;32mif\u001b[0m \u001b[1;32mnot\u001b[0m \u001b[0mself\u001b[0m\u001b[1;33m.\u001b[0m\u001b[0mis_plot\u001b[0m\u001b[1;33m:\u001b[0m\u001b[1;33m\u001b[0m\u001b[1;33m\u001b[0m\u001b[0m\n\u001b[0;32m    442\u001b[0m             \u001b[1;32mreturn\u001b[0m \u001b[0mself\u001b[0m\u001b[1;33m\u001b[0m\u001b[1;33m\u001b[0m\u001b[0m\n",
      "\u001b[1;31mTypeError\u001b[0m: load_params() got an unexpected keyword argument 'wavelength'"
     ]
    }
   ],
   "source": [
    "pl_test_dict = {'pl_height':10000, 'pl_width':4, 'pl_center':[5, -5], 'pl_bg':5000}\n",
    "fig, data_figure = live(data_x=np.arange(100), exposure=0.1, wavelength=None, \n",
    "                                           is_finite=True, config_instances={**config_instances, **pl_test_dict})\n",
    "# wavelength defines wavelength for live plot"
   ]
  },
  {
   "cell_type": "code",
   "execution_count": 9,
   "id": "3a835cee",
   "metadata": {},
   "outputs": [
    {
     "data": {
      "application/vnd.jupyter.widget-view+json": {
       "model_id": "8ca13bf50e9c45f4b90780ac54bf920f",
       "version_major": 2,
       "version_minor": 0
      },
      "image/png": "[encoded data removed]",
      "text/html": [
       "\n",
       "            <div style=\"display: inline-block;\">\n",
       "                <div class=\"jupyter-widgets widget-label\" style=\"text-align: center;\">\n",
       "                    Figure\n",
       "                </div>\n",
       "                <img src='data:image/png;base64,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' width=630.0/>\n",
       "            </div>\n",
       "        "
      ],
      "text/plain": [
       "Canvas(capture_scroll=True, footer_visible=False, header_visible=False, resizable=False, toolbar=Toolbar(tooli…"
      ]
     },
     "metadata": {},
     "output_type": "display_data"
    },
    {
     "name": "stdout",
     "output_type": "stream",
     "text": [
      "\n"
     ]
    }
   ],
   "source": [
    "odmr_test_dict = {'odmr_height':10000, 'odmr_width':20e6, 'odmr_center':2.88e9}\n",
    "fig, data_figure = live(data_x=np.arange(100), exposure=0.1, config_instances={**config_instances, **odmr_test_dict})"
   ]
  },
  {
   "cell_type": "code",
   "execution_count": 3,
   "id": "a9b1952a",
   "metadata": {},
   "outputs": [
    {
     "name": "stdout",
     "output_type": "stream",
     "text": [
      "Help on function GUI in module confocal_gui.gui:\n",
      "\n",
      "GUI(config_instances)\n",
      "    The function opens pyqt GUI for PLE, PL, live counts, and pulse control.\n",
      "    Save button will also output data and figure to jupyter notebook.\n",
      "    \n",
      "    Examples\n",
      "    --------\n",
      "    >>> GUI()\n",
      "    \n",
      "    Read range button reads range from area created by mouse left \n",
      "    \n",
      "        Read wavelength button reads wavelength from point created by mouse right in PLE\n",
      "    \n",
      "        Read XY button reads x, y coordinates from point created by mouse right in PL \n",
      "    \n",
      "        Change unit changes PLE unit between 'nm' and 'GHz'\n",
      "    \n",
      "        Move sacnner moves scanner to x, y displayed\n",
      "\n"
     ]
    }
   ],
   "source": [
    "help(GUI)"
   ]
  },
  {
   "cell_type": "code",
   "execution_count": 5,
   "id": "e5c7e727",
   "metadata": {},
   "outputs": [],
   "source": [
    "a=10"
   ]
  },
  {
   "cell_type": "code",
   "execution_count": 7,
   "id": "4ee4d62d",
   "metadata": {},
   "outputs": [
    {
     "ename": "AttributeError",
     "evalue": "'int' object has no attribute 'get'",
     "output_type": "error",
     "traceback": [
      "\u001b[1;31m---------------------------------------------------------------------------\u001b[0m",
      "\u001b[1;31mAttributeError\u001b[0m                            Traceback (most recent call last)",
      "\u001b[1;32m~\\AppData\\Local\\Temp/ipykernel_14716/2072139116.py\u001b[0m in \u001b[0;36m<module>\u001b[1;34m\u001b[0m\n\u001b[1;32m----> 1\u001b[1;33m \u001b[0ma\u001b[0m\u001b[1;33m.\u001b[0m\u001b[0mget\u001b[0m\u001b[1;33m(\u001b[0m\u001b[1;36m0\u001b[0m\u001b[1;33m)\u001b[0m\u001b[1;33m\u001b[0m\u001b[1;33m\u001b[0m\u001b[0m\n\u001b[0m",
      "\u001b[1;31mAttributeError\u001b[0m: 'int' object has no attribute 'get'"
     ]
    }
   ],
   "source": [
    "a.get(0)"
   ]
  },
  {
   "cell_type": "code",
   "execution_count": 22,
   "id": "f69e2843",
   "metadata": {},
   "outputs": [],
   "source": [
    "ple_test_dict = {'ple_height':100000, 'ple_width':0.001, 'ple_center':737.102}\n",
    "pl_test_dict = {'pl_height':10000, 'pl_width':4, 'pl_center':[5, -5], 'pl_bg':5000}\n",
    "GUI(config_instances={**config_instances, **ple_test_dict, **pl_test_dict})"
   ]
  },
  {
   "cell_type": "code",
   "execution_count": null,
   "id": "6e6bda30",
   "metadata": {},
   "outputs": [],
   "source": [
    "ple_test_dict = {'ple_height':100000, 'ple_width':0.001, 'ple_center':737.102}\n",
    "pl_test_dict = {'pl_height':10000, 'pl_width':4, 'pl_center':[5, -5], 'pl_bg':5000}\n",
    "GUI(config_instances={**config_instances, **ple_test_dict, **pl_test_dict})"
   ]
  },
  {
   "cell_type": "code",
   "execution_count": 4,
   "id": "55ecf4de",
   "metadata": {},
   "outputs": [
    {
     "name": "stdout",
     "output_type": "stream",
     "text": [
      "PLE started\n",
      "scanner: (x=0, y=0)\n"
     ]
    }
   ],
   "source": [
    "ple_test_dict = {'ple_height':100000, 'ple_width':0.001, 'ple_center':737.102}\n",
    "GUI_PLE(config_instances={**config_instances, **ple_test_dict})"
   ]
  },
  {
   "cell_type": "code",
   "execution_count": 3,
   "id": "aebf0700",
   "metadata": {},
   "outputs": [],
   "source": [
    "ple_test_dict = {'ple_height':100000, 'ple_width':0.001, 'ple_center':737.102}\n",
    "gui_in_thread({**config_instances, **ple_test_dict}, GUI_PLE)"
   ]
  },
  {
   "cell_type": "code",
   "execution_count": 4,
   "id": "19f0b3ca",
   "metadata": {},
   "outputs": [
    {
     "name": "stdout",
     "output_type": "stream",
     "text": [
      "PLE started\n",
      "scanner: (x=0, y=0)\n"
     ]
    }
   ],
   "source": [
    "ple_test_dict = {'ple_height':100000, 'ple_width':0.001, 'ple_center':737.102}\n",
    "\n",
    "gui_thread = Thread(target=GUI_PLE, kwargs={'config_instances': {**config_instances, **ple_test_dict}})\n",
    "gui_thread.start()"
   ]
  },
  {
   "cell_type": "code",
   "execution_count": 5,
   "id": "e4174dda",
   "metadata": {},
   "outputs": [
    {
     "data": {
      "text/plain": [
       "33.333333333333336"
      ]
     },
     "execution_count": 5,
     "metadata": {},
     "output_type": "execute_result"
    },
    {
     "name": "stdout",
     "output_type": "stream",
     "text": [
      "Plot stopped\n",
      "curve fitted, center = 737.102\n",
      "FWHM = 0.00101\n",
      "in GHz = 0.55958\n",
      "height = 9958.58873\n",
      "bg = -20.1629\n"
     ]
    }
   ],
   "source": [
    "100/3"
   ]
  },
  {
   "cell_type": "code",
   "execution_count": 3,
   "id": "e9341be2",
   "metadata": {},
   "outputs": [
    {
     "name": "stdout",
     "output_type": "stream",
     "text": [
      "PLE started\n",
      "scanner: (x=0, y=0)\n",
      "Plot stopped\n",
      "PLE started\n",
      "scanner: (x=0, y=0)\n",
      "Plot stopped\n"
     ]
    }
   ],
   "source": [
    "from threading import Thread\n",
    "ple_test_dict = {'ple_height':100000, 'ple_width':0.001, 'ple_center':737.102}\n",
    "\n",
    "gui_thread = Thread(target=GUI_PLE, kwargs={'config_instances': {**config_instances, **ple_test_dict}})\n",
    "gui_thread.start()"
   ]
  },
  {
   "cell_type": "code",
   "execution_count": null,
   "id": "f9ea3099",
   "metadata": {},
   "outputs": [],
   "source": []
  },
  {
   "cell_type": "code",
   "execution_count": 9,
   "id": "912565f1",
   "metadata": {
    "scrolled": true
   },
   "outputs": [
    {
     "name": "stdout",
     "output_type": "stream",
     "text": [
      "PLE started\n",
      "scanner: (x=-10, y=-18)\n",
      "Plot stopped\n",
      "PLE started\n",
      "scanner: (x=-10, y=-18)\n",
      "Plot stopped\n",
      "PLE range updated\n",
      "PLE started\n",
      "scanner: (x=-10, y=-18)\n",
      "Plot stopped\n",
      "curve fitted, center = 737.1\n",
      "FWHM = 0.001\n",
      "in GHz = 0.55368\n",
      "height = 9952.03954\n",
      "bg = -1.33853\n"
     ]
    }
   ],
   "source": [
    "pl_test_dict = {'pl_height':10000, 'pl_width':4, 'pl_center':[5, -5], 'pl_bg':5000}\n",
    "ple_test_dict = {'ple_height':100000, 'ple_width':0.001, 'ple_center':737.10}\n",
    "# defines pl_test_dict and ple_test_dict for testing\n",
    "GUI(config_instances={**config_instances, **pl_test_dict, **ple_test_dict, **{'display_scale':1}})"
   ]
  },
  {
   "cell_type": "code",
   "execution_count": 10,
   "id": "87ef0bfb",
   "metadata": {},
   "outputs": [
    {
     "data": {
      "text/plain": [
       "Text(0, 0.5, 'y')"
      ]
     },
     "execution_count": 10,
     "metadata": {},
     "output_type": "execute_result"
    },
    {
     "data": {
      "image/png": "[encoded data removed]",
      "text/plain": [
       "<Figure size 525x393.75 with 1 Axes>"
      ]
     },
     "metadata": {},
     "output_type": "display_data"
    }
   ],
   "source": [
    "change_to_inline(params_type = 'inline', scale=1) \n",
    "# go back to inline backend otherwise display error\n",
    "plt.close()\n",
    "plt.tight_layout()\n",
    "plt.plot(np.linspace(0, 10, 100), color='grey')\n",
    "plt.xlabel('x')\n",
    "plt.ylabel('y')"
   ]
  },
  {
   "cell_type": "code",
   "execution_count": 12,
   "id": "d0cd76aa",
   "metadata": {},
   "outputs": [],
   "source": [
    "import pyvisa\n",
    "rm = pyvisa.ResourceManager()"
   ]
  },
  {
   "cell_type": "code",
   "execution_count": 14,
   "id": "0b6a21b1-3884-46fe-bdf2-cd117721ed79",
   "metadata": {},
   "outputs": [
    {
     "data": {
      "text/plain": [
       "('USB0::0x1AB1::0x099C::DSG8M267M00006::INSTR', 'ASRL1::INSTR', 'ASRL3::INSTR')"
      ]
     },
     "execution_count": 14,
     "metadata": {},
     "output_type": "execute_result"
    }
   ],
   "source": [
    "rm.list_resources()"
   ]
  },
  {
   "cell_type": "code",
   "execution_count": 17,
   "id": "48b54893-0d69-493e-b7ad-62a1a4636db4",
   "metadata": {},
   "outputs": [],
   "source": [
    "inst = rm.open_resource('USB0::0x1AB1::0x099C::DSG8M267M00006::INSTR')"
   ]
  },
  {
   "cell_type": "code",
   "execution_count": 18,
   "id": "72c3ee5e-a42b-470e-bfbf-989513fe38c5",
   "metadata": {},
   "outputs": [
    {
     "data": {
      "text/plain": [
       "'Rigol Technologies,DSG836,DSG8M267M00006,00.01.07\\n'"
      ]
     },
     "execution_count": 18,
     "metadata": {},
     "output_type": "execute_result"
    }
   ],
   "source": [
    "inst.query(\"*IDN?\")"
   ]
  },
  {
   "cell_type": "code",
   "execution_count": 21,
   "id": "7e26669d-2abc-49ca-9194-3af0a6add864",
   "metadata": {},
   "outputs": [],
   "source": [
    "from confocal_gui.device import DSG836"
   ]
  },
  {
   "cell_type": "code",
   "execution_count": 28,
   "id": "829a7580-b507-4a3a-8b71-893106c854ec",
   "metadata": {},
   "outputs": [
    {
     "data": {
      "text/plain": [
       "'-110.00\\n'"
      ]
     },
     "execution_count": 28,
     "metadata": {},
     "output_type": "execute_result"
    }
   ],
   "source": [
    "handle.query('SOURce:Power?')"
   ]
  },
  {
   "cell_type": "code",
   "execution_count": 11,
   "id": "81dfc88c-f4aa-41b6-9cc8-ea93132a2e24",
   "metadata": {},
   "outputs": [],
   "source": [
    "import nidaqmx, time"
   ]
  },
  {
   "cell_type": "code",
   "execution_count": 61,
   "id": "f25bc2d0-daea-41c2-835d-e97e2d3e1ada",
   "metadata": {},
   "outputs": [
    {
     "name": "stdout",
     "output_type": "stream",
     "text": [
      "[0.030208686449488688, 0.030368590330311716, 0.030208686449488688, 0.030368590330311716, 0.030368590330311716, 0.030208686449488688, 0.030208686449488688, 0.030208686449488688, 0.030208686449488688, 0.030208686449488688]\n",
      "[0.030368590330311716, 0.030208686449488688, 0.030368590330311716, 0.030208686449488688, 0.030368590330311716, 0.030368590330311716, 0.030368590330311716, 0.030368590330311716, 0.030208686449488688, 0.030048782568745883]\n",
      "[0.030368590330311716, 0.030368590330311716, 0.030368590330311716, 0.030368590330311716, 0.030368590330311716, 0.030208686449488688, 0.030368590330311716, 0.030368590330311716, 0.030048782568745883, 0.030208686449488688]\n",
      "[0.030208686449488688, 0.030208686449488688, 0.030208686449488688, 0.030528494211214934, 0.030528494211214934, 0.030528494211214934, 0.030368590330311716, 0.030368590330311716, 0.030368590330311716, 0.030208686449488688]\n",
      "[0.030208686449488688, 0.030368590330311716, 0.030368590330311716, 0.030208686449488688, 0.030368590330311716, 0.030368590330311716, 0.030368590330311716, 0.030368590330311716, 0.030208686449488688, 0.030368590330311716]\n",
      "[0.030368590330311716, 0.030368590330311716, 0.030208686449488688, 0.030208686449488688, 0.030368590330311716, 0.030208686449488688, 0.030368590330311716, 0.030208686449488688, 0.030208686449488688, 0.030208686449488688]\n",
      "[0.030208686449488688, 0.030368590330311716, 0.030208686449488688, 0.030208686449488688, 0.030208686449488688, 0.030048782568745883, 0.030368590330311716, 0.030048782568745883, 0.030208686449488688, 0.030368590330311716]\n",
      "[0.0001467583063976068, 0.0004665660371258118, 0.0001467583063976068, 0.0003066621717193653, 0.0001467583063976068, 0.0001467583063976068, -1.314555883943989e-05, 0.0003066621717193653, -1.314555883943989e-05, -1.314555883943989e-05]\n",
      "[0.0001467583063976068, -1.314555883943989e-05, 0.0003066621717193653, -1.314555883943989e-05, -1.314555883943989e-05, -1.314555883943989e-05, -1.314555883943989e-05, 0.0001467583063976068, -1.314555883943989e-05, 0.0001467583063976068]\n",
      "[0.0001467583063976068, 0.0003066621717193653, 0.0001467583063976068, 0.02557147394061331, 0.030208686449488688, 0.030048782568745883, 0.030368590330311716, 0.030208686449488688, 0.030208686449488688, 0.030208686449488688]\n",
      "[0.030368590330311716, 0.030368590330311716, 0.030528494211214934, 0.030368590330311716, 0.030368590330311716, 0.030208686449488688, 0.030368590330311716, 0.030208686449488688, 0.030208686449488688, 0.030208686449488688]\n",
      "[0.030208686449488688, 0.030368590330311716, 0.030368590330311716, 0.030208686449488688, 0.030368590330311716, 0.030368590330311716, 0.030208686449488688, 0.030368590330311716, 0.030368590330311716, 0.030368590330311716]\n",
      "[0.030048782568745883, 0.030368590330311716, 0.030208686449488688, 0.030208686449488688, 0.030048782568745883, 0.030368590330311716, 0.030368590330311716, 0.030048782568745883, 0.030208686449488688, 0.030368590330311716]\n",
      "[0.030208686449488688, 0.030368590330311716, 0.030368590330311716, 0.030048782568745883, 0.030208686449488688, 0.030208686449488688, 0.030208686449488688, 0.030208686449488688, 0.030208686449488688, 0.030208686449488688]\n",
      "[0.030368590330311716, 0.030368590330311716, 0.030208686449488688, 0.030208686449488688, 0.02988887868808332, 0.030208686449488688, 0.030368590330311716, 0.030048782568745883, 0.030368590330311716, 0.030208686449488688]\n",
      "[0.030048782568745883, 0.030368590330311716, 0.030208686449488688, 0.030208686449488688, 0.030048782568745883, 0.030368590330311716, 0.030368590330311716, 0.030208686449488688, 0.030208686449488688, 0.030048782568745883]\n",
      "[0.030208686449488688, 0.030208686449488688, 0.030208686449488688, 0.030208686449488688, 0.030048782568745883, 0.030368590330311716, 0.030368590330311716, 0.030368590330311716, 0.030208686449488688, 0.030208686449488688]\n"
     ]
    },
    {
     "ename": "KeyboardInterrupt",
     "evalue": "",
     "output_type": "error",
     "traceback": [
      "\u001b[1;31m---------------------------------------------------------------------------\u001b[0m",
      "\u001b[1;31mKeyboardInterrupt\u001b[0m                         Traceback (most recent call last)",
      "Cell \u001b[1;32mIn[61], line 7\u001b[0m\n\u001b[0;32m      5\u001b[0m time\u001b[38;5;241m.\u001b[39msleep(\u001b[38;5;241m0.1\u001b[39m)\n\u001b[0;32m      6\u001b[0m t0 \u001b[38;5;241m=\u001b[39m time\u001b[38;5;241m.\u001b[39mtime()\n\u001b[1;32m----> 7\u001b[0m data \u001b[38;5;241m=\u001b[39m \u001b[43mtask\u001b[49m\u001b[38;5;241;43m.\u001b[39;49m\u001b[43mread\u001b[49m\u001b[43m(\u001b[49m\u001b[43mnidaqmx\u001b[49m\u001b[38;5;241;43m.\u001b[39;49m\u001b[43mconstants\u001b[49m\u001b[38;5;241;43m.\u001b[39;49m\u001b[43mREAD_ALL_AVAILABLE\u001b[49m\u001b[43m)\u001b[49m\n\u001b[0;32m      8\u001b[0m \u001b[38;5;66;03m#print(time.time()-t0)\u001b[39;00m\n\u001b[0;32m      9\u001b[0m \u001b[38;5;28mprint\u001b[39m(data)\n",
      "File \u001b[1;32m~\\AppData\\Local\\Packages\\PythonSoftwareFoundation.Python.3.13_qbz5n2kfra8p0\\LocalCache\\local-packages\\Python313\\site-packages\\nidaqmx\\task\\_task.py:615\u001b[0m, in \u001b[0;36mTask.read\u001b[1;34m(self, number_of_samples_per_channel, timeout)\u001b[0m\n\u001b[0;32m    613\u001b[0m     \u001b[38;5;28;01melse\u001b[39;00m:\n\u001b[0;32m    614\u001b[0m         data: numpy\u001b[38;5;241m.\u001b[39mtyping\u001b[38;5;241m.\u001b[39mNDArray \u001b[38;5;241m=\u001b[39m numpy\u001b[38;5;241m.\u001b[39mzeros(array_shape, dtype\u001b[38;5;241m=\u001b[39mnumpy\u001b[38;5;241m.\u001b[39mfloat64)\n\u001b[1;32m--> 615\u001b[0m         _, samples_read \u001b[38;5;241m=\u001b[39m \u001b[38;5;28;43mself\u001b[39;49m\u001b[38;5;241;43m.\u001b[39;49m\u001b[43m_interpreter\u001b[49m\u001b[38;5;241;43m.\u001b[39;49m\u001b[43mread_analog_f64\u001b[49m\u001b[43m(\u001b[49m\n\u001b[0;32m    616\u001b[0m \u001b[43m            \u001b[49m\u001b[38;5;28;43mself\u001b[39;49m\u001b[38;5;241;43m.\u001b[39;49m\u001b[43m_handle\u001b[49m\u001b[43m,\u001b[49m\u001b[43m \u001b[49m\u001b[43mnumber_of_samples_per_channel\u001b[49m\u001b[43m,\u001b[49m\u001b[43m \u001b[49m\u001b[43mtimeout\u001b[49m\u001b[43m,\u001b[49m\n\u001b[0;32m    617\u001b[0m \u001b[43m            \u001b[49m\u001b[43mFillMode\u001b[49m\u001b[38;5;241;43m.\u001b[39;49m\u001b[43mGROUP_BY_CHANNEL\u001b[49m\u001b[38;5;241;43m.\u001b[39;49m\u001b[43mvalue\u001b[49m\u001b[43m,\u001b[49m\u001b[43m \u001b[49m\u001b[43mdata\u001b[49m\u001b[43m)\u001b[49m\n\u001b[0;32m    619\u001b[0m \u001b[38;5;28;01melif\u001b[39;00m (read_chan_type \u001b[38;5;241m==\u001b[39m ChannelType\u001b[38;5;241m.\u001b[39mDIGITAL_INPUT \u001b[38;5;129;01mor\u001b[39;00m\n\u001b[0;32m    620\u001b[0m         read_chan_type \u001b[38;5;241m==\u001b[39m ChannelType\u001b[38;5;241m.\u001b[39mDIGITAL_OUTPUT):\n\u001b[0;32m    621\u001b[0m     \u001b[38;5;28;01mif\u001b[39;00m \u001b[38;5;28mself\u001b[39m\u001b[38;5;241m.\u001b[39min_stream\u001b[38;5;241m.\u001b[39mdi_num_booleans_per_chan \u001b[38;5;241m==\u001b[39m \u001b[38;5;241m1\u001b[39m:\n",
      "File \u001b[1;32m~\\AppData\\Local\\Packages\\PythonSoftwareFoundation.Python.3.13_qbz5n2kfra8p0\\LocalCache\\local-packages\\Python313\\site-packages\\nidaqmx\\_library_interpreter.py:4163\u001b[0m, in \u001b[0;36mLibraryInterpreter.read_analog_f64\u001b[1;34m(self, task, num_samps_per_chan, timeout, fill_mode, read_array)\u001b[0m\n\u001b[0;32m   4155\u001b[0m         \u001b[38;5;28;01mif\u001b[39;00m cfunc\u001b[38;5;241m.\u001b[39margtypes \u001b[38;5;129;01mis\u001b[39;00m \u001b[38;5;28;01mNone\u001b[39;00m:\n\u001b[0;32m   4156\u001b[0m             cfunc\u001b[38;5;241m.\u001b[39margtypes \u001b[38;5;241m=\u001b[39m [\n\u001b[0;32m   4157\u001b[0m                 lib_importer\u001b[38;5;241m.\u001b[39mtask_handle, ctypes\u001b[38;5;241m.\u001b[39mc_int,\n\u001b[0;32m   4158\u001b[0m                 ctypes\u001b[38;5;241m.\u001b[39mc_double, ctypes\u001b[38;5;241m.\u001b[39mc_int,\n\u001b[0;32m   4159\u001b[0m                 wrapped_ndpointer(dtype\u001b[38;5;241m=\u001b[39mnumpy\u001b[38;5;241m.\u001b[39mfloat64,\n\u001b[0;32m   4160\u001b[0m                 flags\u001b[38;5;241m=\u001b[39m(\u001b[38;5;124m'\u001b[39m\u001b[38;5;124mC\u001b[39m\u001b[38;5;124m'\u001b[39m,\u001b[38;5;124m'\u001b[39m\u001b[38;5;124mW\u001b[39m\u001b[38;5;124m'\u001b[39m)), ctypes\u001b[38;5;241m.\u001b[39mc_uint,\n\u001b[0;32m   4161\u001b[0m                 ctypes\u001b[38;5;241m.\u001b[39mPOINTER(ctypes\u001b[38;5;241m.\u001b[39mc_int), ctypes\u001b[38;5;241m.\u001b[39mPOINTER(c_bool32)]\n\u001b[1;32m-> 4163\u001b[0m error_code \u001b[38;5;241m=\u001b[39m \u001b[43mcfunc\u001b[49m\u001b[43m(\u001b[49m\n\u001b[0;32m   4164\u001b[0m \u001b[43m    \u001b[49m\u001b[43mtask\u001b[49m\u001b[43m,\u001b[49m\u001b[43m \u001b[49m\u001b[43mnum_samps_per_chan\u001b[49m\u001b[43m,\u001b[49m\u001b[43m \u001b[49m\u001b[43mtimeout\u001b[49m\u001b[43m,\u001b[49m\u001b[43m \u001b[49m\u001b[43mfill_mode\u001b[49m\u001b[43m,\u001b[49m\u001b[43m \u001b[49m\u001b[43mread_array\u001b[49m\u001b[43m,\u001b[49m\n\u001b[0;32m   4165\u001b[0m \u001b[43m    \u001b[49m\u001b[43mread_array\u001b[49m\u001b[38;5;241;43m.\u001b[39;49m\u001b[43msize\u001b[49m\u001b[43m,\u001b[49m\u001b[43m \u001b[49m\u001b[43mctypes\u001b[49m\u001b[38;5;241;43m.\u001b[39;49m\u001b[43mbyref\u001b[49m\u001b[43m(\u001b[49m\u001b[43msamps_per_chan_read\u001b[49m\u001b[43m)\u001b[49m\u001b[43m,\u001b[49m\u001b[43m \u001b[49m\u001b[38;5;28;43;01mNone\u001b[39;49;00m\u001b[43m)\u001b[49m\n\u001b[0;32m   4166\u001b[0m \u001b[38;5;28mself\u001b[39m\u001b[38;5;241m.\u001b[39mcheck_for_error(error_code, samps_per_chan_read\u001b[38;5;241m=\u001b[39msamps_per_chan_read\u001b[38;5;241m.\u001b[39mvalue)\n\u001b[0;32m   4167\u001b[0m \u001b[38;5;28;01mreturn\u001b[39;00m read_array, samps_per_chan_read\u001b[38;5;241m.\u001b[39mvalue\n",
      "\u001b[1;31mKeyboardInterrupt\u001b[0m: "
     ]
    }
   ],
   "source": [
    "with nidaqmx.Task() as task:\n",
    "    task.ai_channels.add_ai_voltage_chan(\"Dev1/ai0\")\n",
    "    task.timing.cfg_samp_clk_timing(10.0, sample_mode=nidaqmx.constants.AcquisitionType.FINITE, samps_per_chan=10)\n",
    "    while 1:\n",
    "        time.sleep(0.1)\n",
    "        t0 = time.time()\n",
    "        data = task.read(nidaqmx.constants.READ_ALL_AVAILABLE)\n",
    "        #print(time.time()-t0)\n",
    "        print(data)\n",
    "        #print(data, end='\\r')"
   ]
  },
  {
   "cell_type": "code",
   "execution_count": 12,
   "id": "f2b500bf-00a7-43a0-bbeb-ee9ad9302ff4",
   "metadata": {},
   "outputs": [
    {
     "name": "stdout",
     "output_type": "stream",
     "text": [
      "1.0110930000664666\n",
      "0.9997023999458179\n"
     ]
    },
    {
     "ename": "KeyboardInterrupt",
     "evalue": "",
     "output_type": "error",
     "traceback": [
      "\u001b[1;31m---------------------------------------------------------------------------\u001b[0m",
      "\u001b[1;31mKeyboardInterrupt\u001b[0m                         Traceback (most recent call last)",
      "Cell \u001b[1;32mIn[12], line 13\u001b[0m\n\u001b[0;32m     11\u001b[0m time\u001b[38;5;241m.\u001b[39msleep(\u001b[38;5;241m0.1\u001b[39m)\n\u001b[0;32m     12\u001b[0m t0 \u001b[38;5;241m=\u001b[39m time\u001b[38;5;241m.\u001b[39mtime()\n\u001b[1;32m---> 13\u001b[0m data \u001b[38;5;241m=\u001b[39m \u001b[43mtask\u001b[49m\u001b[38;5;241;43m.\u001b[39;49m\u001b[43mread\u001b[49m\u001b[43m(\u001b[49m\u001b[43mnidaqmx\u001b[49m\u001b[38;5;241;43m.\u001b[39;49m\u001b[43mconstants\u001b[49m\u001b[38;5;241;43m.\u001b[39;49m\u001b[43mREAD_ALL_AVAILABLE\u001b[49m\u001b[43m)\u001b[49m\n\u001b[0;32m     14\u001b[0m \u001b[38;5;28mprint\u001b[39m(time\u001b[38;5;241m.\u001b[39mperf_counter()\u001b[38;5;241m-\u001b[39mt1)\n\u001b[0;32m     15\u001b[0m \u001b[38;5;66;03m#print(time.time()-t00)\u001b[39;00m\n\u001b[0;32m     16\u001b[0m \u001b[38;5;66;03m#print(data)\u001b[39;00m\n\u001b[0;32m     17\u001b[0m \u001b[38;5;66;03m#print(data, end='\\r')\u001b[39;00m\n",
      "File \u001b[1;32m~\\AppData\\Local\\Packages\\PythonSoftwareFoundation.Python.3.13_qbz5n2kfra8p0\\LocalCache\\local-packages\\Python313\\site-packages\\nidaqmx\\task\\_task.py:615\u001b[0m, in \u001b[0;36mTask.read\u001b[1;34m(self, number_of_samples_per_channel, timeout)\u001b[0m\n\u001b[0;32m    613\u001b[0m     \u001b[38;5;28;01melse\u001b[39;00m:\n\u001b[0;32m    614\u001b[0m         data: numpy\u001b[38;5;241m.\u001b[39mtyping\u001b[38;5;241m.\u001b[39mNDArray \u001b[38;5;241m=\u001b[39m numpy\u001b[38;5;241m.\u001b[39mzeros(array_shape, dtype\u001b[38;5;241m=\u001b[39mnumpy\u001b[38;5;241m.\u001b[39mfloat64)\n\u001b[1;32m--> 615\u001b[0m         _, samples_read \u001b[38;5;241m=\u001b[39m \u001b[38;5;28;43mself\u001b[39;49m\u001b[38;5;241;43m.\u001b[39;49m\u001b[43m_interpreter\u001b[49m\u001b[38;5;241;43m.\u001b[39;49m\u001b[43mread_analog_f64\u001b[49m\u001b[43m(\u001b[49m\n\u001b[0;32m    616\u001b[0m \u001b[43m            \u001b[49m\u001b[38;5;28;43mself\u001b[39;49m\u001b[38;5;241;43m.\u001b[39;49m\u001b[43m_handle\u001b[49m\u001b[43m,\u001b[49m\u001b[43m \u001b[49m\u001b[43mnumber_of_samples_per_channel\u001b[49m\u001b[43m,\u001b[49m\u001b[43m \u001b[49m\u001b[43mtimeout\u001b[49m\u001b[43m,\u001b[49m\n\u001b[0;32m    617\u001b[0m \u001b[43m            \u001b[49m\u001b[43mFillMode\u001b[49m\u001b[38;5;241;43m.\u001b[39;49m\u001b[43mGROUP_BY_CHANNEL\u001b[49m\u001b[38;5;241;43m.\u001b[39;49m\u001b[43mvalue\u001b[49m\u001b[43m,\u001b[49m\u001b[43m \u001b[49m\u001b[43mdata\u001b[49m\u001b[43m)\u001b[49m\n\u001b[0;32m    619\u001b[0m \u001b[38;5;28;01melif\u001b[39;00m (read_chan_type \u001b[38;5;241m==\u001b[39m ChannelType\u001b[38;5;241m.\u001b[39mDIGITAL_INPUT \u001b[38;5;129;01mor\u001b[39;00m\n\u001b[0;32m    620\u001b[0m         read_chan_type \u001b[38;5;241m==\u001b[39m ChannelType\u001b[38;5;241m.\u001b[39mDIGITAL_OUTPUT):\n\u001b[0;32m    621\u001b[0m     \u001b[38;5;28;01mif\u001b[39;00m \u001b[38;5;28mself\u001b[39m\u001b[38;5;241m.\u001b[39min_stream\u001b[38;5;241m.\u001b[39mdi_num_booleans_per_chan \u001b[38;5;241m==\u001b[39m \u001b[38;5;241m1\u001b[39m:\n",
      "File \u001b[1;32m~\\AppData\\Local\\Packages\\PythonSoftwareFoundation.Python.3.13_qbz5n2kfra8p0\\LocalCache\\local-packages\\Python313\\site-packages\\nidaqmx\\_library_interpreter.py:4163\u001b[0m, in \u001b[0;36mLibraryInterpreter.read_analog_f64\u001b[1;34m(self, task, num_samps_per_chan, timeout, fill_mode, read_array)\u001b[0m\n\u001b[0;32m   4155\u001b[0m         \u001b[38;5;28;01mif\u001b[39;00m cfunc\u001b[38;5;241m.\u001b[39margtypes \u001b[38;5;129;01mis\u001b[39;00m \u001b[38;5;28;01mNone\u001b[39;00m:\n\u001b[0;32m   4156\u001b[0m             cfunc\u001b[38;5;241m.\u001b[39margtypes \u001b[38;5;241m=\u001b[39m [\n\u001b[0;32m   4157\u001b[0m                 lib_importer\u001b[38;5;241m.\u001b[39mtask_handle, ctypes\u001b[38;5;241m.\u001b[39mc_int,\n\u001b[0;32m   4158\u001b[0m                 ctypes\u001b[38;5;241m.\u001b[39mc_double, ctypes\u001b[38;5;241m.\u001b[39mc_int,\n\u001b[0;32m   4159\u001b[0m                 wrapped_ndpointer(dtype\u001b[38;5;241m=\u001b[39mnumpy\u001b[38;5;241m.\u001b[39mfloat64,\n\u001b[0;32m   4160\u001b[0m                 flags\u001b[38;5;241m=\u001b[39m(\u001b[38;5;124m'\u001b[39m\u001b[38;5;124mC\u001b[39m\u001b[38;5;124m'\u001b[39m,\u001b[38;5;124m'\u001b[39m\u001b[38;5;124mW\u001b[39m\u001b[38;5;124m'\u001b[39m)), ctypes\u001b[38;5;241m.\u001b[39mc_uint,\n\u001b[0;32m   4161\u001b[0m                 ctypes\u001b[38;5;241m.\u001b[39mPOINTER(ctypes\u001b[38;5;241m.\u001b[39mc_int), ctypes\u001b[38;5;241m.\u001b[39mPOINTER(c_bool32)]\n\u001b[1;32m-> 4163\u001b[0m error_code \u001b[38;5;241m=\u001b[39m \u001b[43mcfunc\u001b[49m\u001b[43m(\u001b[49m\n\u001b[0;32m   4164\u001b[0m \u001b[43m    \u001b[49m\u001b[43mtask\u001b[49m\u001b[43m,\u001b[49m\u001b[43m \u001b[49m\u001b[43mnum_samps_per_chan\u001b[49m\u001b[43m,\u001b[49m\u001b[43m \u001b[49m\u001b[43mtimeout\u001b[49m\u001b[43m,\u001b[49m\u001b[43m \u001b[49m\u001b[43mfill_mode\u001b[49m\u001b[43m,\u001b[49m\u001b[43m \u001b[49m\u001b[43mread_array\u001b[49m\u001b[43m,\u001b[49m\n\u001b[0;32m   4165\u001b[0m \u001b[43m    \u001b[49m\u001b[43mread_array\u001b[49m\u001b[38;5;241;43m.\u001b[39;49m\u001b[43msize\u001b[49m\u001b[43m,\u001b[49m\u001b[43m \u001b[49m\u001b[43mctypes\u001b[49m\u001b[38;5;241;43m.\u001b[39;49m\u001b[43mbyref\u001b[49m\u001b[43m(\u001b[49m\u001b[43msamps_per_chan_read\u001b[49m\u001b[43m)\u001b[49m\u001b[43m,\u001b[49m\u001b[43m \u001b[49m\u001b[38;5;28;43;01mNone\u001b[39;49;00m\u001b[43m)\u001b[49m\n\u001b[0;32m   4166\u001b[0m \u001b[38;5;28mself\u001b[39m\u001b[38;5;241m.\u001b[39mcheck_for_error(error_code, samps_per_chan_read\u001b[38;5;241m=\u001b[39msamps_per_chan_read\u001b[38;5;241m.\u001b[39mvalue)\n\u001b[0;32m   4167\u001b[0m \u001b[38;5;28;01mreturn\u001b[39;00m read_array, samps_per_chan_read\u001b[38;5;241m.\u001b[39mvalue\n",
      "\u001b[1;31mKeyboardInterrupt\u001b[0m: "
     ]
    }
   ],
   "source": [
    "task =  nidaqmx.Task()\n",
    "task.ai_channels.add_ai_voltage_chan(\"Dev1/ai0\")\n",
    "task.timing.cfg_samp_clk_timing(1000.0, sample_mode=nidaqmx.constants.AcquisitionType.FINITE, samps_per_chan=1000)\n",
    "\n",
    "\n",
    "while(1):\n",
    "    t00 = time.time()\n",
    "    task.stop()\n",
    "    task.start()\n",
    "    t1 = time.perf_counter()\n",
    "    time.sleep(0.1)\n",
    "    t0 = time.time()\n",
    "    data = task.read(nidaqmx.constants.READ_ALL_AVAILABLE)\n",
    "    print(time.perf_counter()-t1)\n",
    "    #print(time.time()-t00)\n",
    "    #print(data)\n",
    "    #print(data, end='\\r')"
   ]
  },
  {
   "cell_type": "code",
   "execution_count": 13,
   "id": "824da2d1-5dd8-41ce-af68-d87069e56cd4",
   "metadata": {},
   "outputs": [],
   "source": [
    "task.stop()"
   ]
  },
  {
   "cell_type": "code",
   "execution_count": 14,
   "id": "1a0bccde-60f3-4a3b-bd1b-b7162a6a7566",
   "metadata": {},
   "outputs": [],
   "source": [
    "task.close()"
   ]
  },
  {
   "cell_type": "code",
   "execution_count": 23,
   "id": "46171d22-f042-447e-b2ae-b1b0cb7b1b99",
   "metadata": {},
   "outputs": [
    {
     "data": {
      "text/plain": [
       "False"
      ]
     },
     "execution_count": 23,
     "metadata": {},
     "output_type": "execute_result"
    }
   ],
   "source": [
    "task is None"
   ]
  },
  {
   "cell_type": "code",
   "execution_count": 24,
   "id": "1b422a07-05e5-47e4-800d-128e9cd1e7d5",
   "metadata": {},
   "outputs": [
    {
     "ename": "DaqError",
     "evalue": "Task specified is invalid or does not exist.\nStatus Code: -200088",
     "output_type": "error",
     "traceback": [
      "\u001b[1;31m---------------------------------------------------------------------------\u001b[0m",
      "\u001b[1;31mDaqError\u001b[0m                                  Traceback (most recent call last)",
      "Cell \u001b[1;32mIn[24], line 1\u001b[0m\n\u001b[1;32m----> 1\u001b[0m \u001b[43mtask\u001b[49m\u001b[38;5;241;43m.\u001b[39;49m\u001b[43mis_task_done\u001b[49m\u001b[43m(\u001b[49m\u001b[43m)\u001b[49m\n",
      "File \u001b[1;32m~\\AppData\\Local\\Packages\\PythonSoftwareFoundation.Python.3.13_qbz5n2kfra8p0\\LocalCache\\local-packages\\Python313\\site-packages\\nidaqmx\\task\\_task.py:390\u001b[0m, in \u001b[0;36mTask.is_task_done\u001b[1;34m(self)\u001b[0m\n\u001b[0;32m    379\u001b[0m \u001b[38;5;28;01mdef\u001b[39;00m \u001b[38;5;21mis_task_done\u001b[39m(\u001b[38;5;28mself\u001b[39m):\n\u001b[0;32m    380\u001b[0m \u001b[38;5;250m    \u001b[39m\u001b[38;5;124;03m\"\"\"\u001b[39;00m\n\u001b[0;32m    381\u001b[0m \u001b[38;5;124;03m    Queries the status of the task and indicates if it completed\u001b[39;00m\n\u001b[0;32m    382\u001b[0m \u001b[38;5;124;03m    execution. Use this function to ensure that the specified\u001b[39;00m\n\u001b[1;32m   (...)\u001b[0m\n\u001b[0;32m    388\u001b[0m \u001b[38;5;124;03m        Indicates if the measurement or generation completed.\u001b[39;00m\n\u001b[0;32m    389\u001b[0m \u001b[38;5;124;03m    \"\"\"\u001b[39;00m\n\u001b[1;32m--> 390\u001b[0m     is_task_done \u001b[38;5;241m=\u001b[39m \u001b[38;5;28;43mself\u001b[39;49m\u001b[38;5;241;43m.\u001b[39;49m\u001b[43m_interpreter\u001b[49m\u001b[38;5;241;43m.\u001b[39;49m\u001b[43mis_task_done\u001b[49m\u001b[43m(\u001b[49m\u001b[38;5;28;43mself\u001b[39;49m\u001b[38;5;241;43m.\u001b[39;49m\u001b[43m_handle\u001b[49m\u001b[43m)\u001b[49m\n\u001b[0;32m    392\u001b[0m     \u001b[38;5;28;01mreturn\u001b[39;00m is_task_done\n",
      "File \u001b[1;32m~\\AppData\\Local\\Packages\\PythonSoftwareFoundation.Python.3.13_qbz5n2kfra8p0\\LocalCache\\local-packages\\Python313\\site-packages\\nidaqmx\\_library_interpreter.py:4063\u001b[0m, in \u001b[0;36mLibraryInterpreter.is_task_done\u001b[1;34m(self, task)\u001b[0m\n\u001b[0;32m   4058\u001b[0m             cfunc\u001b[38;5;241m.\u001b[39margtypes \u001b[38;5;241m=\u001b[39m [\n\u001b[0;32m   4059\u001b[0m                 lib_importer\u001b[38;5;241m.\u001b[39mtask_handle, ctypes\u001b[38;5;241m.\u001b[39mPOINTER(c_bool32)]\n\u001b[0;32m   4061\u001b[0m error_code \u001b[38;5;241m=\u001b[39m cfunc(\n\u001b[0;32m   4062\u001b[0m     task, ctypes\u001b[38;5;241m.\u001b[39mbyref(is_task_done))\n\u001b[1;32m-> 4063\u001b[0m \u001b[38;5;28;43mself\u001b[39;49m\u001b[38;5;241;43m.\u001b[39;49m\u001b[43mcheck_for_error\u001b[49m\u001b[43m(\u001b[49m\u001b[43merror_code\u001b[49m\u001b[43m)\u001b[49m\n\u001b[0;32m   4064\u001b[0m \u001b[38;5;28;01mreturn\u001b[39;00m is_task_done\u001b[38;5;241m.\u001b[39mvalue\n",
      "File \u001b[1;32m~\\AppData\\Local\\Packages\\PythonSoftwareFoundation.Python.3.13_qbz5n2kfra8p0\\LocalCache\\local-packages\\Python313\\site-packages\\nidaqmx\\_library_interpreter.py:6412\u001b[0m, in \u001b[0;36mLibraryInterpreter.check_for_error\u001b[1;34m(self, error_code, samps_per_chan_written, samps_per_chan_read)\u001b[0m\n\u001b[0;32m   6410\u001b[0m         \u001b[38;5;28;01mraise\u001b[39;00m DaqWriteError(extended_error_info, error_code, samps_per_chan_written)\n\u001b[0;32m   6411\u001b[0m     \u001b[38;5;28;01melse\u001b[39;00m:\n\u001b[1;32m-> 6412\u001b[0m         \u001b[38;5;28;01mraise\u001b[39;00m DaqError(extended_error_info, error_code)\n\u001b[0;32m   6414\u001b[0m \u001b[38;5;28;01melif\u001b[39;00m error_code \u001b[38;5;241m>\u001b[39m \u001b[38;5;241m0\u001b[39m:\n\u001b[0;32m   6415\u001b[0m     error_string \u001b[38;5;241m=\u001b[39m \u001b[38;5;28mself\u001b[39m\u001b[38;5;241m.\u001b[39mget_error_string(error_code)\n",
      "\u001b[1;31mDaqError\u001b[0m: Task specified is invalid or does not exist.\nStatus Code: -200088"
     ]
    }
   ],
   "source": [
    "task.is_task_done()"
   ]
  },
  {
   "cell_type": "code",
   "execution_count": 9,
   "id": "12110afc-dd54-4b55-af1e-3d86c132d18f",
   "metadata": {},
   "outputs": [
    {
     "data": {
      "text/plain": [
       "152"
      ]
     },
     "execution_count": 9,
     "metadata": {},
     "output_type": "execute_result"
    }
   ],
   "source": [
    "int(1000*0.1523123)"
   ]
  },
  {
   "cell_type": "code",
   "execution_count": 4,
   "id": "f64b908b-c73e-4d21-b811-243908c4a41c",
   "metadata": {},
   "outputs": [],
   "source": [
    "counter = USB6346()"
   ]
  },
  {
   "cell_type": "code",
   "execution_count": 5,
   "id": "1c6ee468-7131-4ee0-b3cf-1c836438e998",
   "metadata": {},
   "outputs": [
    {
     "data": {
      "text/plain": [
       "1"
      ]
     },
     "execution_count": 5,
     "metadata": {},
     "output_type": "execute_result"
    }
   ],
   "source": [
    "counter.exposure"
   ]
  },
  {
   "cell_type": "code",
   "execution_count": 6,
   "id": "168cac30-b204-4809-bb68-df626020c053",
   "metadata": {},
   "outputs": [
    {
     "name": "stdout",
     "output_type": "stream",
     "text": [
      "1.0468475818634033\n"
     ]
    }
   ],
   "source": [
    "import time\n",
    "t0 = time.time()\n",
    "counter.read_counts(1, None)\n",
    "print(time.time()-t0)"
   ]
  },
  {
   "cell_type": "code",
   "execution_count": 12,
   "id": "694e6428-bf1b-4440-b74d-b79277e11d04",
   "metadata": {},
   "outputs": [
    {
     "data": {
      "text/plain": [
       "19.42"
      ]
     },
     "execution_count": 12,
     "metadata": {},
     "output_type": "execute_result"
    }
   ],
   "source": [
    "float(np.average([1.02, 2.04, 55.2]))"
   ]
  },
  {
   "cell_type": "code",
   "execution_count": 21,
   "id": "490d2cbd-32f7-4804-8dae-584e4244a38a",
   "metadata": {},
   "outputs": [],
   "source": [
    "counter.exit_handler()"
   ]
  },
  {
   "cell_type": "code",
   "execution_count": 20,
   "id": "e3ad82a6-25a1-4f45-ba26-3851ad24de2d",
   "metadata": {},
   "outputs": [
    {
     "ename": "DaqError",
     "evalue": "Specified property cannot be set while the task is running.\nSet the property prior to starting the task, or stop the task prior to setting the property.\n\nProperty: DAQmx_SampTimingType\n\nTask Name: _unnamedTask<8>\n\nStatus Code: -200557",
     "output_type": "error",
     "traceback": [
      "\u001b[1;31m---------------------------------------------------------------------------\u001b[0m",
      "\u001b[1;31mDaqError\u001b[0m                                  Traceback (most recent call last)",
      "Cell \u001b[1;32mIn[20], line 1\u001b[0m\n\u001b[1;32m----> 1\u001b[0m \u001b[43mcounter\u001b[49m\u001b[38;5;241;43m.\u001b[39;49m\u001b[43mtask_counter_ai\u001b[49m\u001b[38;5;241;43m.\u001b[39;49m\u001b[43mtiming\u001b[49m\u001b[38;5;241;43m.\u001b[39;49m\u001b[43mcfg_samp_clk_timing\u001b[49m\u001b[43m(\u001b[49m\u001b[38;5;241;43m1000.0\u001b[39;49m\u001b[43m,\u001b[49m\u001b[43m \u001b[49m\u001b[43msample_mode\u001b[49m\u001b[38;5;241;43m=\u001b[39;49m\u001b[43mnidaqmx\u001b[49m\u001b[38;5;241;43m.\u001b[39;49m\u001b[43mconstants\u001b[49m\u001b[38;5;241;43m.\u001b[39;49m\u001b[43mAcquisitionType\u001b[49m\u001b[38;5;241;43m.\u001b[39;49m\u001b[43mFINITE\u001b[49m\u001b[43m,\u001b[49m\u001b[43m \u001b[49m\u001b[43msamps_per_chan\u001b[49m\u001b[38;5;241;43m=\u001b[39;49m\u001b[38;5;241;43m1000\u001b[39;49m\u001b[43m)\u001b[49m\n",
      "File \u001b[1;32m~\\AppData\\Local\\Packages\\PythonSoftwareFoundation.Python.3.13_qbz5n2kfra8p0\\LocalCache\\local-packages\\Python313\\site-packages\\nidaqmx\\task\\_timing.py:1428\u001b[0m, in \u001b[0;36mTiming.cfg_samp_clk_timing\u001b[1;34m(self, rate, source, active_edge, sample_mode, samps_per_chan)\u001b[0m\n\u001b[0;32m   1398\u001b[0m \u001b[38;5;28;01mdef\u001b[39;00m \u001b[38;5;21mcfg_samp_clk_timing\u001b[39m(\n\u001b[0;32m   1399\u001b[0m         \u001b[38;5;28mself\u001b[39m, rate, source\u001b[38;5;241m=\u001b[39m\u001b[38;5;124m\"\u001b[39m\u001b[38;5;124m\"\u001b[39m, active_edge\u001b[38;5;241m=\u001b[39mEdge\u001b[38;5;241m.\u001b[39mRISING,\n\u001b[0;32m   1400\u001b[0m         sample_mode\u001b[38;5;241m=\u001b[39mAcquisitionType\u001b[38;5;241m.\u001b[39mFINITE, samps_per_chan\u001b[38;5;241m=\u001b[39m\u001b[38;5;241m1000\u001b[39m):\n\u001b[0;32m   1401\u001b[0m \u001b[38;5;250m    \u001b[39m\u001b[38;5;124;03m\"\"\"\u001b[39;00m\n\u001b[0;32m   1402\u001b[0m \u001b[38;5;124;03m    Sets the source of the Sample Clock, the rate of the Sample\u001b[39;00m\n\u001b[0;32m   1403\u001b[0m \u001b[38;5;124;03m    Clock, and the number of samples to acquire or generate.\u001b[39;00m\n\u001b[1;32m   (...)\u001b[0m\n\u001b[0;32m   1425\u001b[0m \u001b[38;5;124;03m            returns an error if the specified value is negative.\u001b[39;00m\n\u001b[0;32m   1426\u001b[0m \u001b[38;5;124;03m    \"\"\"\u001b[39;00m\n\u001b[1;32m-> 1428\u001b[0m     \u001b[38;5;28;43mself\u001b[39;49m\u001b[38;5;241;43m.\u001b[39;49m\u001b[43m_interpreter\u001b[49m\u001b[38;5;241;43m.\u001b[39;49m\u001b[43mcfg_samp_clk_timing\u001b[49m\u001b[43m(\u001b[49m\n\u001b[0;32m   1429\u001b[0m \u001b[43m        \u001b[49m\u001b[38;5;28;43mself\u001b[39;49m\u001b[38;5;241;43m.\u001b[39;49m\u001b[43m_handle\u001b[49m\u001b[43m,\u001b[49m\u001b[43m \u001b[49m\u001b[43mrate\u001b[49m\u001b[43m,\u001b[49m\u001b[43m \u001b[49m\u001b[43msource\u001b[49m\u001b[43m,\u001b[49m\u001b[43m \u001b[49m\u001b[43mactive_edge\u001b[49m\u001b[38;5;241;43m.\u001b[39;49m\u001b[43mvalue\u001b[49m\u001b[43m,\u001b[49m\u001b[43m \u001b[49m\u001b[43msample_mode\u001b[49m\u001b[38;5;241;43m.\u001b[39;49m\u001b[43mvalue\u001b[49m\u001b[43m,\u001b[49m\n\u001b[0;32m   1430\u001b[0m \u001b[43m        \u001b[49m\u001b[43msamps_per_chan\u001b[49m\u001b[43m)\u001b[49m\n",
      "File \u001b[1;32m~\\AppData\\Local\\Packages\\PythonSoftwareFoundation.Python.3.13_qbz5n2kfra8p0\\LocalCache\\local-packages\\Python313\\site-packages\\nidaqmx\\_library_interpreter.py:435\u001b[0m, in \u001b[0;36mLibraryInterpreter.cfg_samp_clk_timing\u001b[1;34m(self, task, rate, source, active_edge, sample_mode, samps_per_chan)\u001b[0m\n\u001b[0;32m    428\u001b[0m             cfunc\u001b[38;5;241m.\u001b[39margtypes \u001b[38;5;241m=\u001b[39m [\n\u001b[0;32m    429\u001b[0m                 lib_importer\u001b[38;5;241m.\u001b[39mtask_handle, ctypes_byte_str,\n\u001b[0;32m    430\u001b[0m                 ctypes\u001b[38;5;241m.\u001b[39mc_double, ctypes\u001b[38;5;241m.\u001b[39mc_int, ctypes\u001b[38;5;241m.\u001b[39mc_int,\n\u001b[0;32m    431\u001b[0m                 ctypes\u001b[38;5;241m.\u001b[39mc_ulonglong]\n\u001b[0;32m    433\u001b[0m error_code \u001b[38;5;241m=\u001b[39m cfunc(\n\u001b[0;32m    434\u001b[0m     task, source, rate, active_edge, sample_mode, samps_per_chan)\n\u001b[1;32m--> 435\u001b[0m \u001b[38;5;28;43mself\u001b[39;49m\u001b[38;5;241;43m.\u001b[39;49m\u001b[43mcheck_for_error\u001b[49m\u001b[43m(\u001b[49m\u001b[43merror_code\u001b[49m\u001b[43m)\u001b[49m\n",
      "File \u001b[1;32m~\\AppData\\Local\\Packages\\PythonSoftwareFoundation.Python.3.13_qbz5n2kfra8p0\\LocalCache\\local-packages\\Python313\\site-packages\\nidaqmx\\_library_interpreter.py:6412\u001b[0m, in \u001b[0;36mLibraryInterpreter.check_for_error\u001b[1;34m(self, error_code, samps_per_chan_written, samps_per_chan_read)\u001b[0m\n\u001b[0;32m   6410\u001b[0m         \u001b[38;5;28;01mraise\u001b[39;00m DaqWriteError(extended_error_info, error_code, samps_per_chan_written)\n\u001b[0;32m   6411\u001b[0m     \u001b[38;5;28;01melse\u001b[39;00m:\n\u001b[1;32m-> 6412\u001b[0m         \u001b[38;5;28;01mraise\u001b[39;00m DaqError(extended_error_info, error_code)\n\u001b[0;32m   6414\u001b[0m \u001b[38;5;28;01melif\u001b[39;00m error_code \u001b[38;5;241m>\u001b[39m \u001b[38;5;241m0\u001b[39m:\n\u001b[0;32m   6415\u001b[0m     error_string \u001b[38;5;241m=\u001b[39m \u001b[38;5;28mself\u001b[39m\u001b[38;5;241m.\u001b[39mget_error_string(error_code)\n",
      "\u001b[1;31mDaqError\u001b[0m: Specified property cannot be set while the task is running.\nSet the property prior to starting the task, or stop the task prior to setting the property.\n\nProperty: DAQmx_SampTimingType\n\nTask Name: _unnamedTask<8>\n\nStatus Code: -200557"
     ]
    }
   ],
   "source": [
    "counter.task_counter_ai.timing.cfg_samp_clk_timing(1000.0, sample_mode=nidaqmx.constants.AcquisitionType.FINITE, samps_per_chan=1000)"
   ]
  },
  {
   "cell_type": "code",
   "execution_count": 12,
   "id": "b558079d-d67c-432b-ae96-d7d6ab65c958",
   "metadata": {},
   "outputs": [
    {
     "data": {
      "text/plain": [
       "<confocal_gui.device.USB6346 at 0x18b88c94c20>"
      ]
     },
     "execution_count": 12,
     "metadata": {},
     "output_type": "execute_result"
    }
   ],
   "source": [
    "counter"
   ]
  },
  {
   "cell_type": "code",
   "execution_count": 13,
   "id": "1ab45de2-1b1d-4d6c-aeec-785d37dd3ac6",
   "metadata": {},
   "outputs": [
    {
     "data": {
      "text/plain": [
       "False"
      ]
     },
     "execution_count": 13,
     "metadata": {},
     "output_type": "execute_result"
    }
   ],
   "source": [
    "hasattr(counter, '__bases__')"
   ]
  },
  {
   "cell_type": "code",
   "execution_count": 15,
   "id": "05288596-e06b-4415-bb4e-690da4a6d1df",
   "metadata": {},
   "outputs": [
    {
     "data": {
      "text/plain": [
       "False"
      ]
     },
     "execution_count": 15,
     "metadata": {},
     "output_type": "execute_result"
    }
   ],
   "source": [
    "hasattr(counter, '__call__')"
   ]
  },
  {
   "cell_type": "code",
   "execution_count": 17,
   "id": "a7ec91af-5fc2-4929-b553-25ccf7f86afd",
   "metadata": {},
   "outputs": [
    {
     "data": {
      "text/plain": [
       "False"
      ]
     },
     "execution_count": 17,
     "metadata": {},
     "output_type": "execute_result"
    }
   ],
   "source": [
    "hasattr(counter.read_counts, '__bases__')"
   ]
  },
  {
   "cell_type": "code",
   "execution_count": 18,
   "id": "ccea3f29-7b0c-4e55-9824-a15b8a2be6dc",
   "metadata": {},
   "outputs": [
    {
     "data": {
      "text/plain": [
       "True"
      ]
     },
     "execution_count": 18,
     "metadata": {},
     "output_type": "execute_result"
    }
   ],
   "source": [
    "hasattr(counter.read_counts, '__call__')"
   ]
  },
  {
   "cell_type": "code",
   "execution_count": 19,
   "id": "5bb2f265-d824-4812-ae9a-35644e5529af",
   "metadata": {},
   "outputs": [
    {
     "data": {
      "text/plain": [
       "{'scanner': <confocal_gui.virtual_device.VirtualScanner at 0x18bf5622e40>,\n",
       " 'counter': <function confocal_gui.virtual_device.virtual_read_counts(duration, parent)>,\n",
       " 'rf': <confocal_gui.device.DSG836 at 0x18b88c2a270>,\n",
       " 'laser_stabilizer_core': <confocal_gui.logic.VirtualLaserStabilizerCore at 0x18b88c946e0>,\n",
       " 'laser_stabilizer': <LaserStabilizer(Thread-3, initial daemon)>,\n",
       " 'display_scale': 1}"
      ]
     },
     "execution_count": 19,
     "metadata": {},
     "output_type": "execute_result"
    }
   ],
   "source": [
    "config_instances"
   ]
  },
  {
   "cell_type": "code",
   "execution_count": 7,
   "id": "451ffcd4-8671-49f1-b885-3e88670f8e62",
   "metadata": {},
   "outputs": [],
   "source": [
    "config_instances['counter'] = counter.read_counts"
   ]
  },
  {
   "cell_type": "code",
   "execution_count": 10,
   "id": "4a365d2f-340e-43e6-95c4-1a13704584e7",
   "metadata": {},
   "outputs": [
    {
     "data": {
      "application/vnd.jupyter.widget-view+json": {
       "model_id": "a0867dcbbdc34d6bbe762a29e1f02095",
       "version_major": 2,
       "version_minor": 0
      },
      "image/png": "[encoded data removed]",
      "text/html": [
       "\n",
       "            <div style=\"display: inline-block;\">\n",
       "                <div class=\"jupyter-widgets widget-label\" style=\"text-align: center;\">\n",
       "                    Figure\n",
       "                </div>\n",
       "                <img src='data:image/png;base64,iVBORw0KGgoAAAANSUhEUgAAAoUAAAHnCAYAAADO/ScYAAAAOnRFWHRTb2Z0d2FyZQBNYXRwbG90bGliIHZlcnNpb24zLjEwLjAsIGh0dHBzOi8vbWF0cGxvdGxpYi5vcmcvlHJYcgAAAAlwSFlzAAAXEgAAFxIBZ5/SUgAAB/dJREFUeJzt1jEBACAMwLCCf89Dxg4SBT17ZmYCAOBrdzsAAIB9phAAAFMIAIApBAAgUwgAQKYQAIBMIQAAmUIAADKFAABkCgEAyBQCAJApBAAgUwgAQKYQAIBMIQAAmUIAADKFAABkCgEAyBQCAJApBAAgUwgAQKYQAIBMIQAAmUIAADKFAABkCgEAyBQCAJApBAAgUwgAQKYQAIBMIQAAmUIAADKFAABkCgEAyBQCAJApBAAgUwgAQKYQAIBMIQAAmUIAADKFAABkCgEAyBQCAJApBAAgUwgAQKYQAIBMIQAAmUIAADKFAABkCgEAyBQCAJApBAAgUwgAQKYQAIBMIQAAmUIAADKFAABkCgEAyBQCAJApBAAgUwgAQKYQAIBMIQAAmUIAADKFAABkCgEAyBQCAJApBAAgUwgAQKYQAIBMIQAAmUIAADKFAABkCgEAyBQCAJApBAAgUwgAQKYQAIBMIQAAmUIAADKFAABkCgEAyBQCAJApBAAgUwgAQKYQAIBMIQAAmUIAADKFAABkCgEAyBQCAJApBAAgUwgAQKYQAIBMIQAAmUIAADKFAABkCgEAyBQCAJApBAAgUwgAQKYQAIBMIQAAmUIAADKFAABkCgEAyBQCAJApBAAgUwgAQKYQAIBMIQAAmUIAADKFAABkCgEAyBQCAJApBAAgUwgAQKYQAIBMIQAAmUIAADKFAABkCgEAyBQCAJApBAAgUwgAQKYQAIBMIQAAmUIAADKFAABkCgEAyBQCAJApBAAgUwgAQKYQAIBMIQAAmUIAADKFAABkCgEAyBQCAJApBAAgUwgAQKYQAIBMIQAAmUIAADKFAABkCgEAyBQCAJApBAAgUwgAQKYQAIBMIQAAmUIAADKFAABkCgEAyBQCAJApBAAgUwgAQKYQAIBMIQAAmUIAADKFAABkCgEAyBQCAJApBAAgUwgAQKYQAIBMIQAAmUIAADKFAABkCgEAyBQCAJApBAAgUwgAQKYQAIBMIQAAmUIAADKFAABkCgEAyBQCAJApBAAgUwgAQKYQAIBMIQAAmUIAADKFAABkCgEAyBQCAJApBAAgUwgAQKYQAIBMIQAAmUIAADKFAABkCgEAyBQCAJApBAAgUwgAQKYQAIBMIQAAmUIAADKFAABkCgEAyBQCAJApBAAgUwgAQKYQAIBMIQAAmUIAADKFAABkCgEAyBQCAJApBAAgUwgAQKYQAIBMIQAAmUIAADKFAABkCgEAyBQCAJApBAAgUwgAQKYQAIBMIQAAmUIAADKFAABkCgEAyBQCAJApBAAgUwgAQKYQAIBMIQAAmUIAADKFAABkCgEAyBQCAJApBAAgUwgAQKYQAIBMIQAAmUIAADKFAABkCgEAyBQCAJApBAAgUwgAQKYQAIBMIQAAmUIAADKFAABkCgEAyBQCAJApBAAgUwgAQKYQAIBMIQAAmUIAADKFAABkCgEAyBQCAJApBAAgUwgAQKYQAIBMIQAAmUIAADKFAABkCgEAyBQCAJApBAAgUwgAQKYQAIBMIQAAmUIAADKFAABkCgEAyBQCAJApBAAgUwgAQKYQAIBMIQAAmUIAADKFAABkCgEAyBQCAJApBAAgUwgAQKYQAIBMIQAAmUIAADKFAABkCgEAyBQCAJApBAAgUwgAQKYQAIBMIQAAmUIAADKFAABkCgEAyBQCAJApBAAgUwgAQKYQAIBMIQAAmUIAADKFAABkCgEAyBQCAJApBAAgUwgAQKYQAIBMIQAAmUIAADKFAABkCgEAyBQCAJApBAAgUwgAQKYQAIBMIQAAmUIAADKFAABkCgEAyBQCAJApBAAgUwgAQKYQAIBMIQAAmUIAADKFAABkCgEAyBQCAJApBAAgUwgAQKYQAIBMIQAAmUIAADKFAABkCgEAyBQCAJApBAAgUwgAQKYQAIBMIQAAmUIAADKFAABkCgEAyBQCAJApBAAgUwgAQKYQAIBMIQAAmUIAADKFAABkCgEAyBQCAJApBAAgUwgAQKYQAIBMIQAAmUIAADKFAABkCgEAyBQCAJApBAAgUwgAQKYQAIBMIQAAmUIAADKFAABkCgEAyBQCAJApBAAgUwgAQKYQAIBMIQAAmUIAADKFAABkCgEAyBQCAJApBAAgUwgAQKYQAIBMIQAAmUIAADKFAABkCgEAyBQCAJApBAAgUwgAQKYQAIBMIQAAmUIAADKFAABkCgEAyBQCAJApBAAgUwgAQKYQAIBMIQAAmUIAADKFAABkCgEAyBQCAJApBAAgUwgAQKYQAIBMIQAAmUIAADKFAABkCgEAyBQCAJApBAAgUwgAQKYQAIBMIQAAmUIAADKFAABkCgEAyBQCAJApBAAgUwgAQKYQAIBMIQAAmUIAADKFAABkCgEAyBQCAJApBAAgUwgAQKYQAIBMIQAAmUIAADKFAABkCgEAyBQCAJApBAAgUwgAQKYQAIBMIQAAmUIAADKFAABkCgEAyBQCAJApBAAgUwgAQKYQAIBMIQAAmUIAADKFAABkCgEAyBQCAJApBAAgUwgAQKYQAIBMIQAAmUIAADKFAABkCgEAyBQCAJApBAAgUwgAQKYQAIBMIQAAmUIAADKFAABkCgEAyBQCAJApBAAgUwgAQKYQAIBMIQAAmUIAADKFAABkCgEAyBQCAJApBAAgUwgAQKYQAIBMIQAAmUIAADKFAABkCgEAyBQCAJApBAAgUwgAQKYQAIDqAUCFB8qnyXh1AAAAAElFTkSuQmCC' width=630.0/>\n",
       "            </div>\n",
       "        "
      ],
      "text/plain": [
       "Canvas(capture_scroll=True, footer_visible=False, header_visible=False, resizable=False, toolbar=Toolbar(tooli…"
      ]
     },
     "metadata": {},
     "output_type": "display_data"
    },
    {
     "name": "stdout",
     "output_type": "stream",
     "text": [
      "\n"
     ]
    }
   ],
   "source": [
    "fig, data_figure = live(np.arange(100), exposure=0.1, wavelength=None, \n",
    "                                           is_finite=False, config_instances={**config_instances})\n",
    "# wavelength defines wavelength for live plot"
   ]
  },
  {
   "cell_type": "code",
   "execution_count": 7,
   "id": "bf4cf3fe-6d88-482f-9184-52027fe50586",
   "metadata": {},
   "outputs": [
    {
     "data": {
      "text/plain": [
       "0.01783516449266453"
      ]
     },
     "execution_count": 7,
     "metadata": {},
     "output_type": "execute_result"
    }
   ],
   "source": [
    "config_instances['counter'](1, None)"
   ]
  },
  {
   "cell_type": "code",
   "execution_count": 8,
   "id": "df132176-8d76-4f86-80a7-0d1cb7a1f6d9",
   "metadata": {},
   "outputs": [],
   "source": [
    "rf = config_instances['rf']"
   ]
  },
  {
   "cell_type": "code",
   "execution_count": 9,
   "id": "18423680-25f6-46a7-bf1e-7efe8fa71ac7",
   "metadata": {},
   "outputs": [
    {
     "data": {
      "text/plain": [
       "2395000000.0"
      ]
     },
     "execution_count": 9,
     "metadata": {},
     "output_type": "execute_result"
    }
   ],
   "source": [
    "rf.frequency"
   ]
  },
  {
   "cell_type": "code",
   "execution_count": 13,
   "id": "ca54fa1d-20ca-458b-bcc9-d4fbe704ee0d",
   "metadata": {},
   "outputs": [],
   "source": [
    "rf.power = -10"
   ]
  },
  {
   "cell_type": "code",
   "execution_count": 22,
   "id": "f7cbce71-c1fe-42cc-ac30-aef4b35dd62c",
   "metadata": {},
   "outputs": [
    {
     "data": {
      "application/vnd.jupyter.widget-view+json": {
       "model_id": "cba33309bf41457a968ef5c1c10d564b",
       "version_major": 2,
       "version_minor": 0
      },
      "image/png": "[encoded data removed]",
      "text/html": [
       "\n",
       "            <div style=\"display: inline-block;\">\n",
       "                <div class=\"jupyter-widgets widget-label\" style=\"text-align: center;\">\n",
       "                    Figure\n",
       "                </div>\n",
       "                <img src='data:image/png;base64,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' width=630.0/>\n",
       "            </div>\n",
       "        "
      ],
      "text/plain": [
       "Canvas(capture_scroll=True, footer_visible=False, header_visible=False, resizable=False, toolbar=Toolbar(tooli…"
      ]
     },
     "metadata": {},
     "output_type": "display_data"
    }
   ],
   "source": [
    "fig, data_figure = odmr(np.arange(2.77e9, 2.97e9, 1e6), exposure=0.1, power=-10, \\\n",
    "                                config_instances={**config_instances})"
   ]
  },
  {
   "cell_type": "code",
   "execution_count": 23,
   "id": "6a3e6e0f-f0cf-4e70-81e0-a81a03983df9",
   "metadata": {},
   "outputs": [
    {
     "name": "stdout",
     "output_type": "stream",
     "text": [
      "saved fig as odmr_test_ensemblePLE2024_12_20_17_26_42.npz\n"
     ]
    }
   ],
   "source": [
    "data_figure.save('odmr_test_ensemble')"
   ]
  },
  {
   "cell_type": "code",
   "execution_count": 24,
   "id": "3435113f-c4fc-47a2-b7f0-f4f97d519bb5",
   "metadata": {},
   "outputs": [
    {
     "data": {
      "application/vnd.jupyter.widget-view+json": {
       "model_id": "5f09f904e90d47788eb01de89acddd5d",
       "version_major": 2,
       "version_minor": 0
      },
      "image/png": "[encoded data removed]",
      "text/html": [
       "\n",
       "            <div style=\"display: inline-block;\">\n",
       "                <div class=\"jupyter-widgets widget-label\" style=\"text-align: center;\">\n",
       "                    Figure\n",
       "                </div>\n",
       "                <img src='data:image/png;base64,iVBORw0KGgoAAAANSUhEUgAAAoUAAAHnCAYAAADO/ScYAAAAOnRFWHRTb2Z0d2FyZQBNYXRwbG90bGliIHZlcnNpb24zLjEwLjAsIGh0dHBzOi8vbWF0cGxvdGxpYi5vcmcvlHJYcgAAAAlwSFlzAAAXEgAAFxIBZ5/SUgAAB/dJREFUeJzt1jEBACAMwLCCf89Dxg4SBT17ZmYCAOBrdzsAAIB9phAAAFMIAIApBAAgUwgAQKYQAIBMIQAAmUIAADKFAABkCgEAyBQCAJApBAAgUwgAQKYQAIBMIQAAmUIAADKFAABkCgEAyBQCAJApBAAgUwgAQKYQAIBMIQAAmUIAADKFAABkCgEAyBQCAJApBAAgUwgAQKYQAIBMIQAAmUIAADKFAABkCgEAyBQCAJApBAAgUwgAQKYQAIBMIQAAmUIAADKFAABkCgEAyBQCAJApBAAgUwgAQKYQAIBMIQAAmUIAADKFAABkCgEAyBQCAJApBAAgUwgAQKYQAIBMIQAAmUIAADKFAABkCgEAyBQCAJApBAAgUwgAQKYQAIBMIQAAmUIAADKFAABkCgEAyBQCAJApBAAgUwgAQKYQAIBMIQAAmUIAADKFAABkCgEAyBQCAJApBAAgUwgAQKYQAIBMIQAAmUIAADKFAABkCgEAyBQCAJApBAAgUwgAQKYQAIBMIQAAmUIAADKFAABkCgEAyBQCAJApBAAgUwgAQKYQAIBMIQAAmUIAADKFAABkCgEAyBQCAJApBAAgUwgAQKYQAIBMIQAAmUIAADKFAABkCgEAyBQCAJApBAAgUwgAQKYQAIBMIQAAmUIAADKFAABkCgEAyBQCAJApBAAgUwgAQKYQAIBMIQAAmUIAADKFAABkCgEAyBQCAJApBAAgUwgAQKYQAIBMIQAAmUIAADKFAABkCgEAyBQCAJApBAAgUwgAQKYQAIBMIQAAmUIAADKFAABkCgEAyBQCAJApBAAgUwgAQKYQAIBMIQAAmUIAADKFAABkCgEAyBQCAJApBAAgUwgAQKYQAIBMIQAAmUIAADKFAABkCgEAyBQCAJApBAAgUwgAQKYQAIBMIQAAmUIAADKFAABkCgEAyBQCAJApBAAgUwgAQKYQAIBMIQAAmUIAADKFAABkCgEAyBQCAJApBAAgUwgAQKYQAIBMIQAAmUIAADKFAABkCgEAyBQCAJApBAAgUwgAQKYQAIBMIQAAmUIAADKFAABkCgEAyBQCAJApBAAgUwgAQKYQAIBMIQAAmUIAADKFAABkCgEAyBQCAJApBAAgUwgAQKYQAIBMIQAAmUIAADKFAABkCgEAyBQCAJApBAAgUwgAQKYQAIBMIQAAmUIAADKFAABkCgEAyBQCAJApBAAgUwgAQKYQAIBMIQAAmUIAADKFAABkCgEAyBQCAJApBAAgUwgAQKYQAIBMIQAAmUIAADKFAABkCgEAyBQCAJApBAAgUwgAQKYQAIBMIQAAmUIAADKFAABkCgEAyBQCAJApBAAgUwgAQKYQAIBMIQAAmUIAADKFAABkCgEAyBQCAJApBAAgUwgAQKYQAIBMIQAAmUIAADKFAABkCgEAyBQCAJApBAAgUwgAQKYQAIBMIQAAmUIAADKFAABkCgEAyBQCAJApBAAgUwgAQKYQAIBMIQAAmUIAADKFAABkCgEAyBQCAJApBAAgUwgAQKYQAIBMIQAAmUIAADKFAABkCgEAyBQCAJApBAAgUwgAQKYQAIBMIQAAmUIAADKFAABkCgEAyBQCAJApBAAgUwgAQKYQAIBMIQAAmUIAADKFAABkCgEAyBQCAJApBAAgUwgAQKYQAIBMIQAAmUIAADKFAABkCgEAyBQCAJApBAAgUwgAQKYQAIBMIQAAmUIAADKFAABkCgEAyBQCAJApBAAgUwgAQKYQAIBMIQAAmUIAADKFAABkCgEAyBQCAJApBAAgUwgAQKYQAIBMIQAAmUIAADKFAABkCgEAyBQCAJApBAAgUwgAQKYQAIBMIQAAmUIAADKFAABkCgEAyBQCAJApBAAgUwgAQKYQAIBMIQAAmUIAADKFAABkCgEAyBQCAJApBAAgUwgAQKYQAIBMIQAAmUIAADKFAABkCgEAyBQCAJApBAAgUwgAQKYQAIBMIQAAmUIAADKFAABkCgEAyBQCAJApBAAgUwgAQKYQAIBMIQAAmUIAADKFAABkCgEAyBQCAJApBAAgUwgAQKYQAIBMIQAAmUIAADKFAABkCgEAyBQCAJApBAAgUwgAQKYQAIBMIQAAmUIAADKFAABkCgEAyBQCAJApBAAgUwgAQKYQAIBMIQAAmUIAADKFAABkCgEAyBQCAJApBAAgUwgAQKYQAIBMIQAAmUIAADKFAABkCgEAyBQCAJApBAAgUwgAQKYQAIBMIQAAmUIAADKFAABkCgEAyBQCAJApBAAgUwgAQKYQAIBMIQAAmUIAADKFAABkCgEAyBQCAJApBAAgUwgAQKYQAIBMIQAAmUIAADKFAABkCgEAyBQCAJApBAAgUwgAQKYQAIBMIQAAmUIAADKFAABkCgEAyBQCAJApBAAgUwgAQKYQAIBMIQAAmUIAADKFAABkCgEAyBQCAJApBAAgUwgAQKYQAIBMIQAAmUIAADKFAABkCgEAyBQCAJApBAAgUwgAQKYQAIBMIQAAmUIAADKFAABkCgEAyBQCAJApBAAgUwgAQKYQAIBMIQAAmUIAADKFAABkCgEAyBQCAJApBAAgUwgAQKYQAIBMIQAAmUIAADKFAABkCgEAyBQCAJApBAAgUwgAQKYQAIBMIQAAmUIAADKFAABkCgEAyBQCAJApBAAgUwgAQKYQAIBMIQAAmUIAADKFAABkCgEAyBQCAJApBAAgUwgAQKYQAIDqAUCFB8qnyXh1AAAAAElFTkSuQmCC' width=630.0/>\n",
       "            </div>\n",
       "        "
      ],
      "text/plain": [
       "Canvas(capture_scroll=True, footer_visible=False, header_visible=False, resizable=False, toolbar=Toolbar(tooli…"
      ]
     },
     "metadata": {},
     "output_type": "display_data"
    }
   ],
   "source": [
    "fig, data_figure = odmr(np.arange(2.77e9, 2.97e9, 1e6), exposure=0.1, power=-10, \\\n",
    "                                config_instances={**config_instances})"
   ]
  },
  {
   "cell_type": "code",
   "execution_count": 27,
   "id": "01d94f5c-007a-4ebb-bb93-396a70e3d651",
   "metadata": {},
   "outputs": [
    {
     "data": {
      "application/vnd.jupyter.widget-view+json": {
       "model_id": "7a6137726bfd4f61b0c18fe7efb166f1",
       "version_major": 2,
       "version_minor": 0
      },
      "image/png": "[encoded data removed]",
      "text/html": [
       "\n",
       "            <div style=\"display: inline-block;\">\n",
       "                <div class=\"jupyter-widgets widget-label\" style=\"text-align: center;\">\n",
       "                    Figure\n",
       "                </div>\n",
       "                <img src='data:image/png;base64,iVBORw0KGgoAAAANSUhEUgAAAoUAAAHnCAYAAADO/ScYAAAAOnRFWHRTb2Z0d2FyZQBNYXRwbG90bGliIHZlcnNpb24zLjEwLjAsIGh0dHBzOi8vbWF0cGxvdGxpYi5vcmcvlHJYcgAAAAlwSFlzAAAXEgAAFxIBZ5/SUgAAB/dJREFUeJzt1jEBACAMwLCCf89Dxg4SBT17ZmYCAOBrdzsAAIB9phAAAFMIAIApBAAgUwgAQKYQAIBMIQAAmUIAADKFAABkCgEAyBQCAJApBAAgUwgAQKYQAIBMIQAAmUIAADKFAABkCgEAyBQCAJApBAAgUwgAQKYQAIBMIQAAmUIAADKFAABkCgEAyBQCAJApBAAgUwgAQKYQAIBMIQAAmUIAADKFAABkCgEAyBQCAJApBAAgUwgAQKYQAIBMIQAAmUIAADKFAABkCgEAyBQCAJApBAAgUwgAQKYQAIBMIQAAmUIAADKFAABkCgEAyBQCAJApBAAgUwgAQKYQAIBMIQAAmUIAADKFAABkCgEAyBQCAJApBAAgUwgAQKYQAIBMIQAAmUIAADKFAABkCgEAyBQCAJApBAAgUwgAQKYQAIBMIQAAmUIAADKFAABkCgEAyBQCAJApBAAgUwgAQKYQAIBMIQAAmUIAADKFAABkCgEAyBQCAJApBAAgUwgAQKYQAIBMIQAAmUIAADKFAABkCgEAyBQCAJApBAAgUwgAQKYQAIBMIQAAmUIAADKFAABkCgEAyBQCAJApBAAgUwgAQKYQAIBMIQAAmUIAADKFAABkCgEAyBQCAJApBAAgUwgAQKYQAIBMIQAAmUIAADKFAABkCgEAyBQCAJApBAAgUwgAQKYQAIBMIQAAmUIAADKFAABkCgEAyBQCAJApBAAgUwgAQKYQAIBMIQAAmUIAADKFAABkCgEAyBQCAJApBAAgUwgAQKYQAIBMIQAAmUIAADKFAABkCgEAyBQCAJApBAAgUwgAQKYQAIBMIQAAmUIAADKFAABkCgEAyBQCAJApBAAgUwgAQKYQAIBMIQAAmUIAADKFAABkCgEAyBQCAJApBAAgUwgAQKYQAIBMIQAAmUIAADKFAABkCgEAyBQCAJApBAAgUwgAQKYQAIBMIQAAmUIAADKFAABkCgEAyBQCAJApBAAgUwgAQKYQAIBMIQAAmUIAADKFAABkCgEAyBQCAJApBAAgUwgAQKYQAIBMIQAAmUIAADKFAABkCgEAyBQCAJApBAAgUwgAQKYQAIBMIQAAmUIAADKFAABkCgEAyBQCAJApBAAgUwgAQKYQAIBMIQAAmUIAADKFAABkCgEAyBQCAJApBAAgUwgAQKYQAIBMIQAAmUIAADKFAABkCgEAyBQCAJApBAAgUwgAQKYQAIBMIQAAmUIAADKFAABkCgEAyBQCAJApBAAgUwgAQKYQAIBMIQAAmUIAADKFAABkCgEAyBQCAJApBAAgUwgAQKYQAIBMIQAAmUIAADKFAABkCgEAyBQCAJApBAAgUwgAQKYQAIBMIQAAmUIAADKFAABkCgEAyBQCAJApBAAgUwgAQKYQAIBMIQAAmUIAADKFAABkCgEAyBQCAJApBAAgUwgAQKYQAIBMIQAAmUIAADKFAABkCgEAyBQCAJApBAAgUwgAQKYQAIBMIQAAmUIAADKFAABkCgEAyBQCAJApBAAgUwgAQKYQAIBMIQAAmUIAADKFAABkCgEAyBQCAJApBAAgUwgAQKYQAIBMIQAAmUIAADKFAABkCgEAyBQCAJApBAAgUwgAQKYQAIBMIQAAmUIAADKFAABkCgEAyBQCAJApBAAgUwgAQKYQAIBMIQAAmUIAADKFAABkCgEAyBQCAJApBAAgUwgAQKYQAIBMIQAAmUIAADKFAABkCgEAyBQCAJApBAAgUwgAQKYQAIBMIQAAmUIAADKFAABkCgEAyBQCAJApBAAgUwgAQKYQAIBMIQAAmUIAADKFAABkCgEAyBQCAJApBAAgUwgAQKYQAIBMIQAAmUIAADKFAABkCgEAyBQCAJApBAAgUwgAQKYQAIBMIQAAmUIAADKFAABkCgEAyBQCAJApBAAgUwgAQKYQAIBMIQAAmUIAADKFAABkCgEAyBQCAJApBAAgUwgAQKYQAIBMIQAAmUIAADKFAABkCgEAyBQCAJApBAAgUwgAQKYQAIBMIQAAmUIAADKFAABkCgEAyBQCAJApBAAgUwgAQKYQAIBMIQAAmUIAADKFAABkCgEAyBQCAJApBAAgUwgAQKYQAIBMIQAAmUIAADKFAABkCgEAyBQCAJApBAAgUwgAQKYQAIBMIQAAmUIAADKFAABkCgEAyBQCAJApBAAgUwgAQKYQAIBMIQAAmUIAADKFAABkCgEAyBQCAJApBAAgUwgAQKYQAIBMIQAAmUIAADKFAABkCgEAyBQCAJApBAAgUwgAQKYQAIBMIQAAmUIAADKFAABkCgEAyBQCAJApBAAgUwgAQKYQAIBMIQAAmUIAADKFAABkCgEAyBQCAJApBAAgUwgAQKYQAIBMIQAAmUIAADKFAABkCgEAyBQCAJApBAAgUwgAQKYQAIBMIQAAmUIAADKFAABkCgEAyBQCAJApBAAgUwgAQKYQAIBMIQAAmUIAADKFAABkCgEAyBQCAJApBAAgUwgAQKYQAIBMIQAAmUIAADKFAABkCgEAyBQCAJApBAAgUwgAQKYQAIBMIQAAmUIAADKFAABkCgEAyBQCAJApBAAgUwgAQKYQAIBMIQAAmUIAADKFAABkCgEAyBQCAJApBAAgUwgAQKYQAIBMIQAAmUIAADKFAABkCgEAyBQCAJApBAAgUwgAQKYQAIBMIQAAmUIAADKFAABkCgEAyBQCAJApBAAgUwgAQKYQAIDqAUCFB8qnyXh1AAAAAElFTkSuQmCC' width=630.0/>\n",
       "            </div>\n",
       "        "
      ],
      "text/plain": [
       "Canvas(capture_scroll=True, footer_visible=False, header_visible=False, resizable=False, toolbar=Toolbar(tooli…"
      ]
     },
     "metadata": {},
     "output_type": "display_data"
    }
   ],
   "source": [
    "fig, data_figure = odmr(np.arange(2.27e9, 3.47e9, 5e6), exposure=0.1, power=-10, \\\n",
    "                                config_instances={**config_instances})"
   ]
  },
  {
   "cell_type": "code",
   "execution_count": 28,
   "id": "c21dc464-6019-4f53-af88-4cd985664c7f",
   "metadata": {},
   "outputs": [
    {
     "name": "stdout",
     "output_type": "stream",
     "text": [
      "saved fig as odmr_test_ensemblePLE2024_12_20_17_33_20.npz\n"
     ]
    }
   ],
   "source": [
    "data_figure.save('odmr_test_ensemble')"
   ]
  },
  {
   "cell_type": "code",
   "execution_count": 16,
   "id": "06434b23-85a9-4607-974a-f19e1bb450fb",
   "metadata": {},
   "outputs": [
    {
     "data": {
      "application/vnd.jupyter.widget-view+json": {
       "model_id": "ec2c3db1c5394a2ba03f49fd6ebaad9c",
       "version_major": 2,
       "version_minor": 0
      },
      "image/png": "[encoded data removed]",
      "text/html": [
       "\n",
       "            <div style=\"display: inline-block;\">\n",
       "                <div class=\"jupyter-widgets widget-label\" style=\"text-align: center;\">\n",
       "                    Figure\n",
       "                </div>\n",
       "                <img src='data:image/png;base64,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' width=630.0/>\n",
       "            </div>\n",
       "        "
      ],
      "text/plain": [
       "Canvas(capture_scroll=True, footer_visible=False, header_visible=False, resizable=False, toolbar=Toolbar(tooli…"
      ]
     },
     "metadata": {},
     "output_type": "display_data"
    }
   ],
   "source": [
    "fig, data_figure = odmr(np.arange(2.27e9, 3.47e9, 5e6), exposure=0.1, power=-10, \\\n",
    "                                config_instances={**config_instances})"
   ]
  },
  {
   "cell_type": "code",
   "execution_count": 17,
   "id": "a86afbcd-0737-4dd3-9435-5a7d0239db85",
   "metadata": {},
   "outputs": [
    {
     "data": {
      "application/vnd.jupyter.widget-view+json": {
       "model_id": "2755ed986194496795557e87153e6f6b",
       "version_major": 2,
       "version_minor": 0
      },
      "image/png": "[encoded data removed]",
      "text/html": [
       "\n",
       "            <div style=\"display: inline-block;\">\n",
       "                <div class=\"jupyter-widgets widget-label\" style=\"text-align: center;\">\n",
       "                    Figure\n",
       "                </div>\n",
       "                <img src='data:image/png;base64,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' width=630.0/>\n",
       "            </div>\n",
       "        "
      ],
      "text/plain": [
       "Canvas(capture_scroll=True, footer_visible=False, header_visible=False, resizable=False, toolbar=Toolbar(tooli…"
      ]
     },
     "metadata": {},
     "output_type": "display_data"
    }
   ],
   "source": [
    "fig, data_figure = odmr(np.arange(2.67e9, 3.07e9, 1e6), exposure=0.1, power=-20, \\\n",
    "                                config_instances={**config_instances})"
   ]
  },
  {
   "cell_type": "code",
   "execution_count": 18,
   "id": "c54bd893-135e-42c0-bbac-2e6493d18789",
   "metadata": {},
   "outputs": [
    {
     "data": {
      "application/vnd.jupyter.widget-view+json": {
       "model_id": "fc0fc560cde74b6cb005f8b3ab8007a4",
       "version_major": 2,
       "version_minor": 0
      },
      "image/png": "[encoded data removed]",
      "text/html": [
       "\n",
       "            <div style=\"display: inline-block;\">\n",
       "                <div class=\"jupyter-widgets widget-label\" style=\"text-align: center;\">\n",
       "                    Figure\n",
       "                </div>\n",
       "                <img src='data:image/png;base64,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' width=630.0/>\n",
       "            </div>\n",
       "        "
      ],
      "text/plain": [
       "Canvas(capture_scroll=True, footer_visible=False, header_visible=False, resizable=False, toolbar=Toolbar(tooli…"
      ]
     },
     "metadata": {},
     "output_type": "display_data"
    }
   ],
   "source": [
    "fig, data_figure = odmr(np.arange(2.82e9, 2.92e9, 0.2e6), exposure=0.1, power=-25, \\\n",
    "                                config_instances={**config_instances})"
   ]
  },
  {
   "cell_type": "code",
   "execution_count": 19,
   "id": "aecd1b37-7c69-4cae-9d5e-9a6053aceb64",
   "metadata": {},
   "outputs": [
    {
     "data": {
      "application/vnd.jupyter.widget-view+json": {
       "model_id": "4b4ec2bee16d418a8543d02fe175ad4a",
       "version_major": 2,
       "version_minor": 0
      },
      "image/png": "[encoded data removed]",
      "text/html": [
       "\n",
       "            <div style=\"display: inline-block;\">\n",
       "                <div class=\"jupyter-widgets widget-label\" style=\"text-align: center;\">\n",
       "                    Figure\n",
       "                </div>\n",
       "                <img src='data:image/png;base64,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' width=630.0/>\n",
       "            </div>\n",
       "        "
      ],
      "text/plain": [
       "Canvas(capture_scroll=True, footer_visible=False, header_visible=False, resizable=False, toolbar=Toolbar(tooli…"
      ]
     },
     "metadata": {},
     "output_type": "display_data"
    }
   ],
   "source": [
    "fig, data_figure = odmr(np.arange(2.82e9, 2.92e9, 0.2e6), exposure=0.1, power=-30, \\\n",
    "                                config_instances={**config_instances})"
   ]
  },
  {
   "cell_type": "code",
   "execution_count": 34,
   "id": "33ad8d2c-a506-4eca-be0d-eb392523369b",
   "metadata": {},
   "outputs": [
    {
     "data": {
      "application/vnd.jupyter.widget-view+json": {
       "model_id": "10a072ae0c314c9784716aae53a38e95",
       "version_major": 2,
       "version_minor": 0
      },
      "image/png": "[encoded data removed]",
      "text/html": [
       "\n",
       "            <div style=\"display: inline-block;\">\n",
       "                <div class=\"jupyter-widgets widget-label\" style=\"text-align: center;\">\n",
       "                    Figure\n",
       "                </div>\n",
       "                <img src='data:image/png;base64,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' width=630.0/>\n",
       "            </div>\n",
       "        "
      ],
      "text/plain": [
       "Canvas(capture_scroll=True, footer_visible=False, header_visible=False, resizable=False, toolbar=Toolbar(tooli…"
      ]
     },
     "metadata": {},
     "output_type": "display_data"
    },
    {
     "name": "stdout",
     "output_type": "stream",
     "text": [
      "\n"
     ]
    }
   ],
   "source": [
    "pl_test_dict = {'pl_height':10000, 'pl_width':4, 'pl_center':[5, -5], 'pl_bg':5000}\n",
    "fig, data_figure = pl(data_x = [np.arange(-10, 10), np.arange(-10, 10)], exposure=0.1, \\\n",
    "                                config_instances={**config_instances, **pl_test_dict}, is_dis=False, repeat=1)"
   ]
  },
  {
   "cell_type": "code",
   "execution_count": 47,
   "id": "b7750b97",
   "metadata": {},
   "outputs": [
    {
     "ename": "AttributeError",
     "evalue": "'Colorbar' object has no attribute 'labels'",
     "output_type": "error",
     "traceback": [
      "\u001b[1;31m---------------------------------------------------------------------------\u001b[0m",
      "\u001b[1;31mAttributeError\u001b[0m                            Traceback (most recent call last)",
      "\u001b[1;32m~\\AppData\\Local\\Temp/ipykernel_12308/3442512106.py\u001b[0m in \u001b[0;36m<module>\u001b[1;34m\u001b[0m\n\u001b[1;32m----> 1\u001b[1;33m \u001b[0mfig\u001b[0m\u001b[1;33m.\u001b[0m\u001b[0maxes\u001b[0m\u001b[1;33m[\u001b[0m\u001b[1;36m0\u001b[0m\u001b[1;33m]\u001b[0m\u001b[1;33m.\u001b[0m\u001b[0mimages\u001b[0m\u001b[1;33m[\u001b[0m\u001b[1;36m0\u001b[0m\u001b[1;33m]\u001b[0m\u001b[1;33m.\u001b[0m\u001b[0mcolorbar\u001b[0m\u001b[1;33m.\u001b[0m\u001b[0mlabels\u001b[0m\u001b[1;33m\u001b[0m\u001b[1;33m\u001b[0m\u001b[0m\n\u001b[0m",
      "\u001b[1;31mAttributeError\u001b[0m: 'Colorbar' object has no attribute 'labels'"
     ]
    }
   ],
   "source": [
    "fig.axes[0].images[0].colorbar.labels"
   ]
  },
  {
   "cell_type": "code",
   "execution_count": 48,
   "id": "0abe123f",
   "metadata": {},
   "outputs": [
    {
     "data": {
      "text/plain": [
       "'a'"
      ]
     },
     "execution_count": 48,
     "metadata": {},
     "output_type": "execute_result"
    }
   ],
   "source": [
    "fig.axes[0].images[0].colorbar.ax.yaxis.label.get_text()"
   ]
  },
  {
   "cell_type": "code",
   "execution_count": 7,
   "id": "38f3da2a",
   "metadata": {},
   "outputs": [
    {
     "name": "stdout",
     "output_type": "stream",
     "text": [
      "PL started\n",
      "Live started\n",
      "Plot stopped\n",
      "Live started\n",
      "Plot stopped\n",
      "Live started\n",
      "Plot stopped\n",
      "Live started\n",
      "Plot stopped\n",
      "Live started\n",
      "Plot stopped\n",
      "Live started\n",
      "Live started\n",
      "Live started\n",
      "Live started\n"
     ]
    }
   ],
   "source": [
    "pl_test_dict = {'pl_height':10000, 'pl_width':4, 'pl_center':[5, -5], 'pl_bg':5000}\n",
    "fig, data_figure = pl(data_x = [np.arange(-10, 10), np.arange(-10, 10)], exposure=0.1, \\\n",
    "                                config_instances={**config_instances, **pl_test_dict}, is_dis=True, repeat=2, is_GUI=True)"
   ]
  },
  {
   "cell_type": "code",
   "execution_count": 14,
   "id": "4180cf49",
   "metadata": {},
   "outputs": [
    {
     "data": {
      "text/plain": [
       "0"
      ]
     },
     "execution_count": 14,
     "metadata": {},
     "output_type": "execute_result"
    }
   ],
   "source": [
    "config_instances['wavemeter'].wavelength "
   ]
  },
  {
   "cell_type": "code",
   "execution_count": 19,
   "id": "6a54d747-fae9-4326-bea0-cc64c1df0964",
   "metadata": {},
   "outputs": [],
   "source": [
    "x=np.array([np.arange(-10, 20, 1), np.arange(-10, 20, 1)])"
   ]
  },
  {
   "cell_type": "code",
   "execution_count": 21,
   "id": "8ea42f41",
   "metadata": {},
   "outputs": [
    {
     "data": {
      "text/plain": [
       "array([[-10,  -9,  -8,  -7,  -6,  -5,  -4,  -3,  -2,  -1,   0,   1,   2,\n",
       "          3,   4,   5,   6,   7,   8,   9,  10,  11,  12,  13,  14,  15,\n",
       "         16,  17,  18,  19],\n",
       "       [-10,  -9,  -8,  -7,  -6,  -5,  -4,  -3,  -2,  -1,   0,   1,   2,\n",
       "          3,   4,   5,   6,   7,   8,   9,  10,  11,  12,  13,  14,  15,\n",
       "         16,  17,  18,  19]])"
      ]
     },
     "execution_count": 21,
     "metadata": {},
     "output_type": "execute_result"
    }
   ],
   "source": [
    "x"
   ]
  },
  {
   "cell_type": "code",
   "execution_count": 22,
   "id": "f0f07f20",
   "metadata": {},
   "outputs": [
    {
     "data": {
      "text/plain": [
       "2"
      ]
     },
     "execution_count": 22,
     "metadata": {},
     "output_type": "execute_result"
    }
   ],
   "source": [
    "len(x)"
   ]
  },
  {
   "cell_type": "code",
   "execution_count": 17,
   "id": "c0b317ba",
   "metadata": {},
   "outputs": [
    {
     "name": "stdout",
     "output_type": "stream",
     "text": [
      "0 -10\n",
      "1 -9\n",
      "2 -8\n",
      "3 -7\n",
      "4 -6\n",
      "5 -5\n",
      "6 -4\n",
      "7 -3\n",
      "8 -2\n",
      "9 -1\n",
      "10 0\n",
      "11 1\n",
      "12 2\n",
      "13 3\n",
      "14 4\n",
      "15 5\n",
      "16 6\n",
      "17 7\n",
      "18 8\n",
      "19 9\n",
      "20 10\n",
      "21 11\n",
      "22 12\n",
      "23 13\n",
      "24 14\n",
      "25 15\n",
      "26 16\n",
      "27 17\n",
      "28 18\n",
      "29 19\n"
     ]
    }
   ],
   "source": [
    "for i, xx in enumerate(x[0]):\n",
    "    print(i, xx)"
   ]
  },
  {
   "cell_type": "code",
   "execution_count": 13,
   "id": "79286fb1",
   "metadata": {},
   "outputs": [],
   "source": [
    "import sys\n",
    "from PyQt5.QtWidgets import QApplication, QMainWindow, QPushButton\n",
    "from threading import Thread\n",
    "from PyQt5 import QtCore, QtWidgets\n",
    "from PyQt5.QtWidgets import QHBoxLayout, QWidget, QPushButton, QLabel, QLineEdit, QDoubleSpinBox, QSizePolicy\n",
    "from PyQt5.QtCore import QThread, pyqtSignal\n",
    "\n",
    "# 简单的 PyQt GUI 示例\n",
    "class MyGUI(QMainWindow):\n",
    "    def __init__(self):\n",
    "        super().__init__()\n",
    "        self.setWindowTitle(\"Pulse Timing GUI\")\n",
    "        self.setGeometry(100, 100, 400, 300)\n",
    "        \n",
    "        self.button = QPushButton(\"Click me\", self)\n",
    "        self.button.clicked.connect(self.on_button_click)\n",
    "        self.button.setGeometry(150, 130, 100, 40)\n",
    "        self.show()\n",
    "        \n",
    "    def on_button_click(self):\n",
    "        print(\"Button clicked!\")\n",
    "        \n",
    "    def closeEvent(self, event):\n",
    "        # 让 QApplication 的事件循环退出\n",
    "        QApplication.quit()\n",
    "        event.accept()\n",
    "\n",
    "# 在新线程中运行 PyQt 应用程序\n",
    "def run_app():\n",
    "    if hasattr(QtCore.Qt, 'AA_EnableHighDpiScaling'):\n",
    "        QtWidgets.QApplication.setAttribute(QtCore.Qt.AA_EnableHighDpiScaling, True)\n",
    "\n",
    "    if hasattr(QtCore.Qt, 'AA_UseHighDpiPixmaps'):\n",
    "        QtWidgets.QApplication.setAttribute(QtCore.Qt.AA_UseHighDpiPixmaps, True)\n",
    "        \n",
    "    \n",
    "    app = QtCore.QCoreApplication.instance()\n",
    "    if app is None:\n",
    "        app = QtWidgets.QApplication(sys.argv)\n",
    "\n",
    "    w = MyGUI()\n",
    "    #w.show()\n",
    "    app.setStyle('Windows')\n",
    "    try:\n",
    "        sys.exit(app.exec_())\n",
    "    except SystemExit as se:\n",
    "        if se.code != 0:\n",
    "            raise se\n",
    "\n",
    "# 在 Jupyter Notebook 中调用\n",
    "def start_gui_in_thread():\n",
    "    gui_thread = Thread(target=run_app)\n",
    "    gui_thread.start()\n",
    "\n",
    "# 调用该函数以启动 GUI"
   ]
  },
  {
   "cell_type": "code",
   "execution_count": 15,
   "id": "99465b83",
   "metadata": {},
   "outputs": [],
   "source": [
    "start_gui_in_thread()"
   ]
  },
  {
   "cell_type": "code",
   "execution_count": 9,
   "id": "ddd59a18",
   "metadata": {},
   "outputs": [
    {
     "data": {
      "text/plain": [
       "33.333333333333336"
      ]
     },
     "execution_count": 9,
     "metadata": {},
     "output_type": "execute_result"
    }
   ],
   "source": [
    "100/3"
   ]
  },
  {
   "cell_type": "code",
   "execution_count": 5,
   "id": "b6ae374c",
   "metadata": {},
   "outputs": [],
   "source": [
    "from confocal_gui.gui import MainWindow_PLE\n",
    "\n",
    "def GUI_PLE(config_instances):\n",
    "    from threading import Thread\n",
    "    \"\"\"\n",
    "    The function opens pyqt GUI for PLE, PL, live counts, and pulse control.\n",
    "    Save button will also output data and figure to jupyter notebook.\n",
    "   \n",
    "    Examples\n",
    "    --------\n",
    "    >>> GUI()\n",
    "\n",
    "    Read range button reads range from area created by mouse left \n",
    "\n",
    "    Read wavelength button reads wavelength from point created by mouse right in PLE\n",
    "\n",
    "    Read XY button reads x, y coordinates from point created by mouse right in PL \n",
    "\n",
    "    Change unit changes PLE unit between 'nm' and 'GHz'\n",
    "\n",
    "    Move sacnner moves scanner to x, y displayed \n",
    "    \"\"\"\n",
    "\n",
    "    def GUI_handler():\n",
    "\n",
    "        if hasattr(QtCore.Qt, 'AA_EnableHighDpiScaling'):\n",
    "            QtWidgets.QApplication.setAttribute(QtCore.Qt.AA_EnableHighDpiScaling, True)\n",
    "\n",
    "        if hasattr(QtCore.Qt, 'AA_UseHighDpiPixmaps'):\n",
    "            QtWidgets.QApplication.setAttribute(QtCore.Qt.AA_UseHighDpiPixmaps, True)\n",
    "            \n",
    "        \n",
    "        app = QtCore.QCoreApplication.instance()\n",
    "        if app is None:\n",
    "            app = QtWidgets.QApplication(sys.argv)\n",
    "\n",
    "        w = MainWindow_PLE(config_instances)\n",
    "        app.setStyle('PLE GUI')\n",
    "        try:\n",
    "            sys.exit(app.exec_())\n",
    "        except SystemExit as se:\n",
    "            if se.code != 0:\n",
    "                raise se\n",
    "        # make sure jupyter notebook does not catch error when exit normally\n",
    "\n",
    "\n",
    "    gui_thread = Thread(target=GUI_handler)\n",
    "    gui_thread.start()\n",
    "    #GUI_handler()"
   ]
  },
  {
   "cell_type": "code",
   "execution_count": 6,
   "id": "d047f45b",
   "metadata": {},
   "outputs": [
    {
     "name": "stdout",
     "output_type": "stream",
     "text": [
      "PLE started\n",
      "scanner: (x=0, y=0)\n",
      "Plot stopped\n",
      "PLE started\n",
      "scanner: (x=0, y=0)\n",
      "Plot stopped\n",
      "curve fitted, center = 737.102\n",
      "FWHM = 0.00101\n",
      "in GHz = 0.5556\n",
      "height = 9958.28763\n",
      "bg = -1.79294\n"
     ]
    }
   ],
   "source": [
    "ple_test_dict = {'ple_height':100000, 'ple_width':0.001, 'ple_center':737.102}\n",
    "GUI_PLE(config_instances={**config_instances, **ple_test_dict})"
   ]
  },
  {
   "cell_type": "code",
   "execution_count": 1,
   "id": "b5251fa0",
   "metadata": {},
   "outputs": [],
   "source": [
    "import sys\n",
    "from PyQt5.QtWidgets import (\n",
    "    QApplication, QMainWindow, QWidget, QHBoxLayout, QVBoxLayout, \n",
    "    QLabel, QPushButton, QGroupBox, QSpinBox, QFrame\n",
    ")\n",
    "from PyQt5.QtCore import (\n",
    "    Qt, QMimeData\n",
    ")\n",
    "from PyQt5.QtGui import (\n",
    "    QDrag, QPixmap\n",
    ")\n",
    "\n",
    "\n",
    "class DraggableItem:\n",
    "    \"\"\"\n",
    "    Save properties\n",
    "    \"\"\"\n",
    "    def __init__(self, widget, item_type):\n",
    "        self.widget = widget\n",
    "        self.item_type = item_type\n",
    "        if self.item_type != 'pulse':\n",
    "            self.widget.setStyleSheet(\"QGroupBox { border: 2px solid grey; }\")\n",
    "\n",
    "\n",
    "class DragContainer(QWidget):\n",
    "    \"\"\"\n",
    "    Drag container for dragable bracket in pulse control gui\n",
    "    \"\"\"\n",
    "    def __init__(self, parent=None):\n",
    "        super().__init__(parent)\n",
    "        self.setAcceptDrops(True)\n",
    "\n",
    "        self.layout_main = QHBoxLayout(self)\n",
    "        self.layout_main.setSpacing(20)\n",
    "        self.items = []\n",
    "\n",
    "        self.dragStartPos = None\n",
    "        self.draggingIndex = None\n",
    "\n",
    "        # maintain a indicator between containers but hide \n",
    "        self.insert_indicator = QFrame()\n",
    "        self.insert_indicator.setFrameShape(QFrame.VLine)\n",
    "        self.insert_indicator.setFrameShadow(QFrame.Raised)\n",
    "        self.insert_indicator.setStyleSheet(\"QFrame { background-color: grey; width: 2px; }\")\n",
    "        self.insert_indicator.hide()\n",
    "\n",
    "    def add_item(self, widget, item_type):\n",
    "        it = DraggableItem(widget, item_type)\n",
    "        self.items.append(it)\n",
    "        self.layout_main.addWidget(widget)\n",
    "\n",
    "    def insert_item(self, index, widget, item_type):\n",
    "        it = DraggableItem(widget, item_type)\n",
    "        self.items.insert(index, it)\n",
    "        self.refresh_layout()\n",
    "\n",
    "    def refresh_layout(self):\n",
    "        # remove all widget\n",
    "        while self.layout_main.count() > 0:\n",
    "            c = self.layout_main.takeAt(0)\n",
    "            w = c.widget()\n",
    "            if w:\n",
    "                w.setParent(None)\n",
    "        # reinsert follows order\n",
    "        for it in self.items:\n",
    "            self.layout_main.addWidget(it.widget)\n",
    "        # add end indicator\n",
    "        self.layout_main.addWidget(self.insert_indicator)\n",
    "        self.insert_indicator.hide()\n",
    "\n",
    "    def index_of_widget(self, w):\n",
    "        for i, it in enumerate(self.items):\n",
    "            if it.widget == w:\n",
    "                return i\n",
    "        return -1\n",
    "\n",
    "    # ========== Drag & Drop ==========\n",
    "    def mousePressEvent(self, event):\n",
    "        if event.button() == Qt.LeftButton:\n",
    "            self.dragStartPos = event.pos()\n",
    "            clicked_index = self.find_child_index_by_pos(event.pos())\n",
    "            if clicked_index != -1:\n",
    "                self.draggingIndex = clicked_index\n",
    "        super().mousePressEvent(event)\n",
    "\n",
    "    def mouseMoveEvent(self, event):\n",
    "        if (event.buttons() & Qt.LeftButton) and self.dragStartPos is not None:\n",
    "            distance = (event.pos() - self.dragStartPos).manhattanLength()\n",
    "            if distance > QApplication.startDragDistance():\n",
    "                if self.draggingIndex is not None:\n",
    "                    self.startDrag(self.draggingIndex)\n",
    "                    self.draggingIndex = None\n",
    "                    self.dragStartPos = None\n",
    "        super().mouseMoveEvent(event)\n",
    "\n",
    "    def startDrag(self, index):\n",
    "        drag = QDrag(self)\n",
    "        mime = QMimeData()\n",
    "        mime.setData(\"application/x-drag-bracket\", str(index).encode(\"utf-8\"))\n",
    "        drag.setMimeData(mime)\n",
    "\n",
    "        # highlight selected drag container\n",
    "        self.index = index\n",
    "        self.items[self.index].widget.setStyleSheet(\"QGroupBox { border: 2px solid red; }\")\n",
    "\n",
    "        # screentshot selected container\n",
    "        pixmap = QPixmap(self.items[self.index].widget.size())\n",
    "        self.items[self.index].widget.render(pixmap)\n",
    "        drag.setPixmap(pixmap)\n",
    "\n",
    "        dropAction = drag.exec_(Qt.MoveAction)\n",
    "\n",
    "        # end of drag\n",
    "        self.items[self.index].widget.setStyleSheet(\"QGroupBox { border: 2px solid grey; }\")\n",
    "\n",
    "    def dragEnterEvent(self, event):\n",
    "        if event.mimeData().hasFormat(\"application/x-drag-bracket\"):\n",
    "            event.acceptProposedAction()\n",
    "        else:\n",
    "            super().dragEnterEvent(event)\n",
    "\n",
    "    def dragMoveEvent(self, event):\n",
    "        if event.mimeData().hasFormat(\"application/x-drag-bracket\"):\n",
    "            event.acceptProposedAction()\n",
    "            # pos of drag\n",
    "            insert_pos = self.get_item_at_pos(event.pos())\n",
    "            self.show_insert_indicator(insert_pos)\n",
    "        else:\n",
    "            super().dragMoveEvent(event)\n",
    "\n",
    "    def dropEvent(self, event):\n",
    "        if event.mimeData().hasFormat(\"application/x-drag-bracket\"):\n",
    "            # 1) get item of drag container\n",
    "            raw_data = event.mimeData().data(\"application/x-drag-bracket\")\n",
    "            old_bytes = bytes(raw_data)\n",
    "            old_index = int(old_bytes.decode(\"utf-8\"))\n",
    "            dragged_item = self.items[old_index]\n",
    "\n",
    "            # 2) new pos\n",
    "            insert_pos = self.get_item_at_pos(event.pos())\n",
    "            # 3) new item array\n",
    "            new_items = self.items[:]             \n",
    "            new_items.remove(dragged_item)\n",
    "            if insert_pos > old_index:\n",
    "                insert_pos -= 1\n",
    "            new_items.insert(insert_pos, dragged_item)\n",
    "\n",
    "            # 4) check constarin\n",
    "            if not self.check_bracket_constraints(new_items):\n",
    "                event.ignore()\n",
    "                self.insert_indicator.hide()\n",
    "                return\n",
    "            else:\n",
    "                event.setDropAction(Qt.MoveAction)\n",
    "                event.accept()\n",
    "                self.index = insert_pos\n",
    "                self.items = new_items\n",
    "                self.refresh_layout()\n",
    "                self.insert_indicator.hide()\n",
    "\n",
    "        else:\n",
    "            super().dropEvent(event)\n",
    "\n",
    "\n",
    "    def dragLeaveEvent(self, event):\n",
    "        self.insert_indicator.hide()\n",
    "        super().dragLeaveEvent(event)\n",
    "\n",
    "    # ========== sub functions ==========\n",
    "    def find_child_index_by_pos(self, pos):\n",
    "        for i, it in enumerate(self.items):\n",
    "            if it.widget.geometry().contains(pos):\n",
    "                return i\n",
    "        return -1\n",
    "\n",
    "    def get_item_at_pos(self, pos):\n",
    "        x = pos.x()\n",
    "        for i, it in enumerate(self.items):\n",
    "            w = it.widget\n",
    "            geo = w.geometry()\n",
    "            mid = geo.x() + geo.width() // 2\n",
    "            if x < mid:\n",
    "                return i\n",
    "        return len(self.items)\n",
    "\n",
    "    def show_insert_indicator(self, index):\n",
    "        self.layout_main.removeWidget(self.insert_indicator)\n",
    "        self.layout_main.insertWidget(index, self.insert_indicator)\n",
    "        self.insert_indicator.show()\n",
    "\n",
    "    def check_bracket_constraints(self, item_list=None):\n",
    "        if item_list is None:\n",
    "            item_list = self.items  \n",
    "\n",
    "        start_idx = None\n",
    "        end_idx = None\n",
    "        for i, it in enumerate(item_list):\n",
    "            if it.item_type == \"bracket_start\":\n",
    "                start_idx = i\n",
    "            elif it.item_type == \"bracket_end\":\n",
    "                end_idx = i\n",
    "\n",
    "        if start_idx is not None and end_idx is not None:\n",
    "            # 1) end must larger than start\n",
    "            if end_idx <= start_idx:\n",
    "                return False\n",
    "            # 2) at least two pulses away\n",
    "            if end_idx < start_idx + 3:\n",
    "                return False\n",
    "\n",
    "        return True\n",
    "\n",
    "\n",
    "class MainWindow(QMainWindow):\n",
    "    \"\"\"\n",
    "    Main window that demonstrates the DragContainer usage \n",
    "    with a single pair of brackets and multiple pulses.\n",
    "    \"\"\"\n",
    "    def __init__(self):\n",
    "        super().__init__()\n",
    "        self.setWindowTitle(\"Drag & Drop Single Bracket Demo\")\n",
    "        self.bracket_exists = False\n",
    "\n",
    "        self.drag_container = DragContainer()\n",
    "\n",
    "        # ========= Top buttons =========\n",
    "        top_widget = QWidget()\n",
    "        top_layout = QHBoxLayout(top_widget)\n",
    "\n",
    "        btn_add_pulse = QPushButton(\"Add Pulse\")\n",
    "        btn_add_pulse.clicked.connect(self.on_add_pulse)\n",
    "        top_layout.addWidget(btn_add_pulse)\n",
    "\n",
    "        self.btn_add_bracket = QPushButton(\"Add Bracket\")\n",
    "        self.btn_add_bracket.clicked.connect(self.on_add_bracket)\n",
    "        top_layout.addWidget(self.btn_add_bracket)\n",
    "\n",
    "        btn_print = QPushButton(\"Print Items\")\n",
    "        btn_print.clicked.connect(self.on_print_items)\n",
    "        top_layout.addWidget(btn_print)\n",
    "\n",
    "        top_layout.addStretch()\n",
    "\n",
    "        # ========= Main layout =========\n",
    "        main_widget = QWidget()\n",
    "        main_layout = QVBoxLayout(main_widget)\n",
    "        main_layout.addWidget(top_widget)\n",
    "        main_layout.addWidget(self.drag_container)\n",
    "\n",
    "        self.setCentralWidget(main_widget)\n",
    "        self.resize(900, 400)\n",
    "\n",
    "        # By default, add some pulse items\n",
    "        for _ in range(3):\n",
    "            self.on_add_pulse()\n",
    "\n",
    "    def on_add_pulse(self):\n",
    "        \"\"\"\n",
    "        Add a pulse QGroupBox to the end.\n",
    "        \"\"\"\n",
    "        box = QGroupBox(\"Pulse\")\n",
    "        layout = QVBoxLayout(box)\n",
    "        layout.addWidget(QLabel(\"This is a pulse.\"))\n",
    "        self.drag_container.add_item(box, \"pulse\")\n",
    "\n",
    "    def on_add_bracket(self):\n",
    "        \"\"\"\n",
    "        If brackets do not exist yet:\n",
    "          1) Find the first pulse index and the last pulse index.\n",
    "          2) Insert the start bracket right before the first pulse.\n",
    "          3) Insert the end bracket right after the last pulse.\n",
    "        If brackets already exist, remove them.\n",
    "        \"\"\"\n",
    "        if not self.bracket_exists:\n",
    "            # 1) Identify the indices of the first and last pulse\n",
    "            first_pulse_index = 0\n",
    "            last_pulse_index = len(self.drag_container.items)\n",
    "        \n",
    "\n",
    "            # 2) Create the start bracket widget\n",
    "            start_box = QGroupBox(\"StartBracket\")\n",
    "            vb1 = QVBoxLayout(start_box)\n",
    "            vb1.addWidget(QLabel(\"[StartBracket]\"))\n",
    "\n",
    "            # 3) Create the end bracket widget\n",
    "            end_box = QGroupBox(\"EndBracket\")\n",
    "            vb2 = QVBoxLayout(end_box)\n",
    "            vb2.addWidget(QLabel(\"[EndBracket]\"))\n",
    "            sp = QSpinBox()\n",
    "            sp.setRange(1, 999)\n",
    "            sp.setValue(2)\n",
    "            vb2.addWidget(sp)\n",
    "\n",
    "            # -- Inserting the brackets --\n",
    "            # NOTE: Insert the end bracket first so the index of the first pulse won't shift.\n",
    "            #       We want the end bracket after the last pulse, so its index is last_pulse_index + 1.\n",
    "            #self.drag_container.insert_item(last_pulse_index + 1, end_box, \"bracket_end\")\n",
    "\n",
    "            # Now insert the start bracket right before the first pulse (no shift occurs yet).\n",
    "            self.drag_container.insert_item(0, start_box, \"bracket_start\")\n",
    "            self.drag_container.insert_item(len(self.drag_container.items), end_box, \"bracket_end\")\n",
    "            #self.drag_container.refresh_layout()\n",
    "\n",
    "            # Toggle flag and button text\n",
    "            self.bracket_exists = True\n",
    "            self.btn_add_bracket.setText(\"Delete Bracket\")\n",
    "\n",
    "        else:\n",
    "            # Remove the bracket items only, leaving pulses intact\n",
    "            self.delete_bracket_only()\n",
    "            self.bracket_exists = False\n",
    "            self.btn_add_bracket.setText(\"Add Bracket\")\n",
    "\n",
    "\n",
    "    def delete_bracket_only(self):\n",
    "        \"\"\"\n",
    "        Remove items of type 'bracket_start' and 'bracket_end', keeping only pulses.\n",
    "        \"\"\"\n",
    "        new_list = []\n",
    "        for it in self.drag_container.items:\n",
    "            if it.item_type not in (\"bracket_start\", \"bracket_end\"):\n",
    "                new_list.append(it)\n",
    "        self.drag_container.items = new_list\n",
    "        self.drag_container.refresh_layout()\n",
    "\n",
    "    def on_print_items(self):\n",
    "        \"\"\"\n",
    "        Print the current sequence of items (by their type) for debugging.\n",
    "        \"\"\"\n",
    "        types = [it.item_type for it in self.drag_container.items]\n",
    "        print(\"Current items:\", types)\n",
    "\n",
    "\n",
    "if __name__ == \"__main__\":\n",
    "    app = QApplication(sys.argv)\n",
    "    w = MainWindow()\n",
    "    w.show()\n",
    "    try:\n",
    "        sys.exit(app.exec_())\n",
    "    except SystemExit as se:\n",
    "        if se.code != 0:\n",
    "            raise se\n"
   ]
  },
  {
   "cell_type": "code",
   "execution_count": 7,
   "id": "75ecd1a2",
   "metadata": {},
   "outputs": [],
   "source": [
    "change_to_inline('nbagg', 1)"
   ]
  },
  {
   "cell_type": "code",
   "execution_count": 20,
   "id": "b0d6417e",
   "metadata": {},
   "outputs": [],
   "source": [
    "data_y = np.array([(1,2), (2,3), (3,4), np.nan])"
   ]
  },
  {
   "cell_type": "code",
   "execution_count": 22,
   "id": "670f7dd4",
   "metadata": {},
   "outputs": [
    {
     "data": {
      "text/plain": [
       "array([(1, 2), (2, 3), (3, 4)], dtype=object)"
      ]
     },
     "execution_count": 22,
     "metadata": {},
     "output_type": "execute_result"
    }
   ],
   "source": [
    "data_y[:3]"
   ]
  },
  {
   "cell_type": "code",
   "execution_count": 17,
   "id": "fb6ae633",
   "metadata": {},
   "outputs": [
    {
     "data": {
      "text/plain": [
       "6"
      ]
     },
     "execution_count": 17,
     "metadata": {},
     "output_type": "execute_result"
    }
   ],
   "source": [
    "data_y = np.array([(1,2), (2,3), (3,4)], dtype=object)\n",
    "len(data_y.flatten())"
   ]
  },
  {
   "cell_type": "code",
   "execution_count": 25,
   "id": "2b84f1ee",
   "metadata": {},
   "outputs": [
    {
     "data": {
      "text/plain": [
       "[<matplotlib.lines.Line2D at 0x2b627fd7688>,\n",
       " <matplotlib.lines.Line2D at 0x2b627fcf108>,\n",
       " <matplotlib.lines.Line2D at 0x2b627fd7a08>]"
      ]
     },
     "execution_count": 25,
     "metadata": {},
     "output_type": "execute_result"
    },
    {
     "data": {
      "image/png": "[encoded data removed]",
      "text/plain": [
       "<Figure size 630x472.5 with 1 Axes>"
      ]
     },
     "metadata": {
      "needs_background": "light"
     },
     "output_type": "display_data"
    }
   ],
   "source": [
    "plt.plot([0.1, 0.2, 0.3, 0.4], [(1,2,3), (2,3,4), (np.nan, np.nan, np.nan), (np.nan, np.nan, np.nan)])"
   ]
  },
  {
   "cell_type": "code",
   "execution_count": 50,
   "id": "ab766112",
   "metadata": {},
   "outputs": [
    {
     "data": {
      "image/png": "[encoded data removed]",
      "text/plain": [
       "<Figure size 630x472.5 with 1 Axes>"
      ]
     },
     "metadata": {
      "needs_background": "light"
     },
     "output_type": "display_data"
    }
   ],
   "source": [
    "line = plt.imshow([[1,2,3],[4,5,6],[7,8,9]])"
   ]
  },
  {
   "cell_type": "code",
   "execution_count": 52,
   "id": "b82fb95c",
   "metadata": {},
   "outputs": [
    {
     "ename": "TypeError",
     "evalue": "'AxesImage' object is not subscriptable",
     "output_type": "error",
     "traceback": [
      "\u001b[1;31m---------------------------------------------------------------------------\u001b[0m",
      "\u001b[1;31mTypeError\u001b[0m                                 Traceback (most recent call last)",
      "\u001b[1;32m~\\AppData\\Local\\Temp/ipykernel_22552/3806381873.py\u001b[0m in \u001b[0;36m<module>\u001b[1;34m\u001b[0m\n\u001b[1;32m----> 1\u001b[1;33m \u001b[0mline\u001b[0m\u001b[1;33m[\u001b[0m\u001b[1;36m0\u001b[0m\u001b[1;33m]\u001b[0m\u001b[1;33m.\u001b[0m\u001b[0mget_xlim\u001b[0m\u001b[1;33m(\u001b[0m\u001b[1;33m)\u001b[0m\u001b[1;33m\u001b[0m\u001b[1;33m\u001b[0m\u001b[0m\n\u001b[0m",
      "\u001b[1;31mTypeError\u001b[0m: 'AxesImage' object is not subscriptable"
     ]
    }
   ],
   "source": [
    ".get_xlim()"
   ]
  },
  {
   "cell_type": "code",
   "execution_count": 17,
   "id": "79131644",
   "metadata": {},
   "outputs": [
    {
     "data": {
      "text/plain": [
       "array([0., 0., 0., 0., 0., 0., 0., 0., 0., 0., 0., 0., 0., 0., 0., 0.])"
      ]
     },
     "execution_count": 17,
     "metadata": {},
     "output_type": "execute_result"
    }
   ],
   "source": [
    "np.zeros((4,4)).flatten()[:30]"
   ]
  },
  {
   "cell_type": "code",
   "execution_count": 176,
   "id": "ea44477a",
   "metadata": {},
   "outputs": [],
   "source": [
    "line.set_array([[1,2,3],[4,5,6], [7,8,0]])"
   ]
  },
  {
   "cell_type": "code",
   "execution_count": 1,
   "id": "a2cc851b",
   "metadata": {},
   "outputs": [
    {
     "data": {
      "image/png": "[encoded data removed]",
      "text/plain": [
       "<Figure size 432x288 with 2 Axes>"
      ]
     },
     "metadata": {
      "needs_background": "light"
     },
     "output_type": "display_data"
    }
   ],
   "source": [
    "import numpy as np\n",
    "import matplotlib.pyplot as plt\n",
    "\n",
    "# 初始化图像数据，假设图像大小为100x100\n",
    "img_size = (100, 100)\n",
    "data = np.zeros(img_size)\n",
    "\n",
    "# 创建图形和轴\n",
    "fig, ax = plt.subplots()\n",
    "im = ax.imshow(data, cmap='viridis', vmin=0, vmax=1)\n",
    "plt.colorbar(im, ax=ax)\n",
    "ax.set_title('test')\n",
    "plt.ion()  # 开启交互模式\n",
    "plt.show()\n",
    "\n",
    "# 示例点数据（x, y 坐标）\n",
    "points = [(10, 10), (20, 30), (50, 50), (70, 80), (90, 20), (30, 60), (80, 40), (25, 75), (60, 10), (85, 95)]\n",
    "\n",
    "# 动态添加点\n",
    "for point in points:\n",
    "    x, y = point\n",
    "    if 0 <= x < img_size[0] and 0 <= y < img_size[1]:\n",
    "        data[x, y] = 1  # 设置点的值，例如设为1\n",
    "        im.set_data(data)  # 更新图像数据\n",
    "        im.autoscale()  # 可选：自动缩放颜色范围\n",
    "        fig.canvas.draw_idle()\n",
    "        plt.pause(0.5)  # 暂停以显示更新\n",
    "\n",
    "plt.ioff()  # 关闭交互模式\n",
    "plt.show()\n"
   ]
  },
  {
   "cell_type": "code",
   "execution_count": 2,
   "id": "2da4285e",
   "metadata": {},
   "outputs": [],
   "source": [
    "a = np.zeros((4,4)).flatten()"
   ]
  },
  {
   "cell_type": "code",
   "execution_count": 3,
   "id": "a2c19a53",
   "metadata": {},
   "outputs": [
    {
     "data": {
      "text/plain": [
       "array([[0., 0., 0., 0.],\n",
       "       [0., 0., 0., 0.],\n",
       "       [0., 0., 0., 0.],\n",
       "       [0., 0., 0., 0.]])"
      ]
     },
     "execution_count": 3,
     "metadata": {},
     "output_type": "execute_result"
    }
   ],
   "source": [
    "a.reshape((4,4))"
   ]
  },
  {
   "cell_type": "code",
   "execution_count": 7,
   "id": "57dd5174",
   "metadata": {},
   "outputs": [
    {
     "data": {
      "text/plain": [
       "(array([ 6.,  8., 11.,  8., 11., 13., 11.,  9., 10., 13.]),\n",
       " array([0.01143545, 0.10713528, 0.20283511, 0.29853493, 0.39423476,\n",
       "        0.48993459, 0.58563442, 0.68133425, 0.77703408, 0.8727339 ,\n",
       "        0.96843373]),\n",
       " <BarContainer object of 10 artists>)"
      ]
     },
     "execution_count": 7,
     "metadata": {},
     "output_type": "execute_result"
    },
    {
     "data": {
      "image/png": "[encoded data removed]",
      "text/plain": [
       "<Figure size 432x288 with 1 Axes>"
      ]
     },
     "metadata": {
      "needs_background": "light"
     },
     "output_type": "display_data"
    }
   ],
   "source": [
    "plt.hist(np.random.random(100))"
   ]
  },
  {
   "cell_type": "code",
   "execution_count": 8,
   "id": "220a7087",
   "metadata": {},
   "outputs": [
    {
     "data": {
      "text/plain": [
       "(array([0., 0., 0., 0., 0., 1., 0., 0., 0., 0.]),\n",
       " array([-0.5, -0.4, -0.3, -0.2, -0.1,  0. ,  0.1,  0.2,  0.3,  0.4,  0.5]),\n",
       " <BarContainer object of 10 artists>)"
      ]
     },
     "execution_count": 8,
     "metadata": {},
     "output_type": "execute_result"
    },
    {
     "data": {
      "image/png": "[encoded data removed]",
      "text/plain": [
       "<Figure size 432x288 with 1 Axes>"
      ]
     },
     "metadata": {
      "needs_background": "light"
     },
     "output_type": "display_data"
    }
   ],
   "source": [
    "plt.hist([0,])"
   ]
  },
  {
   "cell_type": "code",
   "execution_count": 25,
   "id": "e61a76a5",
   "metadata": {},
   "outputs": [
    {
     "data": {
      "text/plain": [
       "2"
      ]
     },
     "execution_count": 25,
     "metadata": {},
     "output_type": "execute_result"
    }
   ],
   "source": [
    "np.max((1,2))"
   ]
  },
  {
   "cell_type": "code",
   "execution_count": null,
   "id": "bc841d98",
   "metadata": {},
   "outputs": [],
   "source": []
  }
 ],
 "metadata": {
  "kernelspec": {
   "display_name": "Python 3 (ipykernel)",
   "language": "python",
   "name": "python3"
  },
  "language_info": {
   "codemirror_mode": {
    "name": "ipython",
    "version": 3
   },
   "file_extension": ".py",
   "mimetype": "text/x-python",
   "name": "python",
   "nbconvert_exporter": "python",
   "pygments_lexer": "ipython3",
   "version": "3.7.7"
  },
  "widgets": {
   "application/vnd.jupyter.widget-state+json": {
    "state": {},
    "version_major": 2,
    "version_minor": 0
   }
  }
 },
 "nbformat": 4,
 "nbformat_minor": 5
}
