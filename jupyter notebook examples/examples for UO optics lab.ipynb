{
 "cells": [
  {
   "cell_type": "code",
   "execution_count": null,
   "id": "75804d0c",
   "metadata": {},
   "outputs": [],
   "source": [
    "import sys\n",
    "import os\n",
    "sys.path.append(os.path.abspath(\"../src\"))\n",
    "from Confocal_GUI.live_plot import change_to_inline, change_to_nbagg, enable_long_output, DataFigure\n",
    "from Confocal_GUI.logic import pl, live, odmr, GUI, rabi, spinecho, ramsey, t1, roduration\n",
    "from Confocal_GUI.device import USB6346, DSG836, initialize_classes, Pulse\n",
    "import numpy as np\n",
    "import matplotlib\n",
    "import matplotlib.pyplot as plt\n",
    "\n",
    "%load_ext autoreload\n",
    "%autoreload 2"
   ]
  },
  {
   "cell_type": "code",
   "execution_count": null,
   "id": "54940d45",
   "metadata": {},
   "outputs": [],
   "source": [
    "import pyvisa\n",
    "rm = pyvisa.ResourceManager()\n",
    "rm.list_resources()\n",
    "# get visa address of DSG836 here\n",
    "# and replace 'USB0::0x1AB1::0x099C::DSG8M223900103::INSTR' with the correct address you get from here"
   ]
  },
  {
   "cell_type": "code",
   "execution_count": null,
   "id": "83d40df3",
   "metadata": {},
   "outputs": [],
   "source": [
    "# initialize all classes and functions, bind them to devices wanted\n",
    "enable_long_output()\n",
    "# make sure that GUI() can output fig to jupyter notebook cell without being scrolled\n",
    "port_config = {'analog_signal':'ai0', 'analog_gate':'ai1', 'analog_gate_ref':'ai2',\\\n",
    "                           'apd_signal':'PFI3', 'apd_gate':'PFI4', 'apd_gate_ref':'PFI5'}\n",
    "\n",
    "config = {    \n",
    "    'counter': {'type': 'USB6346', 'port_config':port_config},    \n",
    "    'scanner': {'type': 'USB6346'},    \n",
    "    'rf': {'type': 'DSG836', 'visa_str'='USB0::0x1AB1::0x099C::DSG8M223900103::INSTR'},\n",
    "    'pulse': {'type': 'Pulse'},\n",
    "}\n",
    "# scanner, counter, etc. \n",
    "# are default keys for all functions to call objetive, 'type' defines bind which class\n",
    "# or function to the key.\n",
    "\n",
    "config_instances = initialize_classes(config, lookup_dict=globals(), namespace=globals())\n",
    "config_instances = {**config_instances, **{'display_scale':1}}"
   ]
  },
  {
   "cell_type": "code",
   "execution_count": null,
   "id": "fb66238c",
   "metadata": {},
   "outputs": [],
   "source": [
    "# refer to 'examples with virtual devices.ipynb' for a complete guide on basic use of this project"
   ]
  },
  {
   "cell_type": "markdown",
   "id": "204474ff",
   "metadata": {},
   "source": [
    "<h1 style=\"color: blue;\">cw-ODMR</h1>"
   ]
  },
  {
   "cell_type": "code",
   "execution_count": null,
   "id": "2656245b",
   "metadata": {},
   "outputs": [],
   "source": [
    "help(pulse.gui)"
   ]
  },
  {
   "cell_type": "code",
   "execution_count": null,
   "id": "0c520988",
   "metadata": {},
   "outputs": [],
   "source": [
    "# check you pulse sequence and check your BNC/SMA cables connections\n",
    "# make sure you hit the On Pulse button otherwise no gate signal for DAQ\n",
    "pulse.load_from_file('../src/Confocal_GUI/device/cwODMR_pulse*')\n",
    "pulse.gui()"
   ]
  },
  {
   "cell_type": "code",
   "execution_count": null,
   "id": "3723f80a",
   "metadata": {},
   "outputs": [],
   "source": [
    "help(odmr)"
   ]
  },
  {
   "cell_type": "code",
   "execution_count": null,
   "id": "22655d0c",
   "metadata": {},
   "outputs": [],
   "source": [
    "fig, data_figure = odmr(data_x=np.arange(2.88-0.1, 2.88+0.1, 0.001), exposure=0.1,\\\n",
    "                            power=-10,\\\n",
    "                            config_instances=config_instances, repeat=1, is_GUI=False,\\\n",
    "                            counter_mode='analog', data_mode='single', relim_mode='tight')"
   ]
  },
  {
   "cell_type": "code",
   "execution_count": null,
   "id": "8417a262",
   "metadata": {},
   "outputs": [],
   "source": [
    "# or use the GUI version\n",
    "fig, data_figure = odmr(data_x=np.arange(2.88-0.1, 2.88+0.1, 0.001), exposure=0.1,\\\n",
    "                            power=-10,\\\n",
    "                            config_instances=config_instances, repeat=1, is_GUI=True,\\\n",
    "                            counter_mode='analog', data_mode='single', relim_mode='tight')"
   ]
  },
  {
   "cell_type": "code",
   "execution_count": null,
   "id": "bf8f5668",
   "metadata": {},
   "outputs": [],
   "source": [
    "# zoom in into one dip and find the peak position using data_figure.lorent()\n",
    "# or just hit 'fit' button in GUI\n",
    "_, popt = data_figure.lorent()"
   ]
  },
  {
   "cell_type": "code",
   "execution_count": null,
   "id": "ee20f8e2",
   "metadata": {},
   "outputs": [],
   "source": [
    "# change RF power using \n",
    "rf.power = -20"
   ]
  },
  {
   "cell_type": "code",
   "execution_count": null,
   "id": "f0ff85a8",
   "metadata": {},
   "outputs": [],
   "source": [
    "# or using the gui\n",
    "rf.gui()"
   ]
  },
  {
   "cell_type": "code",
   "execution_count": null,
   "id": "4c8c0082",
   "metadata": {},
   "outputs": [],
   "source": [
    "# load another pulse sequence with reference data\n",
    "# make sure you hit the On Pulse button otherwise no gate signal for DAQ\n",
    "pulse.load_from_file('../src/Confocal_GUI/device/cwODMR_ref_pulse*')\n",
    "pulse.gui()"
   ]
  },
  {
   "cell_type": "code",
   "execution_count": null,
   "id": "17292c9d",
   "metadata": {},
   "outputs": [],
   "source": [
    "# or a easier way to design pulse sequence\n",
    "pulse.load_from_file('../src/Confocal_GUI/device/cwODMR_ref_auto_pulse*')\n",
    "pulse.gui()"
   ]
  },
  {
   "cell_type": "code",
   "execution_count": null,
   "id": "ecba8138",
   "metadata": {},
   "outputs": [],
   "source": [
    "# see how is reference data different from main data\n",
    "fig, data_figure = odmr(data_x=np.arange(2.88-0.1, 2.88+0.1, 0.001), exposure=0.1,\\\n",
    "                            power=-10,\\\n",
    "                            config_instances=config_instances, repeat=1, is_GUI=False,\\\n",
    "                            counter_mode='analog', data_mode='dual', relim_mode='tight')"
   ]
  },
  {
   "cell_type": "code",
   "execution_count": null,
   "id": "85a42428",
   "metadata": {},
   "outputs": [],
   "source": [
    "# see how subtraction/division can help reducing the drift of signal\n",
    "fig, data_figure = odmr(data_x=np.arange(2.88-0.1, 2.88+0.1, 0.001), exposure=0.1,\\\n",
    "                            power=-10,\\\n",
    "                            config_instances=config_instances, repeat=1, is_GUI=False,\\\n",
    "                            counter_mode='analog', data_mode='ref_sub', relim_mode='tight')"
   ]
  },
  {
   "cell_type": "markdown",
   "id": "d9eef270",
   "metadata": {},
   "source": [
    "<h1 style=\"color: blue;\">Rabi</h1>"
   ]
  },
  {
   "cell_type": "code",
   "execution_count": null,
   "id": "0dfb8738",
   "metadata": {},
   "outputs": [],
   "source": [
    "help(rabi)"
   ]
  },
  {
   "cell_type": "code",
   "execution_count": null,
   "id": "30f5d44d",
   "metadata": {},
   "outputs": [],
   "source": [
    "# try default\n",
    "# if it does not work well, try editting pulse sequence\n",
    "fig, data_figure = rabi(data_x=np.arange(20, 2000, 10), exposure=0.1, power=-10, frequency=2.88, \n",
    "                        pulse_file=None,\n",
    "                        config_instances=config_instances, repeat=1, is_GUI=True,\n",
    "                        counter_mode='analog', data_mode='ref_sub', relim_mode='tight')"
   ]
  },
  {
   "cell_type": "code",
   "execution_count": null,
   "id": "2b1b3669",
   "metadata": {},
   "outputs": [],
   "source": [
    "# default pulse sequence for rabi\n",
    "pulse.load_from_file('../src/Confocal_GUI/device/Rabi_pulse*')\n",
    "pulse.gui()"
   ]
  },
  {
   "cell_type": "code",
   "execution_count": null,
   "id": "d1c58cc1",
   "metadata": {},
   "outputs": [],
   "source": [
    "# fit and get Rabi frequency\n",
    "# or just hit 'fit' button in GUI\n",
    "_, popt = data_figure.rabi()"
   ]
  },
  {
   "cell_type": "markdown",
   "id": "9554375d",
   "metadata": {},
   "source": [
    "<h1 style=\"color: blue;\">Others</h1>"
   ]
  },
  {
   "cell_type": "code",
   "execution_count": null,
   "id": "c4e13d07",
   "metadata": {},
   "outputs": [],
   "source": [
    "help(ramsey)"
   ]
  },
  {
   "cell_type": "code",
   "execution_count": null,
   "id": "42e2693c",
   "metadata": {},
   "outputs": [],
   "source": [
    "help(spinecho)"
   ]
  },
  {
   "cell_type": "code",
   "execution_count": null,
   "id": "09a6c172",
   "metadata": {},
   "outputs": [],
   "source": [
    "help(t1)"
   ]
  },
  {
   "cell_type": "code",
   "execution_count": null,
   "id": "da51be70",
   "metadata": {},
   "outputs": [],
   "source": [
    "help(roduration)"
   ]
  }
 ],
 "metadata": {
  "kernelspec": {
   "display_name": "Python 3 (ipykernel)",
   "language": "python",
   "name": "python3"
  },
  "language_info": {
   "codemirror_mode": {
    "name": "ipython",
    "version": 3
   },
   "file_extension": ".py",
   "mimetype": "text/x-python",
   "name": "python",
   "nbconvert_exporter": "python",
   "pygments_lexer": "ipython3",
   "version": "3.7.7"
  }
 },
 "nbformat": 4,
 "nbformat_minor": 5
}
